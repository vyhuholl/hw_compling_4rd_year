{
  "nbformat": 4,
  "nbformat_minor": 0,
  "metadata": {
    "kernelspec": {
      "name": "python3",
      "display_name": "Python 3"
    },
    "language_info": {
      "codemirror_mode": {
        "name": "ipython",
        "version": 3
      },
      "file_extension": ".py",
      "mimetype": "text/x-python",
      "name": "python",
      "nbconvert_exporter": "python",
      "pygments_lexer": "ipython3",
      "version": "3.7.3"
    },
    "widgets": {
      "state": {},
      "version": "1.1.2"
    },
    "colab": {
      "name": "assignment_2.ipynb",
      "provenance": [],
      "collapsed_sections": []
    },
    "accelerator": "GPU"
  },
  "cells": [
    {
      "cell_type": "code",
      "metadata": {
        "id": "p97n9pnXVp6z",
        "colab_type": "code",
        "colab": {}
      },
      "source": [
        "from IPython.display import clear_output"
      ],
      "execution_count": 0,
      "outputs": []
    },
    {
      "cell_type": "code",
      "metadata": {
        "id": "p9ieUdo4VsF9",
        "colab_type": "code",
        "colab": {}
      },
      "source": [
        "!pip3 install pycodestyle flake8 pycodestyle_magic\n",
        "clear_output()"
      ],
      "execution_count": 0,
      "outputs": []
    },
    {
      "cell_type": "code",
      "metadata": {
        "id": "Q0pDWaWMWJn7",
        "colab_type": "code",
        "colab": {}
      },
      "source": [
        "%load_ext pycodestyle_magic"
      ],
      "execution_count": 0,
      "outputs": []
    },
    {
      "cell_type": "markdown",
      "metadata": {
        "id": "0-2mr1PmLdtI",
        "colab_type": "text"
      },
      "source": [
        "# Assignment 2"
      ]
    },
    {
      "cell_type": "markdown",
      "metadata": {
        "id": "LUUUTv-ELdtP",
        "colab_type": "text"
      },
      "source": [
        "Demostrate consequences of No Free Lunch Theorem: every model of machine learning makes **assumptions** about dataset properties. If the assumption fails, model perfoms badly. If the assumption is met, model perfoms good.\n",
        "\n",
        "For each of the tasks, described below:\n",
        "1. create a dataset to meet the description. For demonstration purposes, feature dimension size = 2    \n",
        "1. train the models and evaluate accuracy. (with a training pipeline, described in the seminar) \n",
        "1. Show which model is better.   \n",
        "1. Write what assumptions were used, and why model exibits such behavior.  \n",
        "1. Plot dataset to demonstrate its properties. (Scatter plot, classes with different colors)  \n",
        "\n",
        "\n",
        "Tasks:\n",
        "\n",
        "1. Create dataset for binary classification task (binary crossentropy), \n",
        "where k-NN perfoms **worse** than logistic regression\n",
        "\n",
        "2. Create dataset for binary classification task (binary crossentropy), \n",
        "where logistic regression perfoms **worse** than k-NN\n",
        "\n",
        "3. Create dataset for binary classification task (binary crossentropy), \n",
        "where k-NN with cosine distance perfoms **better** than k-NN with euclidean distance\n",
        "\n",
        "\n",
        "! If there is no explanation, why one model perfoms better than the other on your dataset, the task does not count.  \n",
        "! if the training pipeline is not used, the task does not count.  "
      ]
    },
    {
      "cell_type": "code",
      "metadata": {
        "id": "Zz9dUZy6LdtT",
        "colab_type": "code",
        "colab": {}
      },
      "source": [
        "import numpy as np\n",
        "import matplotlib as mpl\n",
        "import matplotlib.pyplot as plt\n",
        "from itertools import chain\n",
        "from warnings import filterwarnings\n",
        "from sklearn.pipeline import Pipeline\n",
        "from sklearn.datasets import make_blobs\n",
        "from sklearn.preprocessing import StandardScaler\n",
        "from sklearn.neighbors import KNeighborsClassifier\n",
        "from sklearn.linear_model import LogisticRegression\n",
        "from sklearn.model_selection import GridSearchCV\n",
        "from sklearn.model_selection import train_test_split"
      ],
      "execution_count": 0,
      "outputs": []
    },
    {
      "cell_type": "code",
      "metadata": {
        "id": "tA3Bm3Uxl2jD",
        "colab_type": "code",
        "colab": {}
      },
      "source": [
        "filterwarnings(\"ignore\")"
      ],
      "execution_count": 0,
      "outputs": []
    },
    {
      "cell_type": "code",
      "metadata": {
        "id": "FrsjspU_ZsVg",
        "colab_type": "code",
        "colab": {}
      },
      "source": [
        "mpl.rcParams['figure.figsize'] = [12.8, 9.6]\n",
        "mpl.rcParams['lines.markersize'] = 3\n",
        "\n",
        "color_map = mpl.colors.ListedColormap(['red', 'blue'])"
      ],
      "execution_count": 0,
      "outputs": []
    },
    {
      "cell_type": "code",
      "metadata": {
        "id": "57dh2VzHL--X",
        "colab_type": "code",
        "colab": {}
      },
      "source": [
        "regr_params = {'clf__penalty': ['l1', 'l2', 'none'],\n",
        "               'clf__C': np.arange(.01, 10.0, .01),\n",
        "               'clf__fit_intercept': [True, False],\n",
        "               'clf__solver': ['newton-cg', 'lbfgs',\n",
        "                               'liblinear', 'sag', 'saga'],\n",
        "               'clf__max_iter': np.arange(50, 500, 50)}\n",
        "\n",
        "knn_params = {'clf__n_neighbors': np.arange(1, 30),\n",
        "              'clf__weights': ['uniform', 'distance'],\n",
        "              'clf__algorithm': ['ball_tree', 'kd_tree', 'brute'],\n",
        "              'clf__leaf_size': np.arange(10, 100, 10)}"
      ],
      "execution_count": 0,
      "outputs": []
    },
    {
      "cell_type": "markdown",
      "metadata": {
        "id": "Hvwhx6DYrmLw",
        "colab_type": "text"
      },
      "source": [
        "####**1. Create dataset for binary classification task (binary crossentropy), where k-NN perfoms worse than logistic regression**\n",
        "\n",
        "При логистической регрессии мы предполагаем, что разделение данных на классы хорошо аппроксимируется прямой, а при методе k ближайших соседей – что объекты одного класса образуют между собой много кластеров, в которых не встречается объектов другого класса. Поэтому самый простой пример данных, на которых логистическая регрессия достигнет лучших результатов, чем метод k ближайших соседей – линейно разделимая выборка, в которой объекты одного класса не образуют между собой кластеров. Пример – две очень близкие друг к другу параллельные прямые, на каждой из которых лежат объекты соответствующего класса."
      ]
    },
    {
      "cell_type": "code",
      "metadata": {
        "id": "HZZgBxDMuKAb",
        "colab_type": "code",
        "colab": {}
      },
      "source": [
        "k, b = np.random.randint(1, 10), np.random.randint(10)\n",
        "X = np.array(list(chain.from_iterable(((x, x * k + b),\n",
        "                                       (x, x * k + b + 10.0)\n",
        "                                       ) for x in range(100))),\n",
        "             dtype=np.dtype(float))\n",
        "y = np.array(list(chain.from_iterable((0, 1) for x in range(100))))"
      ],
      "execution_count": 0,
      "outputs": []
    },
    {
      "cell_type": "code",
      "metadata": {
        "id": "BigBR9ZQ_kdb",
        "colab_type": "code",
        "outputId": "60e5279e-5d2c-4fad-9308-f921626032cf",
        "colab": {
          "base_uri": "https://localhost:8080/",
          "height": 586
        }
      },
      "source": [
        "plt.figure()\n",
        "plt.scatter(X[:, 0], X[:, 1], c=y, cmap=color_map)\n",
        "plt.title(\"Linear data\")\n",
        "plt.show()"
      ],
      "execution_count": 24,
      "outputs": [
        {
          "output_type": "display_data",
          "data": {
            "image/png": "[encoded data removed]",
            "text/plain": [
              "<Figure size 921.6x691.2 with 1 Axes>"
            ]
          },
          "metadata": {
            "tags": []
          }
        }
      ]
    },
    {
      "cell_type": "code",
      "metadata": {
        "id": "ZmD_zE4aYwtS",
        "colab_type": "code",
        "colab": {}
      },
      "source": [
        "X_train, X_test, y_train, y_test = train_test_split(X, y)"
      ],
      "execution_count": 0,
      "outputs": []
    },
    {
      "cell_type": "code",
      "metadata": {
        "id": "6xlliPrkBEsq",
        "colab_type": "code",
        "colab": {}
      },
      "source": [
        "LogRedPipeline = Pipeline([('scaler', StandardScaler()),\n",
        "                           ('clf', LogisticRegression())])\n",
        "\n",
        "KNeighborsPipeline = Pipeline([('scaler', StandardScaler()),\n",
        "                               ('clf', KNeighborsClassifier())])\n",
        "\n",
        "\n",
        "LogRegCV = GridSearchCV(LogRedPipeline, regr_params, n_jobs=-1,\n",
        "                        cv=5, verbose=1, error_score=-np.Inf)\n",
        "\n",
        "KNeighborsCV = GridSearchCV(KNeighborsPipeline, knn_params, n_jobs=-1,\n",
        "                            cv=5, verbose=1, error_score=-np.Inf)"
      ],
      "execution_count": 0,
      "outputs": []
    },
    {
      "cell_type": "code",
      "metadata": {
        "id": "tofn8GYPYqUl",
        "colab_type": "code",
        "outputId": "23bf7ccc-ab30-476f-8f81-c94deaff28e8",
        "colab": {
          "base_uri": "https://localhost:8080/",
          "height": 612
        }
      },
      "source": [
        "LogRegCV.fit(X_train, y_train)\n",
        "LogReg = LogRegCV.best_estimator_\n",
        "print(f\"Best parameters: {LogRegCV.best_params_}\")\n",
        "print(f\"Best mean accuracy on cross-validation: {LogRegCV.best_score_}\")\n",
        "print(f\"Test accuracy: {LogReg.score(X_test, y_test)}\")"
      ],
      "execution_count": 0,
      "outputs": [
        {
          "output_type": "stream",
          "text": [
            "Fitting 5 folds for each of 269730 candidates, totalling 1348650 fits\n"
          ],
          "name": "stdout"
        },
        {
          "output_type": "stream",
          "text": [
            "[Parallel(n_jobs=-1)]: Using backend LokyBackend with 2 concurrent workers.\n",
            "[Parallel(n_jobs=-1)]: Done 584 tasks      | elapsed:    4.0s\n",
            "[Parallel(n_jobs=-1)]: Done 5384 tasks      | elapsed:   21.7s\n",
            "[Parallel(n_jobs=-1)]: Done 13384 tasks      | elapsed:   50.4s\n",
            "[Parallel(n_jobs=-1)]: Done 24584 tasks      | elapsed:  1.5min\n",
            "[Parallel(n_jobs=-1)]: Done 38984 tasks      | elapsed:  2.4min\n",
            "[Parallel(n_jobs=-1)]: Done 56584 tasks      | elapsed:  3.4min\n",
            "[Parallel(n_jobs=-1)]: Done 77384 tasks      | elapsed:  4.6min\n",
            "[Parallel(n_jobs=-1)]: Done 101384 tasks      | elapsed:  6.1min\n",
            "[Parallel(n_jobs=-1)]: Done 128584 tasks      | elapsed:  7.7min\n",
            "[Parallel(n_jobs=-1)]: Done 158984 tasks      | elapsed:  9.5min\n",
            "[Parallel(n_jobs=-1)]: Done 192584 tasks      | elapsed: 11.6min\n",
            "[Parallel(n_jobs=-1)]: Done 229384 tasks      | elapsed: 14.2min\n",
            "[Parallel(n_jobs=-1)]: Done 269384 tasks      | elapsed: 17.0min\n",
            "[Parallel(n_jobs=-1)]: Done 312584 tasks      | elapsed: 20.2min\n",
            "[Parallel(n_jobs=-1)]: Done 358984 tasks      | elapsed: 23.5min\n",
            "[Parallel(n_jobs=-1)]: Done 408584 tasks      | elapsed: 27.1min\n",
            "[Parallel(n_jobs=-1)]: Done 461384 tasks      | elapsed: 31.0min\n",
            "[Parallel(n_jobs=-1)]: Done 517384 tasks      | elapsed: 35.1min\n",
            "[Parallel(n_jobs=-1)]: Done 576584 tasks      | elapsed: 39.5min\n",
            "[Parallel(n_jobs=-1)]: Done 638984 tasks      | elapsed: 44.0min\n",
            "[Parallel(n_jobs=-1)]: Done 704584 tasks      | elapsed: 48.8min\n",
            "[Parallel(n_jobs=-1)]: Done 773384 tasks      | elapsed: 53.9min\n",
            "[Parallel(n_jobs=-1)]: Done 845384 tasks      | elapsed: 59.3min\n",
            "[Parallel(n_jobs=-1)]: Done 920584 tasks      | elapsed: 64.9min\n",
            "[Parallel(n_jobs=-1)]: Done 998984 tasks      | elapsed: 70.8min\n",
            "[Parallel(n_jobs=-1)]: Done 1080584 tasks      | elapsed: 77.0min\n",
            "[Parallel(n_jobs=-1)]: Done 1165384 tasks      | elapsed: 83.4min\n",
            "[Parallel(n_jobs=-1)]: Done 1253384 tasks      | elapsed: 90.1min\n",
            "[Parallel(n_jobs=-1)]: Done 1344584 tasks      | elapsed: 97.0min\n",
            "[Parallel(n_jobs=-1)]: Done 1348650 out of 1348650 | elapsed: 97.3min finished\n"
          ],
          "name": "stderr"
        },
        {
          "output_type": "stream",
          "text": [
            "Best parameters: {'clf__C': 0.01, 'clf__fit_intercept': True, 'clf__max_iter': 50, 'clf__penalty': 'none', 'clf__solver': 'newton-cg'}\n",
            "Best mean accuracy on cross-validation: 1.0\n",
            "Test accuracy: 1.0\n"
          ],
          "name": "stdout"
        }
      ]
    },
    {
      "cell_type": "markdown",
      "metadata": {
        "id": "3M_zBapco9_S",
        "colab_type": "text"
      },
      "source": [
        "Логистическая регрессия справляется идеально."
      ]
    },
    {
      "cell_type": "code",
      "metadata": {
        "id": "JfsD-PAB-o-B",
        "colab_type": "code",
        "outputId": "265b0f70-bfbc-4cc3-f6e9-abd9c4e533a4",
        "colab": {
          "base_uri": "https://localhost:8080/",
          "height": 153
        }
      },
      "source": [
        "KNeighborsCV.fit(X_train, y_train)\n",
        "KNeighbors = KNeighborsCV.best_estimator_\n",
        "print(f\"Best parameters: {KNeighborsCV.best_params_}\")\n",
        "print(f\"Best mean accuracy on cross-validation: {KNeighborsCV.best_score_}\")\n",
        "print(f\"Test accuracy: {KNeighbors.score(X_test, y_test)}\")"
      ],
      "execution_count": 0,
      "outputs": [
        {
          "output_type": "stream",
          "text": [
            "Fitting 5 folds for each of 1512 candidates, totalling 7560 fits\n"
          ],
          "name": "stdout"
        },
        {
          "output_type": "stream",
          "text": [
            "[Parallel(n_jobs=-1)]: Using backend LokyBackend with 2 concurrent workers.\n",
            "[Parallel(n_jobs=-1)]: Done 584 tasks      | elapsed:    3.2s\n",
            "[Parallel(n_jobs=-1)]: Done 5384 tasks      | elapsed:   18.0s\n"
          ],
          "name": "stderr"
        },
        {
          "output_type": "stream",
          "text": [
            "Best parameters: {'clf__algorithm': 'ball_tree', 'clf__leaf_size': 10, 'clf__n_neighbors': 2, 'clf__weights': 'distance'}\n",
            "Best mean accuracy on cross-validation: 0.9066666666666666\n",
            "Test accuracy: 0.9\n"
          ],
          "name": "stdout"
        },
        {
          "output_type": "stream",
          "text": [
            "[Parallel(n_jobs=-1)]: Done 7560 out of 7560 | elapsed:   24.6s finished\n"
          ],
          "name": "stderr"
        }
      ]
    },
    {
      "cell_type": "markdown",
      "metadata": {
        "id": "0xbjO8v1tjG9",
        "colab_type": "text"
      },
      "source": [
        "А вот KNeighborsClassifier – уже чуть хуже."
      ]
    },
    {
      "cell_type": "markdown",
      "metadata": {
        "id": "4aPr9u2RuSgV",
        "colab_type": "text"
      },
      "source": [
        "####**2. Create dataset for binary classification task (binary crossentropy), where logistic regression perfoms worse than k-NN**\n",
        "С помощью **sklearn.datasets.make_blobs** сгенерируем линейно неразделимую выборку, в которой объекты одного класса будут образовывать между собой несколько кластеров."
      ]
    },
    {
      "cell_type": "code",
      "metadata": {
        "id": "bWZi_BaX3ZcC",
        "colab_type": "code",
        "colab": {}
      },
      "source": [
        "X, y = zip(*[make_blobs(centers=2) for i in range(4)])\n",
        "X = np.vstack(X)\n",
        "y = np.hstack(y)"
      ],
      "execution_count": 0,
      "outputs": []
    },
    {
      "cell_type": "code",
      "metadata": {
        "id": "k7Bsl1f4x6De",
        "colab_type": "code",
        "outputId": "f6384abe-b2fa-46c2-a61d-e2daf20b71de",
        "colab": {
          "base_uri": "https://localhost:8080/",
          "height": 586
        }
      },
      "source": [
        "plt.figure()\n",
        "plt.scatter(X[:, 0], X[:, 1], c=y, cmap=color_map)\n",
        "plt.title(\"Clustered data\")\n",
        "plt.show()"
      ],
      "execution_count": 26,
      "outputs": [
        {
          "output_type": "display_data",
          "data": {
            "image/png": "[encoded data removed]",
            "text/plain": [
              "<Figure size 921.6x691.2 with 1 Axes>"
            ]
          },
          "metadata": {
            "tags": []
          }
        }
      ]
    },
    {
      "cell_type": "code",
      "metadata": {
        "id": "bF-mRjyM5gCk",
        "colab_type": "code",
        "colab": {}
      },
      "source": [
        "X_train, X_test, y_train, y_test = train_test_split(X, y)"
      ],
      "execution_count": 0,
      "outputs": []
    },
    {
      "cell_type": "code",
      "metadata": {
        "id": "svus1YU45oLq",
        "colab_type": "code",
        "colab": {}
      },
      "source": [
        "LogRedPipeline = Pipeline([('scaler', StandardScaler()),\n",
        "                           ('clf', LogisticRegression())])\n",
        "\n",
        "KNeighborsPipeline = Pipeline([('scaler', StandardScaler()),\n",
        "                               ('clf', KNeighborsClassifier())])\n",
        "\n",
        "\n",
        "LogRegCV = GridSearchCV(LogRedPipeline, regr_params, n_jobs=-1,\n",
        "                        cv=5, verbose=1, error_score=-np.Inf)\n",
        "\n",
        "KNeighborsCV = GridSearchCV(KNeighborsPipeline, knn_params, n_jobs=-1,\n",
        "                            cv=5, verbose=1, error_score=-np.Inf)"
      ],
      "execution_count": 0,
      "outputs": []
    },
    {
      "cell_type": "code",
      "metadata": {
        "id": "opXiJOyt7OUL",
        "colab_type": "code",
        "outputId": "675b4a5a-2f60-4af9-b227-04f932abda3b",
        "colab": {
          "base_uri": "https://localhost:8080/",
          "height": 153
        }
      },
      "source": [
        "KNeighborsCV.fit(X_train, y_train)\n",
        "KNeighbors = KNeighborsCV.best_estimator_\n",
        "print(f\"Best parameters: {KNeighborsCV.best_params_}\")\n",
        "print(f\"Best mean accuracy on cross-validation: {KNeighborsCV.best_score_}\")\n",
        "print(f\"Test accuracy: {KNeighbors.score(X_test, y_test)}\")"
      ],
      "execution_count": 12,
      "outputs": [
        {
          "output_type": "stream",
          "text": [
            "Fitting 5 folds for each of 1566 candidates, totalling 7830 fits\n"
          ],
          "name": "stdout"
        },
        {
          "output_type": "stream",
          "text": [
            "[Parallel(n_jobs=-1)]: Using backend LokyBackend with 2 concurrent workers.\n",
            "[Parallel(n_jobs=-1)]: Done 584 tasks      | elapsed:    3.8s\n",
            "[Parallel(n_jobs=-1)]: Done 5384 tasks      | elapsed:   20.8s\n"
          ],
          "name": "stderr"
        },
        {
          "output_type": "stream",
          "text": [
            "Best parameters: {'clf__algorithm': 'ball_tree', 'clf__leaf_size': 10, 'clf__n_neighbors': 4, 'clf__weights': 'distance'}\n",
            "Best mean accuracy on cross-validation: 0.9666666666666667\n",
            "Test accuracy: 0.97\n"
          ],
          "name": "stdout"
        },
        {
          "output_type": "stream",
          "text": [
            "[Parallel(n_jobs=-1)]: Done 7830 out of 7830 | elapsed:   29.6s finished\n"
          ],
          "name": "stderr"
        }
      ]
    },
    {
      "cell_type": "markdown",
      "metadata": {
        "id": "cGwyc6887ha-",
        "colab_type": "text"
      },
      "source": [
        "Как и ожидалось, KNeighborsClassifier с такими данными справляется очень хорошо."
      ]
    },
    {
      "cell_type": "code",
      "metadata": {
        "id": "6SrjtteB72kp",
        "colab_type": "code",
        "outputId": "8fcf8bd7-1579-4a05-9911-c11b925519b3",
        "colab": {
          "base_uri": "https://localhost:8080/",
          "height": 612
        }
      },
      "source": [
        "LogRegCV.fit(X_train, y_train)\n",
        "LogReg = LogRegCV.best_estimator_\n",
        "print(f\"Best parameters: {LogRegCV.best_params_}\")\n",
        "print(f\"Best mean accuracy on cross-validation: {LogRegCV.best_score_}\")\n",
        "print(f\"Test accuracy: {LogReg.score(X_test, y_test)}\")"
      ],
      "execution_count": 13,
      "outputs": [
        {
          "output_type": "stream",
          "text": [
            "Fitting 5 folds for each of 269730 candidates, totalling 1348650 fits\n"
          ],
          "name": "stdout"
        },
        {
          "output_type": "stream",
          "text": [
            "[Parallel(n_jobs=-1)]: Using backend LokyBackend with 2 concurrent workers.\n",
            "[Parallel(n_jobs=-1)]: Done 522 tasks      | elapsed:    3.0s\n",
            "[Parallel(n_jobs=-1)]: Done 5322 tasks      | elapsed:   17.5s\n",
            "[Parallel(n_jobs=-1)]: Done 13322 tasks      | elapsed:   41.2s\n",
            "[Parallel(n_jobs=-1)]: Done 24522 tasks      | elapsed:  1.2min\n",
            "[Parallel(n_jobs=-1)]: Done 38922 tasks      | elapsed:  2.0min\n",
            "[Parallel(n_jobs=-1)]: Done 56522 tasks      | elapsed:  2.9min\n",
            "[Parallel(n_jobs=-1)]: Done 77322 tasks      | elapsed:  3.9min\n",
            "[Parallel(n_jobs=-1)]: Done 101322 tasks      | elapsed:  5.1min\n",
            "[Parallel(n_jobs=-1)]: Done 128522 tasks      | elapsed:  6.5min\n",
            "[Parallel(n_jobs=-1)]: Done 158922 tasks      | elapsed:  8.1min\n",
            "[Parallel(n_jobs=-1)]: Done 192522 tasks      | elapsed:  9.8min\n",
            "[Parallel(n_jobs=-1)]: Done 229322 tasks      | elapsed: 11.7min\n",
            "[Parallel(n_jobs=-1)]: Done 269322 tasks      | elapsed: 13.7min\n",
            "[Parallel(n_jobs=-1)]: Done 312522 tasks      | elapsed: 16.0min\n",
            "[Parallel(n_jobs=-1)]: Done 358922 tasks      | elapsed: 18.3min\n",
            "[Parallel(n_jobs=-1)]: Done 408522 tasks      | elapsed: 20.9min\n",
            "[Parallel(n_jobs=-1)]: Done 461322 tasks      | elapsed: 23.6min\n",
            "[Parallel(n_jobs=-1)]: Done 517322 tasks      | elapsed: 26.5min\n",
            "[Parallel(n_jobs=-1)]: Done 576522 tasks      | elapsed: 29.5min\n",
            "[Parallel(n_jobs=-1)]: Done 638922 tasks      | elapsed: 32.7min\n",
            "[Parallel(n_jobs=-1)]: Done 704522 tasks      | elapsed: 36.1min\n",
            "[Parallel(n_jobs=-1)]: Done 773322 tasks      | elapsed: 39.7min\n",
            "[Parallel(n_jobs=-1)]: Done 845322 tasks      | elapsed: 43.4min\n",
            "[Parallel(n_jobs=-1)]: Done 920522 tasks      | elapsed: 47.2min\n",
            "[Parallel(n_jobs=-1)]: Done 998922 tasks      | elapsed: 51.3min\n",
            "[Parallel(n_jobs=-1)]: Done 1080522 tasks      | elapsed: 55.5min\n",
            "[Parallel(n_jobs=-1)]: Done 1165322 tasks      | elapsed: 59.9min\n",
            "[Parallel(n_jobs=-1)]: Done 1253322 tasks      | elapsed: 64.4min\n",
            "[Parallel(n_jobs=-1)]: Done 1344522 tasks      | elapsed: 69.1min\n",
            "[Parallel(n_jobs=-1)]: Done 1348650 out of 1348650 | elapsed: 69.3min finished\n"
          ],
          "name": "stderr"
        },
        {
          "output_type": "stream",
          "text": [
            "Best parameters: {'clf__C': 0.01, 'clf__fit_intercept': True, 'clf__max_iter': 50, 'clf__penalty': 'l2', 'clf__solver': 'newton-cg'}\n",
            "Best mean accuracy on cross-validation: 0.8566666666666667\n",
            "Test accuracy: 0.87\n"
          ],
          "name": "stdout"
        }
      ]
    },
    {
      "cell_type": "markdown",
      "metadata": {
        "id": "L91Zr8g9hYzp",
        "colab_type": "text"
      },
      "source": [
        "А вот логистическая регрессия – уже хуже."
      ]
    },
    {
      "cell_type": "markdown",
      "metadata": {
        "id": "FxBt_ZjEiYYW",
        "colab_type": "text"
      },
      "source": [
        "####**3. Create dataset for binary classification task (binary crossentropy), where k-NN with cosine distance perfoms better than k-NN with euclidean distance**"
      ]
    },
    {
      "cell_type": "markdown",
      "metadata": {
        "id": "24s2xbEqi8ST",
        "colab_type": "text"
      },
      "source": [
        "Евклидовое расстояние учитывает расположение точек на плоскости, а косинусное – только угол между точками. Соответственно, чтобы косинусная мера дала лучший результат, чем евклидова, точки разных классов должны находиться достаточно близко друг к другу, но при этом лежать на разнонаправленных векторах. Самый простой пример такой выборки – две очень близкие друг к другу **не** параллельные прямые, на каждой из которых лежат объекты соответствующего класса, причём чем ближе к центру пересечения, тем более плотно расположены точки (воспользуемся нормальным распределением)."
      ]
    },
    {
      "cell_type": "code",
      "metadata": {
        "id": "qYRwKf_3kvnZ",
        "colab_type": "code",
        "colab": {}
      },
      "source": [
        "k, b = np.random.randint(1, 10), np.random.randint(10)\n",
        "k_diff = np.random.sample() - 0.5\n",
        "X = np.array(list(chain.from_iterable(((x, x * k + b),\n",
        "                                       (x, x * (k + k_diff) + b)\n",
        "                                       ) for x in np.random.normal(\n",
        "                                           0, 1, size=(1000,)))),\n",
        "             dtype=np.dtype(float))\n",
        "y = np.array(list(chain.from_iterable((0, 1) for x in range(1000))))"
      ],
      "execution_count": 0,
      "outputs": []
    },
    {
      "cell_type": "code",
      "metadata": {
        "id": "O80gqlPznRxQ",
        "colab_type": "code",
        "colab": {
          "base_uri": "https://localhost:8080/",
          "height": 586
        },
        "outputId": "dd9ec143-3a17-4af6-f8d4-71ea009eea75"
      },
      "source": [
        "plt.figure()\n",
        "plt.scatter(X[:, 0], X[:, 1], c=y, cmap=color_map)\n",
        "plt.title(\"Linear data (non-parallel lines)\")\n",
        "plt.show()"
      ],
      "execution_count": 60,
      "outputs": [
        {
          "output_type": "display_data",
          "data": {
            "image/png": "[encoded data removed]",
            "text/plain": [
              "<Figure size 921.6x691.2 with 1 Axes>"
            ]
          },
          "metadata": {
            "tags": []
          }
        }
      ]
    },
    {
      "cell_type": "code",
      "metadata": {
        "id": "h5CsnT5uqtzc",
        "colab_type": "code",
        "colab": {}
      },
      "source": [
        "X_train, X_test, y_train, y_test = train_test_split(X, y)"
      ],
      "execution_count": 0,
      "outputs": []
    },
    {
      "cell_type": "code",
      "metadata": {
        "id": "B_XfBbF2peeL",
        "colab_type": "code",
        "colab": {}
      },
      "source": [
        "KNNEuclPipeline = Pipeline([('scaler', StandardScaler()),\n",
        "                            ('clf', KNeighborsClassifier())])\n",
        "\n",
        "KNNCosPipeline = Pipeline([('scaler', StandardScaler()),\n",
        "                           ('clf', KNeighborsClassifier(metric='cosine'))])\n",
        "\n",
        "\n",
        "KNNEuclCV = GridSearchCV(KNNEuclPipeline, knn_params, n_jobs=-1,\n",
        "                         cv=10, verbose=1, error_score=-np.Inf)\n",
        "\n",
        "KNNCosCV = GridSearchCV(KNNCosPipeline, knn_params, n_jobs=-1,\n",
        "                        cv=10, verbose=1, error_score=-np.Inf)"
      ],
      "execution_count": 0,
      "outputs": []
    },
    {
      "cell_type": "code",
      "metadata": {
        "id": "yC0SQ_Pgtemd",
        "colab_type": "code",
        "colab": {
          "base_uri": "https://localhost:8080/",
          "height": 153
        },
        "outputId": "0d1b1b00-e47f-4363-e3da-90041daead70"
      },
      "source": [
        "KNNCosCV.fit(X_train, y_train)\n",
        "KNNCos = KNNCosCV.best_estimator_\n",
        "print(f\"Best parameters: {KNNCosCV.best_params_}\")\n",
        "print(f\"Best mean accuracy on cross-validation: {KNNCosCV.best_score_}\")\n",
        "print(f\"Test accuracy: {KNNCos.score(X_test, y_test)}\")"
      ],
      "execution_count": 63,
      "outputs": [
        {
          "output_type": "stream",
          "text": [
            "Fitting 10 folds for each of 1566 candidates, totalling 15660 fits\n"
          ],
          "name": "stdout"
        },
        {
          "output_type": "stream",
          "text": [
            "[Parallel(n_jobs=-1)]: Using backend LokyBackend with 2 concurrent workers.\n",
            "[Parallel(n_jobs=-1)]: Done 904 tasks      | elapsed:    3.6s\n",
            "[Parallel(n_jobs=-1)]: Done 10504 tasks      | elapsed:   25.6s\n"
          ],
          "name": "stderr"
        },
        {
          "output_type": "stream",
          "text": [
            "Best parameters: {'clf__algorithm': 'brute', 'clf__leaf_size': 10, 'clf__n_neighbors': 3, 'clf__weights': 'uniform'}\n",
            "Best mean accuracy on cross-validation: 0.98\n",
            "Test accuracy: 0.986\n"
          ],
          "name": "stdout"
        },
        {
          "output_type": "stream",
          "text": [
            "[Parallel(n_jobs=-1)]: Done 15660 out of 15660 | elapsed:  1.1min finished\n"
          ],
          "name": "stderr"
        }
      ]
    },
    {
      "cell_type": "code",
      "metadata": {
        "id": "_uiCiba3q6ZV",
        "colab_type": "code",
        "colab": {
          "base_uri": "https://localhost:8080/",
          "height": 187
        },
        "outputId": "3e9cf83b-25c9-45ad-9930-483585c015e1"
      },
      "source": [
        "KNNEuclCV.fit(X_train, y_train)\n",
        "KNNEucl = KNNEuclCV.best_estimator_\n",
        "print(f\"Best parameters: {KNNEuclCV.best_params_}\")\n",
        "print(f\"Best mean accuracy on cross-validation: {KNNEuclCV.best_score_}\")\n",
        "print(f\"Test accuracy: {KNNEucl.score(X_test, y_test)}\")"
      ],
      "execution_count": 64,
      "outputs": [
        {
          "output_type": "stream",
          "text": [
            "Fitting 10 folds for each of 1566 candidates, totalling 15660 fits\n"
          ],
          "name": "stdout"
        },
        {
          "output_type": "stream",
          "text": [
            "[Parallel(n_jobs=-1)]: Using backend LokyBackend with 2 concurrent workers.\n",
            "[Parallel(n_jobs=-1)]: Done 330 tasks      | elapsed:    3.3s\n",
            "[Parallel(n_jobs=-1)]: Done 2730 tasks      | elapsed:   18.1s\n",
            "[Parallel(n_jobs=-1)]: Done 6730 tasks      | elapsed:   42.9s\n",
            "[Parallel(n_jobs=-1)]: Done 12330 tasks      | elapsed:  1.3min\n"
          ],
          "name": "stderr"
        },
        {
          "output_type": "stream",
          "text": [
            "Best parameters: {'clf__algorithm': 'ball_tree', 'clf__leaf_size': 10, 'clf__n_neighbors': 1, 'clf__weights': 'uniform'}\n",
            "Best mean accuracy on cross-validation: 0.944\n",
            "Test accuracy: 0.942\n"
          ],
          "name": "stdout"
        },
        {
          "output_type": "stream",
          "text": [
            "[Parallel(n_jobs=-1)]: Done 15660 out of 15660 | elapsed:  1.7min finished\n"
          ],
          "name": "stderr"
        }
      ]
    },
    {
      "cell_type": "markdown",
      "metadata": {
        "id": "qNBm3lD3EHDK",
        "colab_type": "text"
      },
      "source": [
        "Действительно, на таких данных евклидова мера работает немного хуже косинусной."
      ]
    },
    {
      "cell_type": "code",
      "metadata": {
        "id": "6JN6FgSGqduM",
        "colab_type": "code",
        "colab": {}
      },
      "source": [
        ""
      ],
      "execution_count": 0,
      "outputs": []
    }
  ]
}