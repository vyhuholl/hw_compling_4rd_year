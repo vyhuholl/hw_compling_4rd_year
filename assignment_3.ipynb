{
  "nbformat": 4,
  "nbformat_minor": 0,
  "metadata": {
    "kernelspec": {
      "name": "python3",
      "display_name": "Python 3"
    },
    "language_info": {
      "codemirror_mode": {
        "name": "ipython",
        "version": 3
      },
      "file_extension": ".py",
      "mimetype": "text/x-python",
      "name": "python",
      "nbconvert_exporter": "python",
      "pygments_lexer": "ipython3",
      "version": "3.7.5"
    },
    "colab": {
      "name": "assignment_3.ipynb",
      "provenance": [],
      "collapsed_sections": []
    },
    "accelerator": "GPU"
  },
  "cells": [
    {
      "cell_type": "code",
      "metadata": {
        "id": "Ftsyv5FoHiLP",
        "colab_type": "code",
        "colab": {}
      },
      "source": [
        "from IPython.display import clear_output"
      ],
      "execution_count": 0,
      "outputs": []
    },
    {
      "cell_type": "code",
      "metadata": {
        "id": "Eirv2veDHkP-",
        "colab_type": "code",
        "colab": {}
      },
      "source": [
        "!pip3 install pycodestyle flake8 pycodestyle_magic\n",
        "clear_output()"
      ],
      "execution_count": 0,
      "outputs": []
    },
    {
      "cell_type": "code",
      "metadata": {
        "id": "bWB-HoONHkne",
        "colab_type": "code",
        "colab": {}
      },
      "source": [
        "%load_ext pycodestyle_magic"
      ],
      "execution_count": 0,
      "outputs": []
    },
    {
      "cell_type": "markdown",
      "metadata": {
        "id": "TmCPWrrQHSwC",
        "colab_type": "text"
      },
      "source": [
        "# Assignment 3\n",
        "\n",
        "1. Implement Logistic Regression with Stochastic Gradient Decent using numpy\n",
        "1. Implement Logistic Regression with early stopping using pytorch\n",
        "\n",
        "Additional readings:\n",
        "1. https://www.pythonlikeyoumeanit.com/Module3_IntroducingNumpy/VectorizedOperations.html\n",
        "1. https://pytorch.org/tutorials/beginner/deep_learning_60min_blitz.html"
      ]
    },
    {
      "cell_type": "code",
      "metadata": {
        "id": "4HZabt9eHSwJ",
        "colab_type": "code",
        "outputId": "35b6ed52-cb22-4362-b957-ba032aed376d",
        "colab": {
          "base_uri": "https://localhost:8080/",
          "height": 51
        }
      },
      "source": [
        "import numpy as np\n",
        "import matplotlib.pyplot as plt\n",
        "from sklearn.base import ClassifierMixin\n",
        "from sklearn.datasets import fetch_20newsgroups\n",
        "from sklearn import metrics\n",
        "import matplotlib.pyplot as plt\n",
        "from sklearn.feature_extraction.text import TfidfVectorizer\n",
        "\n",
        "# retrieve dataset\n",
        "data = fetch_20newsgroups()\n",
        "\n",
        "\n",
        "X_train = data['data']\n",
        "y_train = data['target']\n",
        "\n",
        "tfidf = TfidfVectorizer(max_df=0.5, min_df=10)\n",
        "X_train = tfidf.fit_transform(X_train)\n",
        "\n",
        "test_data = fetch_20newsgroups(subset='test')\n",
        "X_test = tfidf.transform(test_data['data'])\n",
        "y_test = test_data['target']"
      ],
      "execution_count": 4,
      "outputs": [
        {
          "output_type": "stream",
          "text": [
            "Downloading 20news dataset. This may take a few minutes.\n",
            "Downloading dataset from https://ndownloader.figshare.com/files/5975967 (14 MB)\n"
          ],
          "name": "stderr"
        }
      ]
    },
    {
      "cell_type": "markdown",
      "metadata": {
        "id": "3icDZPGTHSwW",
        "colab_type": "text"
      },
      "source": [
        "## 1 Binary Logistic Regression\n",
        "$\\{(x_i, y_i)\\}_{i=1}^N$, $y \\in \\{0,1\\}$\n",
        "$$ z = Xw + b $$\n",
        "\n",
        "$$p(y=1 | x) = \\sigma(z) = \\frac 1 {1 + e^{-z}}$$\n",
        "\n",
        "$$ L_{batch} = - \\frac 1 {|batch|} \\sum_{i \\in batch}^N [ y_i \\log \\sigma(z_i) + (1 - y_i) \\log (1 - \\sigma(z_i)) ] + \\frac \\lambda 2 w^T w$$\n",
        "\n",
        "Stochastic Gradient Decent for logreg:\n",
        "1. init w ~ random N(0,1), b = 0\n",
        "1. for epoch = 1..n_epochs:\n",
        "    * shuffle dataset\n",
        "    * for every batch:\n",
        "        * $w^{(t)} \\leftarrow w^{(t-1)} - \\alpha \\nabla_{w} L_{batch}(w^{(t-1)},b^{(t-1)})$\n",
        "        * $b^{(t)} \\leftarrow b^{(t-1)} - \\alpha \\nabla_{b} L_{batch}(w^{(t-1)},b^{(t-1)})$\n",
        "        \n",
        "$w$ - weights  \n",
        "$b$ - biases  \n",
        "$\\alpha$ - learning rate\n",
        "\n",
        "Hint:\n",
        "$$\\nabla_w L = \\frac {\\partial L} {\\partial \\sigma} \\frac {\\partial \\sigma} {\\partial z} \\frac {\\partial z} {\\partial w} + \\frac {\\partial (\\frac \\lambda 2 w^T w)} {\\partial w} $$\n",
        "$$\\nabla_b L = \\frac {\\partial L} {\\partial \\sigma} \\frac {\\partial \\sigma} {\\partial z} \\frac {\\partial z} {\\partial b} $$"
      ]
    },
    {
      "cell_type": "code",
      "metadata": {
        "id": "9WZQ-idTHSwY",
        "colab_type": "code",
        "outputId": "0ad38689-824d-42f9-97d0-48e591fbeb53",
        "colab": {
          "base_uri": "https://localhost:8080/",
          "height": 34
        }
      },
      "source": [
        "# make dataset for binary classification\n",
        "\n",
        "X_train_bin = X_train[y_train < 2]\n",
        "y_train_bin = y_train[y_train < 2]\n",
        "\n",
        "X_test_bin = X_test[y_test < 2]\n",
        "y_test_bin = y_test[y_test < 2]\n",
        "\n",
        "y_train_bin.shape, y_test_bin.shape"
      ],
      "execution_count": 5,
      "outputs": [
        {
          "output_type": "execute_result",
          "data": {
            "text/plain": [
              "((1064,), (708,))"
            ]
          },
          "metadata": {
            "tags": []
          },
          "execution_count": 5
        }
      ]
    },
    {
      "cell_type": "code",
      "metadata": {
        "id": "95KVlusyO7Aj",
        "colab_type": "code",
        "colab": {}
      },
      "source": [
        "from scipy.special import expit\n",
        "# функцию сигмоиды взяла из scipy,\n",
        "# потому что обычная при некоторых значениях\n",
        "# выдаёт ошибку \"overflow encountered in exp\",\n",
        "# на корректность решения это не влияет"
      ],
      "execution_count": 0,
      "outputs": []
    },
    {
      "cell_type": "code",
      "metadata": {
        "id": "JS6ZDuFeHSwl",
        "colab_type": "code",
        "outputId": "6435352f-6996-4dfd-88a8-e7b5390c3505",
        "colab": {
          "base_uri": "https://localhost:8080/",
          "height": 313
        }
      },
      "source": [
        "class LogRegNumpy(ClassifierMixin):\n",
        "    def __init__(self, llambda=1, lr=0.1, batch_size=32, n_epochs=100):\n",
        "        \"\"\"\n",
        "        llambda: regularization strength\n",
        "        lr: learning rate\n",
        "        \"\"\"\n",
        "        self.w = None\n",
        "        self.b = 0\n",
        "        self.llambda = llambda\n",
        "        self.n_epochs = n_epochs\n",
        "        self.lr = lr\n",
        "        self.history = []\n",
        "        self.batch_size = batch_size\n",
        "\n",
        "    def fit(self, X, y):\n",
        "        self.w = np.random.randn(X.shape[1])\n",
        "        self.b = 0\n",
        "\n",
        "        for epoch in range(self.n_epochs):\n",
        "\n",
        "            # random permutation over indices of dataset\n",
        "            batch_indices = np.random.permutation(len(y))\n",
        "\n",
        "            for j in range(0, len(y), self.batch_size):\n",
        "                batch_idx = batch_indices[j:j+self.batch_size]\n",
        "                batch_X = X[batch_idx]\n",
        "                batch_y = y[batch_idx]\n",
        "\n",
        "                # forward pass\n",
        "                # <TODO> [1 point] calculate batch loss\n",
        "                h1 = batch_X @ self.w + self.b\n",
        "                loss = -np.sum(batch_y * np.log(expit(h1)) +\n",
        "                               (1 - batch_y) * np.log(1 - expit(h1))\n",
        "                               ) / self.batch_size + (\n",
        "                                   self.llambda / 2) * (self.w.T @ self.w)\n",
        "\n",
        "                # backward pass\n",
        "                # <TODO> [2 points] calculate batch gradients\n",
        "                loss_delta = expit(h1) - batch_y\n",
        "                grad_w = (batch_X.T @ loss_delta.T\n",
        "                          ) / self.batch_size + self.llambda * self.w\n",
        "                grad_b = np.sum(loss_delta) / self.batch_size\n",
        "\n",
        "                # SGD optimization step\n",
        "                # <TODO> [1 point]\n",
        "                self.w -= self.lr * grad_w\n",
        "                self.b -= self.lr * grad_b\n",
        "\n",
        "                self.history.append(loss)\n",
        "\n",
        "        return self\n",
        "\n",
        "    def predict_proba(self, X):\n",
        "        # <TODO> [1 point] calculate p(y=1 | x)\n",
        "        h1 = X @ self.w + self.b\n",
        "        p = expit(h1)\n",
        "        return p\n",
        "\n",
        "    def predict(self, X):\n",
        "        return (self.predict_proba(X) > 0.5).astype(np.int)\n",
        "\n",
        "\n",
        "model = LogRegNumpy(llambda=0.001, lr=3, batch_size=128, n_epochs=100)\n",
        "model.fit(X_train_bin, y_train_bin)\n",
        "print('auc', metrics.roc_auc_score(y_test_bin,\n",
        "                                   model.predict_proba(X_test_bin)))\n",
        "\n",
        "plt.plot(np.arange(len(model.history)), model.history)\n",
        "plt.xlabel('iters')\n",
        "plt.ylabel('train loss')"
      ],
      "execution_count": 20,
      "outputs": [
        {
          "output_type": "stream",
          "text": [
            "auc 0.9966315042992642\n"
          ],
          "name": "stdout"
        },
        {
          "output_type": "execute_result",
          "data": {
            "text/plain": [
              "Text(0, 0.5, 'train loss')"
            ]
          },
          "metadata": {
            "tags": []
          },
          "execution_count": 20
        },
        {
          "output_type": "display_data",
          "data": {
            "image/png": "[encoded data removed]",
            "text/plain": [
              "<Figure size 432x288 with 1 Axes>"
            ]
          },
          "metadata": {
            "tags": []
          }
        }
      ]
    },
    {
      "cell_type": "markdown",
      "metadata": {
        "id": "Xj4HZqUZHSwt",
        "colab_type": "text"
      },
      "source": [
        "# Multinomial Logistic Regression using pytorch"
      ]
    },
    {
      "cell_type": "code",
      "metadata": {
        "id": "w4JeEorhHSwu",
        "colab_type": "code",
        "colab": {}
      },
      "source": [
        "import torch\n",
        "import torch.nn as nn\n",
        "import torch.optim as optim\n",
        "import torch.nn.functional as F\n",
        "from torch.utils.data import DataLoader, TensorDataset\n",
        "from tqdm import tqdm_notebook as tqdm\n",
        "from sklearn.model_selection import train_test_split"
      ],
      "execution_count": 0,
      "outputs": []
    },
    {
      "cell_type": "markdown",
      "metadata": {
        "id": "M9EMngZjHSw1",
        "colab_type": "text"
      },
      "source": [
        "###  [1 point] implement linear model $Z = XW + b$"
      ]
    },
    {
      "cell_type": "code",
      "metadata": {
        "id": "n3vz5vkRHSw3",
        "colab_type": "code",
        "colab": {}
      },
      "source": [
        "class LogRegNN(nn.Module):\n",
        "\n",
        "    def __init__(self, n_features, n_classes):\n",
        "        super(LogRegNN, self).__init__()\n",
        "\n",
        "        # create tensor of weights and tensor of biases\n",
        "        # initialize tensors from N(0,1)\n",
        "        # W has shape (n_features, n_classes)\n",
        "        # b has shape (n_classes,)\n",
        "        self.W = nn.Parameter(torch.randn(n_features, n_classes))\n",
        "        self.b = nn.Parameter(torch.randn(n_classes))\n",
        "        self.linear = nn.Linear(in_features=n_features, out_features=n_classes)\n",
        "\n",
        "    def forward(self, x):\n",
        "        \"\"\"\n",
        "        In this method we implement connections between neural network weights\n",
        "        x: batch feature matrix\n",
        "        returns: probability logits\n",
        "        \"\"\"\n",
        "        # <TODO> implement linear model\n",
        "        result = F.log_softmax(self.linear(x), dim=1)\n",
        "        return result"
      ],
      "execution_count": 0,
      "outputs": []
    },
    {
      "cell_type": "code",
      "metadata": {
        "id": "O48uuyJ0HSw6",
        "colab_type": "code",
        "colab": {}
      },
      "source": [
        "def train_batch(model, batch_x, batch_y):\n",
        "    # set NN model in training mode\n",
        "    model.train()\n",
        "    \n",
        "    # zero gradients\n",
        "    optimizer.zero_grad()\n",
        "    # forward pass\n",
        "    pred = model(batch_x)\n",
        "    # cross-entropy loss\n",
        "    loss = criterion(pred, batch_y)\n",
        "    # calculate gradients\n",
        "    loss.backward()\n",
        "    # make optimization step\n",
        "    optimizer.step()\n",
        "    \n",
        "    # return batch loss\n",
        "    return loss.data.detach().item()\n",
        "\n",
        "def eval_batch(model, batch_x, batch_y):\n",
        "    # set NN model in evaluation mode\n",
        "    model.eval()\n",
        "    \n",
        "    with torch.no_grad():\n",
        "        # forward pass\n",
        "        pred = model(batch_x)\n",
        "        # cross-entropy loss\n",
        "        loss = criterion(pred, batch_y)\n",
        "\n",
        "    # return batch loss\n",
        "    return loss.data.item()"
      ],
      "execution_count": 0,
      "outputs": []
    },
    {
      "cell_type": "markdown",
      "metadata": {
        "id": "x_4nYcIpHSw8",
        "colab_type": "text"
      },
      "source": [
        "### [2 points] implement early stopping using early_stopping_patience"
      ]
    },
    {
      "cell_type": "code",
      "metadata": {
        "id": "NNkPGBYrHSw9",
        "colab_type": "code",
        "colab": {}
      },
      "source": [
        "def train(model, train_loader, valid_loader,\n",
        "          n_epochs, early_stopping_patience=5):\n",
        "    \"\"\"\n",
        "    early_stopping_patience - number of consecutive epochs\n",
        "    of growing validation loss to wait\n",
        "    \"\"\"\n",
        "    history = {'train': [], 'valid': []}\n",
        "\n",
        "    # <TODO> implement early stopping using early_stopping_patience\n",
        "    counter = 0\n",
        "    best_score = None\n",
        "    for epoch in range(n_epochs):\n",
        "        epoch_train_loss = 0\n",
        "\n",
        "        # iterate over batches\n",
        "        for batch_x, batch_y in tqdm(train_loader,\n",
        "                                     desc=f'epoch:{epoch}', leave=True):\n",
        "\n",
        "            loss = train_batch(model, batch_x, batch_y)\n",
        "            epoch_train_loss += loss\n",
        "\n",
        "        # average loss for epoch\n",
        "        epoch_train_loss /= len(train_loader)\n",
        "        history['train'].append(epoch_train_loss)\n",
        "\n",
        "        epoch_valid_loss = 0\n",
        "        for batch_x, batch_y in valid_loader:\n",
        "            loss = eval_batch(model, batch_x, batch_y)\n",
        "            epoch_valid_loss += loss\n",
        "\n",
        "        epoch_valid_loss /= len(valid_loader)\n",
        "        print(f'train loss: {epoch_train_loss:.3f}' +\n",
        "              f'valid loss:{epoch_valid_loss:.3f}')\n",
        "        history['valid'].append(epoch_valid_loss)\n",
        "\n",
        "        # <TODO> implement early stopping using early_stopping_patience\n",
        "        if best_score is None:\n",
        "            best_score = epoch_valid_loss\n",
        "        if epoch_valid_loss > best_score:\n",
        "            best_score = epoch_valid_loss\n",
        "            counter += 1\n",
        "            if counter > early_stopping_patience:\n",
        "                break\n",
        "    return history"
      ],
      "execution_count": 0,
      "outputs": []
    },
    {
      "cell_type": "markdown",
      "metadata": {
        "id": "JITKq_TWHSw_",
        "colab_type": "text"
      },
      "source": [
        "### predict hard labels [1 point]"
      ]
    },
    {
      "cell_type": "code",
      "metadata": {
        "id": "g1UTo1c6HSxA",
        "colab_type": "code",
        "colab": {}
      },
      "source": [
        "def predict(model, test_loader):\n",
        "\n",
        "    model.eval()\n",
        "\n",
        "    result = []\n",
        "    with torch.no_grad():\n",
        "        for batch_x in test_loader:\n",
        "            # <TODO> predict hard labels\n",
        "            pred = np.argmax(torch.exp(model(batch_x)) /\n",
        "                             torch.exp(model(batch_x)).sum(), axis=1)\n",
        "            result.append(pred)\n",
        "    return np.concatenate(result)"
      ],
      "execution_count": 0,
      "outputs": []
    },
    {
      "cell_type": "markdown",
      "metadata": {
        "id": "SKKGEaSzHSxC",
        "colab_type": "text"
      },
      "source": [
        "DataLoader implements iteration over batches and shuffling\n",
        "\n",
        "L2 regularization coef is embedded into SGD.weight_decay: \n",
        "\n",
        "1. $w^{(t-1)} \\leftarrow w^{(t-2)} - \\alpha \\lambda w^{(t-2)} $  \n",
        "1. $w^{(t)} \\leftarrow w^{(t-1)} - \\alpha \\nabla_{w} L(w^{(t-1)}) $\n",
        "\n",
        "here   \n",
        "$\\alpha$ - learning rate  \n",
        "$\\lambda$ - weight-decay = L2 regularization coef"
      ]
    },
    {
      "cell_type": "code",
      "metadata": {
        "id": "0iDSQyziHSxC",
        "colab_type": "code",
        "outputId": "1aac9ad6-2d05-4229-d4db-a78937e204db",
        "colab": {
          "base_uri": "https://localhost:8080/",
          "height": 1000
        }
      },
      "source": [
        "X_train2, X_valid2, y_train2, y_valid2 = train_test_split(X_train, y_train, stratify=y_train,\n",
        "                                                      shuffle=True, test_size=0.2, random_state=42)\n",
        "\n",
        "batch_size = 256\n",
        "\n",
        "\n",
        "train_loader = DataLoader(TensorDataset(torch.tensor(X_train2.todense()).float(), torch.tensor(y_train2).long()), \n",
        "                          batch_size=batch_size, shuffle=True)\n",
        "valid_loader = DataLoader(TensorDataset(torch.tensor(X_valid2.todense()).float(), torch.tensor(y_valid2).long()), \n",
        "                          batch_size=batch_size)\n",
        "test_loader = DataLoader(torch.tensor(X_test.todense()).float(), \n",
        "                          batch_size=batch_size)\n",
        "\n",
        "model = LogRegNN(X_train.shape[1], 20)\n",
        "\n",
        "criterion = nn.CrossEntropyLoss()\n",
        "# L2 regularization is embeded in \n",
        "optimizer = optim.SGD(model.parameters(), lr=10.0, weight_decay=0.0001)\n",
        "\n",
        "history = train(model, train_loader, valid_loader, 100, 2)"
      ],
      "execution_count": 35,
      "outputs": [
        {
          "output_type": "display_data",
          "data": {
            "application/vnd.jupyter.widget-view+json": {
              "model_id": "8f0c33f7a7564662923d88ae8d497f9f",
              "version_minor": 0,
              "version_major": 2
            },
            "text/plain": [
              "HBox(children=(IntProgress(value=0, description='epoch:0', max=36, style=ProgressStyle(description_width='init…"
            ]
          },
          "metadata": {
            "tags": []
          }
        },
        {
          "output_type": "stream",
          "text": [
            "\n",
            "train loss: 2.817valid loss:2.634\n"
          ],
          "name": "stdout"
        },
        {
          "output_type": "display_data",
          "data": {
            "application/vnd.jupyter.widget-view+json": {
              "model_id": "cf04be71f6024fc483ae9b9fa592601a",
              "version_minor": 0,
              "version_major": 2
            },
            "text/plain": [
              "HBox(children=(IntProgress(value=0, description='epoch:1', max=36, style=ProgressStyle(description_width='init…"
            ]
          },
          "metadata": {
            "tags": []
          }
        },
        {
          "output_type": "stream",
          "text": [
            "\n",
            "train loss: 2.443valid loss:2.333\n"
          ],
          "name": "stdout"
        },
        {
          "output_type": "display_data",
          "data": {
            "application/vnd.jupyter.widget-view+json": {
              "model_id": "223fcb09a6544f6bac5f66818a5a9d20",
              "version_minor": 0,
              "version_major": 2
            },
            "text/plain": [
              "HBox(children=(IntProgress(value=0, description='epoch:2', max=36, style=ProgressStyle(description_width='init…"
            ]
          },
          "metadata": {
            "tags": []
          }
        },
        {
          "output_type": "stream",
          "text": [
            "\n",
            "train loss: 2.134valid loss:2.100\n"
          ],
          "name": "stdout"
        },
        {
          "output_type": "display_data",
          "data": {
            "application/vnd.jupyter.widget-view+json": {
              "model_id": "75905566e0ae476da8a7c1d8e1cc21f4",
              "version_minor": 0,
              "version_major": 2
            },
            "text/plain": [
              "HBox(children=(IntProgress(value=0, description='epoch:3', max=36, style=ProgressStyle(description_width='init…"
            ]
          },
          "metadata": {
            "tags": []
          }
        },
        {
          "output_type": "stream",
          "text": [
            "\n",
            "train loss: 1.891valid loss:1.888\n"
          ],
          "name": "stdout"
        },
        {
          "output_type": "display_data",
          "data": {
            "application/vnd.jupyter.widget-view+json": {
              "model_id": "8811ac1ae4454c1bbf8dffe72c8d0f3d",
              "version_minor": 0,
              "version_major": 2
            },
            "text/plain": [
              "HBox(children=(IntProgress(value=0, description='epoch:4', max=36, style=ProgressStyle(description_width='init…"
            ]
          },
          "metadata": {
            "tags": []
          }
        },
        {
          "output_type": "stream",
          "text": [
            "\n",
            "train loss: 1.697valid loss:1.738\n"
          ],
          "name": "stdout"
        },
        {
          "output_type": "display_data",
          "data": {
            "application/vnd.jupyter.widget-view+json": {
              "model_id": "bb7e71175bd84d5ea5e8d7581866e287",
              "version_minor": 0,
              "version_major": 2
            },
            "text/plain": [
              "HBox(children=(IntProgress(value=0, description='epoch:5', max=36, style=ProgressStyle(description_width='init…"
            ]
          },
          "metadata": {
            "tags": []
          }
        },
        {
          "output_type": "stream",
          "text": [
            "\n",
            "train loss: 1.544valid loss:1.635\n"
          ],
          "name": "stdout"
        },
        {
          "output_type": "display_data",
          "data": {
            "application/vnd.jupyter.widget-view+json": {
              "model_id": "aa3422aa45504acca23d0f224c904299",
              "version_minor": 0,
              "version_major": 2
            },
            "text/plain": [
              "HBox(children=(IntProgress(value=0, description='epoch:6', max=36, style=ProgressStyle(description_width='init…"
            ]
          },
          "metadata": {
            "tags": []
          }
        },
        {
          "output_type": "stream",
          "text": [
            "\n",
            "train loss: 1.427valid loss:1.519\n"
          ],
          "name": "stdout"
        },
        {
          "output_type": "display_data",
          "data": {
            "application/vnd.jupyter.widget-view+json": {
              "model_id": "09b84cab4e2f4eb29dca887dfde841db",
              "version_minor": 0,
              "version_major": 2
            },
            "text/plain": [
              "HBox(children=(IntProgress(value=0, description='epoch:7', max=36, style=ProgressStyle(description_width='init…"
            ]
          },
          "metadata": {
            "tags": []
          }
        },
        {
          "output_type": "stream",
          "text": [
            "\n",
            "train loss: 1.327valid loss:1.453\n"
          ],
          "name": "stdout"
        },
        {
          "output_type": "display_data",
          "data": {
            "application/vnd.jupyter.widget-view+json": {
              "model_id": "6a57cc6655984c81a3c285237c525569",
              "version_minor": 0,
              "version_major": 2
            },
            "text/plain": [
              "HBox(children=(IntProgress(value=0, description='epoch:8', max=36, style=ProgressStyle(description_width='init…"
            ]
          },
          "metadata": {
            "tags": []
          }
        },
        {
          "output_type": "stream",
          "text": [
            "\n",
            "train loss: 1.247valid loss:1.374\n"
          ],
          "name": "stdout"
        },
        {
          "output_type": "display_data",
          "data": {
            "application/vnd.jupyter.widget-view+json": {
              "model_id": "1a2b8b3cea7641a48e0d85c04bc0ac57",
              "version_minor": 0,
              "version_major": 2
            },
            "text/plain": [
              "HBox(children=(IntProgress(value=0, description='epoch:9', max=36, style=ProgressStyle(description_width='init…"
            ]
          },
          "metadata": {
            "tags": []
          }
        },
        {
          "output_type": "stream",
          "text": [
            "\n",
            "train loss: 1.178valid loss:1.322\n"
          ],
          "name": "stdout"
        },
        {
          "output_type": "display_data",
          "data": {
            "application/vnd.jupyter.widget-view+json": {
              "model_id": "9956dbcccb814c5f8ca9668c177c17f2",
              "version_minor": 0,
              "version_major": 2
            },
            "text/plain": [
              "HBox(children=(IntProgress(value=0, description='epoch:10', max=36, style=ProgressStyle(description_width='ini…"
            ]
          },
          "metadata": {
            "tags": []
          }
        },
        {
          "output_type": "stream",
          "text": [
            "\n",
            "train loss: 1.121valid loss:1.280\n"
          ],
          "name": "stdout"
        },
        {
          "output_type": "display_data",
          "data": {
            "application/vnd.jupyter.widget-view+json": {
              "model_id": "a4c5416739974e21a2d4a0797355283e",
              "version_minor": 0,
              "version_major": 2
            },
            "text/plain": [
              "HBox(children=(IntProgress(value=0, description='epoch:11', max=36, style=ProgressStyle(description_width='ini…"
            ]
          },
          "metadata": {
            "tags": []
          }
        },
        {
          "output_type": "stream",
          "text": [
            "\n",
            "train loss: 1.073valid loss:1.239\n"
          ],
          "name": "stdout"
        },
        {
          "output_type": "display_data",
          "data": {
            "application/vnd.jupyter.widget-view+json": {
              "model_id": "8ca9e3ce83904d75ae67791d65d5ca13",
              "version_minor": 0,
              "version_major": 2
            },
            "text/plain": [
              "HBox(children=(IntProgress(value=0, description='epoch:12', max=36, style=ProgressStyle(description_width='ini…"
            ]
          },
          "metadata": {
            "tags": []
          }
        },
        {
          "output_type": "stream",
          "text": [
            "\n",
            "train loss: 1.030valid loss:1.201\n"
          ],
          "name": "stdout"
        },
        {
          "output_type": "display_data",
          "data": {
            "application/vnd.jupyter.widget-view+json": {
              "model_id": "eb0a972b04b6417e9995c97ab22a4b72",
              "version_minor": 0,
              "version_major": 2
            },
            "text/plain": [
              "HBox(children=(IntProgress(value=0, description='epoch:13', max=36, style=ProgressStyle(description_width='ini…"
            ]
          },
          "metadata": {
            "tags": []
          }
        },
        {
          "output_type": "stream",
          "text": [
            "\n",
            "train loss: 0.995valid loss:1.176\n"
          ],
          "name": "stdout"
        },
        {
          "output_type": "display_data",
          "data": {
            "application/vnd.jupyter.widget-view+json": {
              "model_id": "fa8209bcd10c470abc4052f384cf0873",
              "version_minor": 0,
              "version_major": 2
            },
            "text/plain": [
              "HBox(children=(IntProgress(value=0, description='epoch:14', max=36, style=ProgressStyle(description_width='ini…"
            ]
          },
          "metadata": {
            "tags": []
          }
        },
        {
          "output_type": "stream",
          "text": [
            "\n",
            "train loss: 0.965valid loss:1.151\n"
          ],
          "name": "stdout"
        },
        {
          "output_type": "display_data",
          "data": {
            "application/vnd.jupyter.widget-view+json": {
              "model_id": "d2af5fb4710348608347f75772f77239",
              "version_minor": 0,
              "version_major": 2
            },
            "text/plain": [
              "HBox(children=(IntProgress(value=0, description='epoch:15', max=36, style=ProgressStyle(description_width='ini…"
            ]
          },
          "metadata": {
            "tags": []
          }
        },
        {
          "output_type": "stream",
          "text": [
            "\n",
            "train loss: 0.937valid loss:1.131\n"
          ],
          "name": "stdout"
        },
        {
          "output_type": "display_data",
          "data": {
            "application/vnd.jupyter.widget-view+json": {
              "model_id": "3d810ec60aa645b6bd04276829ade7ae",
              "version_minor": 0,
              "version_major": 2
            },
            "text/plain": [
              "HBox(children=(IntProgress(value=0, description='epoch:16', max=36, style=ProgressStyle(description_width='ini…"
            ]
          },
          "metadata": {
            "tags": []
          }
        },
        {
          "output_type": "stream",
          "text": [
            "\n",
            "train loss: 0.911valid loss:1.117\n"
          ],
          "name": "stdout"
        },
        {
          "output_type": "display_data",
          "data": {
            "application/vnd.jupyter.widget-view+json": {
              "model_id": "616c8502f36242dc9507392354bc3463",
              "version_minor": 0,
              "version_major": 2
            },
            "text/plain": [
              "HBox(children=(IntProgress(value=0, description='epoch:17', max=36, style=ProgressStyle(description_width='ini…"
            ]
          },
          "metadata": {
            "tags": []
          }
        },
        {
          "output_type": "stream",
          "text": [
            "\n",
            "train loss: 0.889valid loss:1.092\n"
          ],
          "name": "stdout"
        },
        {
          "output_type": "display_data",
          "data": {
            "application/vnd.jupyter.widget-view+json": {
              "model_id": "518c0b773c6e443e8b7bb807495dc67c",
              "version_minor": 0,
              "version_major": 2
            },
            "text/plain": [
              "HBox(children=(IntProgress(value=0, description='epoch:18', max=36, style=ProgressStyle(description_width='ini…"
            ]
          },
          "metadata": {
            "tags": []
          }
        },
        {
          "output_type": "stream",
          "text": [
            "\n",
            "train loss: 0.872valid loss:1.083\n"
          ],
          "name": "stdout"
        },
        {
          "output_type": "display_data",
          "data": {
            "application/vnd.jupyter.widget-view+json": {
              "model_id": "eeea269b4bc94c90a1e076888d96d538",
              "version_minor": 0,
              "version_major": 2
            },
            "text/plain": [
              "HBox(children=(IntProgress(value=0, description='epoch:19', max=36, style=ProgressStyle(description_width='ini…"
            ]
          },
          "metadata": {
            "tags": []
          }
        },
        {
          "output_type": "stream",
          "text": [
            "\n",
            "train loss: 0.857valid loss:1.068\n"
          ],
          "name": "stdout"
        },
        {
          "output_type": "display_data",
          "data": {
            "application/vnd.jupyter.widget-view+json": {
              "model_id": "1aef4d991b1347f1979bb4a22a20550c",
              "version_minor": 0,
              "version_major": 2
            },
            "text/plain": [
              "HBox(children=(IntProgress(value=0, description='epoch:20', max=36, style=ProgressStyle(description_width='ini…"
            ]
          },
          "metadata": {
            "tags": []
          }
        },
        {
          "output_type": "stream",
          "text": [
            "\n",
            "train loss: 0.841valid loss:1.058\n"
          ],
          "name": "stdout"
        },
        {
          "output_type": "display_data",
          "data": {
            "application/vnd.jupyter.widget-view+json": {
              "model_id": "e754836a47964abc8045f0c4d82b218c",
              "version_minor": 0,
              "version_major": 2
            },
            "text/plain": [
              "HBox(children=(IntProgress(value=0, description='epoch:21', max=36, style=ProgressStyle(description_width='ini…"
            ]
          },
          "metadata": {
            "tags": []
          }
        },
        {
          "output_type": "stream",
          "text": [
            "\n",
            "train loss: 0.829valid loss:1.044\n"
          ],
          "name": "stdout"
        },
        {
          "output_type": "display_data",
          "data": {
            "application/vnd.jupyter.widget-view+json": {
              "model_id": "78e79267edc84df5b64f0e58e5593e74",
              "version_minor": 0,
              "version_major": 2
            },
            "text/plain": [
              "HBox(children=(IntProgress(value=0, description='epoch:22', max=36, style=ProgressStyle(description_width='ini…"
            ]
          },
          "metadata": {
            "tags": []
          }
        },
        {
          "output_type": "stream",
          "text": [
            "\n",
            "train loss: 0.816valid loss:1.038\n"
          ],
          "name": "stdout"
        },
        {
          "output_type": "display_data",
          "data": {
            "application/vnd.jupyter.widget-view+json": {
              "model_id": "5578a795f8334a489858d7b989f3dc3d",
              "version_minor": 0,
              "version_major": 2
            },
            "text/plain": [
              "HBox(children=(IntProgress(value=0, description='epoch:23', max=36, style=ProgressStyle(description_width='ini…"
            ]
          },
          "metadata": {
            "tags": []
          }
        },
        {
          "output_type": "stream",
          "text": [
            "\n",
            "train loss: 0.805valid loss:1.027\n"
          ],
          "name": "stdout"
        },
        {
          "output_type": "display_data",
          "data": {
            "application/vnd.jupyter.widget-view+json": {
              "model_id": "19890174acf24ae69d3d25cc84ef488f",
              "version_minor": 0,
              "version_major": 2
            },
            "text/plain": [
              "HBox(children=(IntProgress(value=0, description='epoch:24', max=36, style=ProgressStyle(description_width='ini…"
            ]
          },
          "metadata": {
            "tags": []
          }
        },
        {
          "output_type": "stream",
          "text": [
            "\n",
            "train loss: 0.795valid loss:1.022\n"
          ],
          "name": "stdout"
        },
        {
          "output_type": "display_data",
          "data": {
            "application/vnd.jupyter.widget-view+json": {
              "model_id": "bd71dbf44c56435d9b6117f8654a89dc",
              "version_minor": 0,
              "version_major": 2
            },
            "text/plain": [
              "HBox(children=(IntProgress(value=0, description='epoch:25', max=36, style=ProgressStyle(description_width='ini…"
            ]
          },
          "metadata": {
            "tags": []
          }
        },
        {
          "output_type": "stream",
          "text": [
            "\n",
            "train loss: 0.786valid loss:1.022\n"
          ],
          "name": "stdout"
        },
        {
          "output_type": "display_data",
          "data": {
            "application/vnd.jupyter.widget-view+json": {
              "model_id": "9fe0aadd5b6347f8b58eac44ab6621df",
              "version_minor": 0,
              "version_major": 2
            },
            "text/plain": [
              "HBox(children=(IntProgress(value=0, description='epoch:26', max=36, style=ProgressStyle(description_width='ini…"
            ]
          },
          "metadata": {
            "tags": []
          }
        },
        {
          "output_type": "stream",
          "text": [
            "\n",
            "train loss: 0.779valid loss:1.011\n"
          ],
          "name": "stdout"
        },
        {
          "output_type": "display_data",
          "data": {
            "application/vnd.jupyter.widget-view+json": {
              "model_id": "abd8081d828b4bd88b388f87bb3851f4",
              "version_minor": 0,
              "version_major": 2
            },
            "text/plain": [
              "HBox(children=(IntProgress(value=0, description='epoch:27', max=36, style=ProgressStyle(description_width='ini…"
            ]
          },
          "metadata": {
            "tags": []
          }
        },
        {
          "output_type": "stream",
          "text": [
            "\n",
            "train loss: 0.768valid loss:1.001\n"
          ],
          "name": "stdout"
        },
        {
          "output_type": "display_data",
          "data": {
            "application/vnd.jupyter.widget-view+json": {
              "model_id": "73aca8bbaf554329a9879a837a13416e",
              "version_minor": 0,
              "version_major": 2
            },
            "text/plain": [
              "HBox(children=(IntProgress(value=0, description='epoch:28', max=36, style=ProgressStyle(description_width='ini…"
            ]
          },
          "metadata": {
            "tags": []
          }
        },
        {
          "output_type": "stream",
          "text": [
            "\n",
            "train loss: 0.763valid loss:1.002\n"
          ],
          "name": "stdout"
        },
        {
          "output_type": "display_data",
          "data": {
            "application/vnd.jupyter.widget-view+json": {
              "model_id": "24f8182c300744c18bdb6223a86c81c6",
              "version_minor": 0,
              "version_major": 2
            },
            "text/plain": [
              "HBox(children=(IntProgress(value=0, description='epoch:29', max=36, style=ProgressStyle(description_width='ini…"
            ]
          },
          "metadata": {
            "tags": []
          }
        },
        {
          "output_type": "stream",
          "text": [
            "\n",
            "train loss: 0.757valid loss:0.994\n"
          ],
          "name": "stdout"
        },
        {
          "output_type": "display_data",
          "data": {
            "application/vnd.jupyter.widget-view+json": {
              "model_id": "27492f445fb940c0ad8e676a00d80952",
              "version_minor": 0,
              "version_major": 2
            },
            "text/plain": [
              "HBox(children=(IntProgress(value=0, description='epoch:30', max=36, style=ProgressStyle(description_width='ini…"
            ]
          },
          "metadata": {
            "tags": []
          }
        },
        {
          "output_type": "stream",
          "text": [
            "\n",
            "train loss: 0.750valid loss:0.996\n"
          ],
          "name": "stdout"
        },
        {
          "output_type": "display_data",
          "data": {
            "application/vnd.jupyter.widget-view+json": {
              "model_id": "7ca1a37ee5f84e439e78dc4145562bc0",
              "version_minor": 0,
              "version_major": 2
            },
            "text/plain": [
              "HBox(children=(IntProgress(value=0, description='epoch:31', max=36, style=ProgressStyle(description_width='ini…"
            ]
          },
          "metadata": {
            "tags": []
          }
        },
        {
          "output_type": "stream",
          "text": [
            "\n",
            "train loss: 0.747valid loss:0.990\n"
          ],
          "name": "stdout"
        },
        {
          "output_type": "display_data",
          "data": {
            "application/vnd.jupyter.widget-view+json": {
              "model_id": "bf21dfada7204ead87e4e0f4cfd49253",
              "version_minor": 0,
              "version_major": 2
            },
            "text/plain": [
              "HBox(children=(IntProgress(value=0, description='epoch:32', max=36, style=ProgressStyle(description_width='ini…"
            ]
          },
          "metadata": {
            "tags": []
          }
        },
        {
          "output_type": "stream",
          "text": [
            "\n",
            "train loss: 0.740valid loss:0.983\n"
          ],
          "name": "stdout"
        },
        {
          "output_type": "display_data",
          "data": {
            "application/vnd.jupyter.widget-view+json": {
              "model_id": "6412574ee3764a7388dfe915aa27d25d",
              "version_minor": 0,
              "version_major": 2
            },
            "text/plain": [
              "HBox(children=(IntProgress(value=0, description='epoch:33', max=36, style=ProgressStyle(description_width='ini…"
            ]
          },
          "metadata": {
            "tags": []
          }
        },
        {
          "output_type": "stream",
          "text": [
            "\n",
            "train loss: 0.736valid loss:0.980\n"
          ],
          "name": "stdout"
        },
        {
          "output_type": "display_data",
          "data": {
            "application/vnd.jupyter.widget-view+json": {
              "model_id": "8a5713b0680b470395361d9b526de6fa",
              "version_minor": 0,
              "version_major": 2
            },
            "text/plain": [
              "HBox(children=(IntProgress(value=0, description='epoch:34', max=36, style=ProgressStyle(description_width='ini…"
            ]
          },
          "metadata": {
            "tags": []
          }
        },
        {
          "output_type": "stream",
          "text": [
            "\n",
            "train loss: 0.731valid loss:0.975\n"
          ],
          "name": "stdout"
        },
        {
          "output_type": "display_data",
          "data": {
            "application/vnd.jupyter.widget-view+json": {
              "model_id": "6869dfa5077d46b5b1be39bf5b28b7b4",
              "version_minor": 0,
              "version_major": 2
            },
            "text/plain": [
              "HBox(children=(IntProgress(value=0, description='epoch:35', max=36, style=ProgressStyle(description_width='ini…"
            ]
          },
          "metadata": {
            "tags": []
          }
        },
        {
          "output_type": "stream",
          "text": [
            "\n",
            "train loss: 0.728valid loss:0.975\n"
          ],
          "name": "stdout"
        },
        {
          "output_type": "display_data",
          "data": {
            "application/vnd.jupyter.widget-view+json": {
              "model_id": "d73045115cc94ebf8c0def63eb0e16c1",
              "version_minor": 0,
              "version_major": 2
            },
            "text/plain": [
              "HBox(children=(IntProgress(value=0, description='epoch:36', max=36, style=ProgressStyle(description_width='ini…"
            ]
          },
          "metadata": {
            "tags": []
          }
        },
        {
          "output_type": "stream",
          "text": [
            "\n",
            "train loss: 0.724valid loss:0.978\n"
          ],
          "name": "stdout"
        },
        {
          "output_type": "display_data",
          "data": {
            "application/vnd.jupyter.widget-view+json": {
              "model_id": "7a3b98de1df4420e9745364b405c36a8",
              "version_minor": 0,
              "version_major": 2
            },
            "text/plain": [
              "HBox(children=(IntProgress(value=0, description='epoch:37', max=36, style=ProgressStyle(description_width='ini…"
            ]
          },
          "metadata": {
            "tags": []
          }
        },
        {
          "output_type": "stream",
          "text": [
            "\n",
            "train loss: 0.722valid loss:0.976\n"
          ],
          "name": "stdout"
        },
        {
          "output_type": "display_data",
          "data": {
            "application/vnd.jupyter.widget-view+json": {
              "model_id": "3936fda4445c425facdd70496e18f08f",
              "version_minor": 0,
              "version_major": 2
            },
            "text/plain": [
              "HBox(children=(IntProgress(value=0, description='epoch:38', max=36, style=ProgressStyle(description_width='ini…"
            ]
          },
          "metadata": {
            "tags": []
          }
        },
        {
          "output_type": "stream",
          "text": [
            "\n",
            "train loss: 0.718valid loss:0.965\n"
          ],
          "name": "stdout"
        },
        {
          "output_type": "display_data",
          "data": {
            "application/vnd.jupyter.widget-view+json": {
              "model_id": "fc9621ec3af6452c9d9663b95adad419",
              "version_minor": 0,
              "version_major": 2
            },
            "text/plain": [
              "HBox(children=(IntProgress(value=0, description='epoch:39', max=36, style=ProgressStyle(description_width='ini…"
            ]
          },
          "metadata": {
            "tags": []
          }
        },
        {
          "output_type": "stream",
          "text": [
            "\n",
            "train loss: 0.714valid loss:0.964\n"
          ],
          "name": "stdout"
        },
        {
          "output_type": "display_data",
          "data": {
            "application/vnd.jupyter.widget-view+json": {
              "model_id": "12300678a25548219a1bbce3713b2b49",
              "version_minor": 0,
              "version_major": 2
            },
            "text/plain": [
              "HBox(children=(IntProgress(value=0, description='epoch:40', max=36, style=ProgressStyle(description_width='ini…"
            ]
          },
          "metadata": {
            "tags": []
          }
        },
        {
          "output_type": "stream",
          "text": [
            "\n",
            "train loss: 0.710valid loss:0.961\n"
          ],
          "name": "stdout"
        },
        {
          "output_type": "display_data",
          "data": {
            "application/vnd.jupyter.widget-view+json": {
              "model_id": "0a4310e5c4ed4478b2f120bca02cc7b2",
              "version_minor": 0,
              "version_major": 2
            },
            "text/plain": [
              "HBox(children=(IntProgress(value=0, description='epoch:41', max=36, style=ProgressStyle(description_width='ini…"
            ]
          },
          "metadata": {
            "tags": []
          }
        },
        {
          "output_type": "stream",
          "text": [
            "\n",
            "train loss: 0.709valid loss:0.964\n"
          ],
          "name": "stdout"
        },
        {
          "output_type": "display_data",
          "data": {
            "application/vnd.jupyter.widget-view+json": {
              "model_id": "a4921c0a734e4d9a9a294c6ea8239370",
              "version_minor": 0,
              "version_major": 2
            },
            "text/plain": [
              "HBox(children=(IntProgress(value=0, description='epoch:42', max=36, style=ProgressStyle(description_width='ini…"
            ]
          },
          "metadata": {
            "tags": []
          }
        },
        {
          "output_type": "stream",
          "text": [
            "\n",
            "train loss: 0.708valid loss:0.962\n"
          ],
          "name": "stdout"
        },
        {
          "output_type": "display_data",
          "data": {
            "application/vnd.jupyter.widget-view+json": {
              "model_id": "8a65c1bb021f4bdbbd043b5c237764b1",
              "version_minor": 0,
              "version_major": 2
            },
            "text/plain": [
              "HBox(children=(IntProgress(value=0, description='epoch:43', max=36, style=ProgressStyle(description_width='ini…"
            ]
          },
          "metadata": {
            "tags": []
          }
        },
        {
          "output_type": "stream",
          "text": [
            "\n",
            "train loss: 0.707valid loss:0.963\n"
          ],
          "name": "stdout"
        },
        {
          "output_type": "display_data",
          "data": {
            "application/vnd.jupyter.widget-view+json": {
              "model_id": "a5ad4cc7c3c34e88b2dbd43d179e815d",
              "version_minor": 0,
              "version_major": 2
            },
            "text/plain": [
              "HBox(children=(IntProgress(value=0, description='epoch:44', max=36, style=ProgressStyle(description_width='ini…"
            ]
          },
          "metadata": {
            "tags": []
          }
        },
        {
          "output_type": "stream",
          "text": [
            "\n",
            "train loss: 0.704valid loss:0.961\n"
          ],
          "name": "stdout"
        },
        {
          "output_type": "display_data",
          "data": {
            "application/vnd.jupyter.widget-view+json": {
              "model_id": "7d59f543cf2f40eb9b05fd704b1807a7",
              "version_minor": 0,
              "version_major": 2
            },
            "text/plain": [
              "HBox(children=(IntProgress(value=0, description='epoch:45', max=36, style=ProgressStyle(description_width='ini…"
            ]
          },
          "metadata": {
            "tags": []
          }
        },
        {
          "output_type": "stream",
          "text": [
            "\n",
            "train loss: 0.702valid loss:0.963\n"
          ],
          "name": "stdout"
        },
        {
          "output_type": "display_data",
          "data": {
            "application/vnd.jupyter.widget-view+json": {
              "model_id": "309c472335e645ab8bf1f2c8356e21dc",
              "version_minor": 0,
              "version_major": 2
            },
            "text/plain": [
              "HBox(children=(IntProgress(value=0, description='epoch:46', max=36, style=ProgressStyle(description_width='ini…"
            ]
          },
          "metadata": {
            "tags": []
          }
        },
        {
          "output_type": "stream",
          "text": [
            "\n",
            "train loss: 0.701valid loss:0.956\n"
          ],
          "name": "stdout"
        },
        {
          "output_type": "display_data",
          "data": {
            "application/vnd.jupyter.widget-view+json": {
              "model_id": "af286ebfc8914d40b50093c1b1d5a34e",
              "version_minor": 0,
              "version_major": 2
            },
            "text/plain": [
              "HBox(children=(IntProgress(value=0, description='epoch:47', max=36, style=ProgressStyle(description_width='ini…"
            ]
          },
          "metadata": {
            "tags": []
          }
        },
        {
          "output_type": "stream",
          "text": [
            "\n",
            "train loss: 0.700valid loss:0.958\n"
          ],
          "name": "stdout"
        },
        {
          "output_type": "display_data",
          "data": {
            "application/vnd.jupyter.widget-view+json": {
              "model_id": "c25aeab932a04324b727862781b7c4b6",
              "version_minor": 0,
              "version_major": 2
            },
            "text/plain": [
              "HBox(children=(IntProgress(value=0, description='epoch:48', max=36, style=ProgressStyle(description_width='ini…"
            ]
          },
          "metadata": {
            "tags": []
          }
        },
        {
          "output_type": "stream",
          "text": [
            "\n",
            "train loss: 0.698valid loss:0.962\n"
          ],
          "name": "stdout"
        },
        {
          "output_type": "display_data",
          "data": {
            "application/vnd.jupyter.widget-view+json": {
              "model_id": "7eb7e3d51efc4fb9a7f25ad798767bb0",
              "version_minor": 0,
              "version_major": 2
            },
            "text/plain": [
              "HBox(children=(IntProgress(value=0, description='epoch:49', max=36, style=ProgressStyle(description_width='ini…"
            ]
          },
          "metadata": {
            "tags": []
          }
        },
        {
          "output_type": "stream",
          "text": [
            "\n",
            "train loss: 0.696valid loss:0.958\n"
          ],
          "name": "stdout"
        },
        {
          "output_type": "display_data",
          "data": {
            "application/vnd.jupyter.widget-view+json": {
              "model_id": "695803b056864edf98d32a74cc67fa61",
              "version_minor": 0,
              "version_major": 2
            },
            "text/plain": [
              "HBox(children=(IntProgress(value=0, description='epoch:50', max=36, style=ProgressStyle(description_width='ini…"
            ]
          },
          "metadata": {
            "tags": []
          }
        },
        {
          "output_type": "stream",
          "text": [
            "\n",
            "train loss: 0.693valid loss:0.954\n"
          ],
          "name": "stdout"
        },
        {
          "output_type": "display_data",
          "data": {
            "application/vnd.jupyter.widget-view+json": {
              "model_id": "c9ffb46faa574c5a89c8c8fee4535333",
              "version_minor": 0,
              "version_major": 2
            },
            "text/plain": [
              "HBox(children=(IntProgress(value=0, description='epoch:51', max=36, style=ProgressStyle(description_width='ini…"
            ]
          },
          "metadata": {
            "tags": []
          }
        },
        {
          "output_type": "stream",
          "text": [
            "\n",
            "train loss: 0.695valid loss:0.958\n"
          ],
          "name": "stdout"
        },
        {
          "output_type": "display_data",
          "data": {
            "application/vnd.jupyter.widget-view+json": {
              "model_id": "042e73636cd44840b45af78555c7d127",
              "version_minor": 0,
              "version_major": 2
            },
            "text/plain": [
              "HBox(children=(IntProgress(value=0, description='epoch:52', max=36, style=ProgressStyle(description_width='ini…"
            ]
          },
          "metadata": {
            "tags": []
          }
        },
        {
          "output_type": "stream",
          "text": [
            "\n",
            "train loss: 0.693valid loss:0.957\n"
          ],
          "name": "stdout"
        },
        {
          "output_type": "display_data",
          "data": {
            "application/vnd.jupyter.widget-view+json": {
              "model_id": "c7dbd867635a404c94c4c2a0cef48087",
              "version_minor": 0,
              "version_major": 2
            },
            "text/plain": [
              "HBox(children=(IntProgress(value=0, description='epoch:53', max=36, style=ProgressStyle(description_width='ini…"
            ]
          },
          "metadata": {
            "tags": []
          }
        },
        {
          "output_type": "stream",
          "text": [
            "\n",
            "train loss: 0.692valid loss:0.956\n"
          ],
          "name": "stdout"
        },
        {
          "output_type": "display_data",
          "data": {
            "application/vnd.jupyter.widget-view+json": {
              "model_id": "09da643e9e7349289f0c050c6b8aea02",
              "version_minor": 0,
              "version_major": 2
            },
            "text/plain": [
              "HBox(children=(IntProgress(value=0, description='epoch:54', max=36, style=ProgressStyle(description_width='ini…"
            ]
          },
          "metadata": {
            "tags": []
          }
        },
        {
          "output_type": "stream",
          "text": [
            "\n",
            "train loss: 0.692valid loss:0.957\n"
          ],
          "name": "stdout"
        },
        {
          "output_type": "display_data",
          "data": {
            "application/vnd.jupyter.widget-view+json": {
              "model_id": "5672eb98ba7d4655ba7dd39cdee54716",
              "version_minor": 0,
              "version_major": 2
            },
            "text/plain": [
              "HBox(children=(IntProgress(value=0, description='epoch:55', max=36, style=ProgressStyle(description_width='ini…"
            ]
          },
          "metadata": {
            "tags": []
          }
        },
        {
          "output_type": "stream",
          "text": [
            "\n",
            "train loss: 0.690valid loss:0.951\n"
          ],
          "name": "stdout"
        },
        {
          "output_type": "display_data",
          "data": {
            "application/vnd.jupyter.widget-view+json": {
              "model_id": "3194579261314b668d4557d295670165",
              "version_minor": 0,
              "version_major": 2
            },
            "text/plain": [
              "HBox(children=(IntProgress(value=0, description='epoch:56', max=36, style=ProgressStyle(description_width='ini…"
            ]
          },
          "metadata": {
            "tags": []
          }
        },
        {
          "output_type": "stream",
          "text": [
            "\n",
            "train loss: 0.688valid loss:0.953\n"
          ],
          "name": "stdout"
        },
        {
          "output_type": "display_data",
          "data": {
            "application/vnd.jupyter.widget-view+json": {
              "model_id": "7f692a50d095484c84b436001cba88a8",
              "version_minor": 0,
              "version_major": 2
            },
            "text/plain": [
              "HBox(children=(IntProgress(value=0, description='epoch:57', max=36, style=ProgressStyle(description_width='ini…"
            ]
          },
          "metadata": {
            "tags": []
          }
        },
        {
          "output_type": "stream",
          "text": [
            "\n",
            "train loss: 0.688valid loss:0.954\n"
          ],
          "name": "stdout"
        },
        {
          "output_type": "display_data",
          "data": {
            "application/vnd.jupyter.widget-view+json": {
              "model_id": "d08c064a74284e478e936c8230c744e1",
              "version_minor": 0,
              "version_major": 2
            },
            "text/plain": [
              "HBox(children=(IntProgress(value=0, description='epoch:58', max=36, style=ProgressStyle(description_width='ini…"
            ]
          },
          "metadata": {
            "tags": []
          }
        },
        {
          "output_type": "stream",
          "text": [
            "\n",
            "train loss: 0.685valid loss:0.948\n"
          ],
          "name": "stdout"
        },
        {
          "output_type": "display_data",
          "data": {
            "application/vnd.jupyter.widget-view+json": {
              "model_id": "1644bfbcf4ee4022b789b819f5ab25c0",
              "version_minor": 0,
              "version_major": 2
            },
            "text/plain": [
              "HBox(children=(IntProgress(value=0, description='epoch:59', max=36, style=ProgressStyle(description_width='ini…"
            ]
          },
          "metadata": {
            "tags": []
          }
        },
        {
          "output_type": "stream",
          "text": [
            "\n",
            "train loss: 0.685valid loss:0.953\n"
          ],
          "name": "stdout"
        },
        {
          "output_type": "display_data",
          "data": {
            "application/vnd.jupyter.widget-view+json": {
              "model_id": "736fe3558e26465492c32662838cb809",
              "version_minor": 0,
              "version_major": 2
            },
            "text/plain": [
              "HBox(children=(IntProgress(value=0, description='epoch:60', max=36, style=ProgressStyle(description_width='ini…"
            ]
          },
          "metadata": {
            "tags": []
          }
        },
        {
          "output_type": "stream",
          "text": [
            "\n",
            "train loss: 0.685valid loss:0.951\n"
          ],
          "name": "stdout"
        },
        {
          "output_type": "display_data",
          "data": {
            "application/vnd.jupyter.widget-view+json": {
              "model_id": "f7689af6616843638a9d1314abb3ddc2",
              "version_minor": 0,
              "version_major": 2
            },
            "text/plain": [
              "HBox(children=(IntProgress(value=0, description='epoch:61', max=36, style=ProgressStyle(description_width='ini…"
            ]
          },
          "metadata": {
            "tags": []
          }
        },
        {
          "output_type": "stream",
          "text": [
            "\n",
            "train loss: 0.685valid loss:0.949\n"
          ],
          "name": "stdout"
        },
        {
          "output_type": "display_data",
          "data": {
            "application/vnd.jupyter.widget-view+json": {
              "model_id": "87c507e3d270440eb4acac1659f625f5",
              "version_minor": 0,
              "version_major": 2
            },
            "text/plain": [
              "HBox(children=(IntProgress(value=0, description='epoch:62', max=36, style=ProgressStyle(description_width='ini…"
            ]
          },
          "metadata": {
            "tags": []
          }
        },
        {
          "output_type": "stream",
          "text": [
            "\n",
            "train loss: 0.684valid loss:0.948\n"
          ],
          "name": "stdout"
        },
        {
          "output_type": "display_data",
          "data": {
            "application/vnd.jupyter.widget-view+json": {
              "model_id": "6bafe270dc1c41a1a6c8aac1e3179ca9",
              "version_minor": 0,
              "version_major": 2
            },
            "text/plain": [
              "HBox(children=(IntProgress(value=0, description='epoch:63', max=36, style=ProgressStyle(description_width='ini…"
            ]
          },
          "metadata": {
            "tags": []
          }
        },
        {
          "output_type": "stream",
          "text": [
            "\n",
            "train loss: 0.684valid loss:0.952\n"
          ],
          "name": "stdout"
        },
        {
          "output_type": "display_data",
          "data": {
            "application/vnd.jupyter.widget-view+json": {
              "model_id": "93b60315a5fd4caba9c73a3e730f7566",
              "version_minor": 0,
              "version_major": 2
            },
            "text/plain": [
              "HBox(children=(IntProgress(value=0, description='epoch:64', max=36, style=ProgressStyle(description_width='ini…"
            ]
          },
          "metadata": {
            "tags": []
          }
        },
        {
          "output_type": "stream",
          "text": [
            "\n",
            "train loss: 0.683valid loss:0.953\n"
          ],
          "name": "stdout"
        },
        {
          "output_type": "display_data",
          "data": {
            "application/vnd.jupyter.widget-view+json": {
              "model_id": "a03093ec87c44461b70ca78d269c090e",
              "version_minor": 0,
              "version_major": 2
            },
            "text/plain": [
              "HBox(children=(IntProgress(value=0, description='epoch:65', max=36, style=ProgressStyle(description_width='ini…"
            ]
          },
          "metadata": {
            "tags": []
          }
        },
        {
          "output_type": "stream",
          "text": [
            "\n",
            "train loss: 0.683valid loss:0.948\n"
          ],
          "name": "stdout"
        },
        {
          "output_type": "display_data",
          "data": {
            "application/vnd.jupyter.widget-view+json": {
              "model_id": "1db24d7ba4d24544982ea0ac6ab1232f",
              "version_minor": 0,
              "version_major": 2
            },
            "text/plain": [
              "HBox(children=(IntProgress(value=0, description='epoch:66', max=36, style=ProgressStyle(description_width='ini…"
            ]
          },
          "metadata": {
            "tags": []
          }
        },
        {
          "output_type": "stream",
          "text": [
            "\n",
            "train loss: 0.685valid loss:0.949\n"
          ],
          "name": "stdout"
        },
        {
          "output_type": "display_data",
          "data": {
            "application/vnd.jupyter.widget-view+json": {
              "model_id": "b310da8206d14618a6dff1d252756b13",
              "version_minor": 0,
              "version_major": 2
            },
            "text/plain": [
              "HBox(children=(IntProgress(value=0, description='epoch:67', max=36, style=ProgressStyle(description_width='ini…"
            ]
          },
          "metadata": {
            "tags": []
          }
        },
        {
          "output_type": "stream",
          "text": [
            "\n",
            "train loss: 0.684valid loss:0.953\n"
          ],
          "name": "stdout"
        },
        {
          "output_type": "display_data",
          "data": {
            "application/vnd.jupyter.widget-view+json": {
              "model_id": "2cadcd1106374763b1c49c1c68efb296",
              "version_minor": 0,
              "version_major": 2
            },
            "text/plain": [
              "HBox(children=(IntProgress(value=0, description='epoch:68', max=36, style=ProgressStyle(description_width='ini…"
            ]
          },
          "metadata": {
            "tags": []
          }
        },
        {
          "output_type": "stream",
          "text": [
            "\n",
            "train loss: 0.681valid loss:0.946\n"
          ],
          "name": "stdout"
        },
        {
          "output_type": "display_data",
          "data": {
            "application/vnd.jupyter.widget-view+json": {
              "model_id": "4c0ee3f169fc44bf9410fa88f9acd880",
              "version_minor": 0,
              "version_major": 2
            },
            "text/plain": [
              "HBox(children=(IntProgress(value=0, description='epoch:69', max=36, style=ProgressStyle(description_width='ini…"
            ]
          },
          "metadata": {
            "tags": []
          }
        },
        {
          "output_type": "stream",
          "text": [
            "\n",
            "train loss: 0.681valid loss:0.947\n"
          ],
          "name": "stdout"
        },
        {
          "output_type": "display_data",
          "data": {
            "application/vnd.jupyter.widget-view+json": {
              "model_id": "0d2fc7f2fff34c7fa6d96dc41b3836ed",
              "version_minor": 0,
              "version_major": 2
            },
            "text/plain": [
              "HBox(children=(IntProgress(value=0, description='epoch:70', max=36, style=ProgressStyle(description_width='ini…"
            ]
          },
          "metadata": {
            "tags": []
          }
        },
        {
          "output_type": "stream",
          "text": [
            "\n",
            "train loss: 0.679valid loss:0.952\n"
          ],
          "name": "stdout"
        },
        {
          "output_type": "display_data",
          "data": {
            "application/vnd.jupyter.widget-view+json": {
              "model_id": "a8343804161a4e9388fa7dd454d28795",
              "version_minor": 0,
              "version_major": 2
            },
            "text/plain": [
              "HBox(children=(IntProgress(value=0, description='epoch:71', max=36, style=ProgressStyle(description_width='ini…"
            ]
          },
          "metadata": {
            "tags": []
          }
        },
        {
          "output_type": "stream",
          "text": [
            "\n",
            "train loss: 0.680valid loss:0.946\n"
          ],
          "name": "stdout"
        },
        {
          "output_type": "display_data",
          "data": {
            "application/vnd.jupyter.widget-view+json": {
              "model_id": "ea5b4f33a088440582d1dac0e438b787",
              "version_minor": 0,
              "version_major": 2
            },
            "text/plain": [
              "HBox(children=(IntProgress(value=0, description='epoch:72', max=36, style=ProgressStyle(description_width='ini…"
            ]
          },
          "metadata": {
            "tags": []
          }
        },
        {
          "output_type": "stream",
          "text": [
            "\n",
            "train loss: 0.680valid loss:0.946\n"
          ],
          "name": "stdout"
        },
        {
          "output_type": "display_data",
          "data": {
            "application/vnd.jupyter.widget-view+json": {
              "model_id": "66e30c558ce04667bb542ab24f6c47b9",
              "version_minor": 0,
              "version_major": 2
            },
            "text/plain": [
              "HBox(children=(IntProgress(value=0, description='epoch:73', max=36, style=ProgressStyle(description_width='ini…"
            ]
          },
          "metadata": {
            "tags": []
          }
        },
        {
          "output_type": "stream",
          "text": [
            "\n",
            "train loss: 0.680valid loss:0.947\n"
          ],
          "name": "stdout"
        },
        {
          "output_type": "display_data",
          "data": {
            "application/vnd.jupyter.widget-view+json": {
              "model_id": "ee3ed12eb4c14ff4bf9f291d7855888a",
              "version_minor": 0,
              "version_major": 2
            },
            "text/plain": [
              "HBox(children=(IntProgress(value=0, description='epoch:74', max=36, style=ProgressStyle(description_width='ini…"
            ]
          },
          "metadata": {
            "tags": []
          }
        },
        {
          "output_type": "stream",
          "text": [
            "\n",
            "train loss: 0.681valid loss:0.948\n"
          ],
          "name": "stdout"
        },
        {
          "output_type": "display_data",
          "data": {
            "application/vnd.jupyter.widget-view+json": {
              "model_id": "f9e0647967d74fa0be0d3eaae2a0f395",
              "version_minor": 0,
              "version_major": 2
            },
            "text/plain": [
              "HBox(children=(IntProgress(value=0, description='epoch:75', max=36, style=ProgressStyle(description_width='ini…"
            ]
          },
          "metadata": {
            "tags": []
          }
        },
        {
          "output_type": "stream",
          "text": [
            "\n",
            "train loss: 0.679valid loss:0.947\n"
          ],
          "name": "stdout"
        },
        {
          "output_type": "display_data",
          "data": {
            "application/vnd.jupyter.widget-view+json": {
              "model_id": "ca36585cbe9149619a6c5dfda032f0cd",
              "version_minor": 0,
              "version_major": 2
            },
            "text/plain": [
              "HBox(children=(IntProgress(value=0, description='epoch:76', max=36, style=ProgressStyle(description_width='ini…"
            ]
          },
          "metadata": {
            "tags": []
          }
        },
        {
          "output_type": "stream",
          "text": [
            "\n",
            "train loss: 0.679valid loss:0.947\n"
          ],
          "name": "stdout"
        },
        {
          "output_type": "display_data",
          "data": {
            "application/vnd.jupyter.widget-view+json": {
              "model_id": "2670cfdf7b6f49cc9303ca0c66407ae7",
              "version_minor": 0,
              "version_major": 2
            },
            "text/plain": [
              "HBox(children=(IntProgress(value=0, description='epoch:77', max=36, style=ProgressStyle(description_width='ini…"
            ]
          },
          "metadata": {
            "tags": []
          }
        },
        {
          "output_type": "stream",
          "text": [
            "\n",
            "train loss: 0.677valid loss:0.949\n"
          ],
          "name": "stdout"
        },
        {
          "output_type": "display_data",
          "data": {
            "application/vnd.jupyter.widget-view+json": {
              "model_id": "167939750cf3453c934d59e2e2768bfd",
              "version_minor": 0,
              "version_major": 2
            },
            "text/plain": [
              "HBox(children=(IntProgress(value=0, description='epoch:78', max=36, style=ProgressStyle(description_width='ini…"
            ]
          },
          "metadata": {
            "tags": []
          }
        },
        {
          "output_type": "stream",
          "text": [
            "\n",
            "train loss: 0.679valid loss:0.947\n"
          ],
          "name": "stdout"
        },
        {
          "output_type": "display_data",
          "data": {
            "application/vnd.jupyter.widget-view+json": {
              "model_id": "8dccfaa708ed41fc91b7615d19a80dfd",
              "version_minor": 0,
              "version_major": 2
            },
            "text/plain": [
              "HBox(children=(IntProgress(value=0, description='epoch:79', max=36, style=ProgressStyle(description_width='ini…"
            ]
          },
          "metadata": {
            "tags": []
          }
        },
        {
          "output_type": "stream",
          "text": [
            "\n",
            "train loss: 0.677valid loss:0.945\n"
          ],
          "name": "stdout"
        },
        {
          "output_type": "display_data",
          "data": {
            "application/vnd.jupyter.widget-view+json": {
              "model_id": "e4c42ca36a8340b180a7bfb8689fcfc3",
              "version_minor": 0,
              "version_major": 2
            },
            "text/plain": [
              "HBox(children=(IntProgress(value=0, description='epoch:80', max=36, style=ProgressStyle(description_width='ini…"
            ]
          },
          "metadata": {
            "tags": []
          }
        },
        {
          "output_type": "stream",
          "text": [
            "\n",
            "train loss: 0.678valid loss:0.949\n"
          ],
          "name": "stdout"
        },
        {
          "output_type": "display_data",
          "data": {
            "application/vnd.jupyter.widget-view+json": {
              "model_id": "24c36ae5e48f402080964c4b2229ea8d",
              "version_minor": 0,
              "version_major": 2
            },
            "text/plain": [
              "HBox(children=(IntProgress(value=0, description='epoch:81', max=36, style=ProgressStyle(description_width='ini…"
            ]
          },
          "metadata": {
            "tags": []
          }
        },
        {
          "output_type": "stream",
          "text": [
            "\n",
            "train loss: 0.677valid loss:0.947\n"
          ],
          "name": "stdout"
        },
        {
          "output_type": "display_data",
          "data": {
            "application/vnd.jupyter.widget-view+json": {
              "model_id": "946ea597439a4495a5c7c0d6dd36e0a3",
              "version_minor": 0,
              "version_major": 2
            },
            "text/plain": [
              "HBox(children=(IntProgress(value=0, description='epoch:82', max=36, style=ProgressStyle(description_width='ini…"
            ]
          },
          "metadata": {
            "tags": []
          }
        },
        {
          "output_type": "stream",
          "text": [
            "\n",
            "train loss: 0.676valid loss:0.952\n"
          ],
          "name": "stdout"
        },
        {
          "output_type": "display_data",
          "data": {
            "application/vnd.jupyter.widget-view+json": {
              "model_id": "188d17f861654de2a3afdd2f2b3910b5",
              "version_minor": 0,
              "version_major": 2
            },
            "text/plain": [
              "HBox(children=(IntProgress(value=0, description='epoch:83', max=36, style=ProgressStyle(description_width='ini…"
            ]
          },
          "metadata": {
            "tags": []
          }
        },
        {
          "output_type": "stream",
          "text": [
            "\n",
            "train loss: 0.676valid loss:0.946\n"
          ],
          "name": "stdout"
        },
        {
          "output_type": "display_data",
          "data": {
            "application/vnd.jupyter.widget-view+json": {
              "model_id": "8aff15bac1d3438f971e1c837969bf0e",
              "version_minor": 0,
              "version_major": 2
            },
            "text/plain": [
              "HBox(children=(IntProgress(value=0, description='epoch:84', max=36, style=ProgressStyle(description_width='ini…"
            ]
          },
          "metadata": {
            "tags": []
          }
        },
        {
          "output_type": "stream",
          "text": [
            "\n",
            "train loss: 0.677valid loss:0.947\n"
          ],
          "name": "stdout"
        },
        {
          "output_type": "display_data",
          "data": {
            "application/vnd.jupyter.widget-view+json": {
              "model_id": "9488ad12d26b432ca0b038b202e8f76f",
              "version_minor": 0,
              "version_major": 2
            },
            "text/plain": [
              "HBox(children=(IntProgress(value=0, description='epoch:85', max=36, style=ProgressStyle(description_width='ini…"
            ]
          },
          "metadata": {
            "tags": []
          }
        },
        {
          "output_type": "stream",
          "text": [
            "\n",
            "train loss: 0.678valid loss:0.950\n"
          ],
          "name": "stdout"
        },
        {
          "output_type": "display_data",
          "data": {
            "application/vnd.jupyter.widget-view+json": {
              "model_id": "e18651fe8b5447be84c7ca52104e3920",
              "version_minor": 0,
              "version_major": 2
            },
            "text/plain": [
              "HBox(children=(IntProgress(value=0, description='epoch:86', max=36, style=ProgressStyle(description_width='ini…"
            ]
          },
          "metadata": {
            "tags": []
          }
        },
        {
          "output_type": "stream",
          "text": [
            "\n",
            "train loss: 0.675valid loss:0.944\n"
          ],
          "name": "stdout"
        },
        {
          "output_type": "display_data",
          "data": {
            "application/vnd.jupyter.widget-view+json": {
              "model_id": "52bfa083c27544cb8a1eacc77378c4a1",
              "version_minor": 0,
              "version_major": 2
            },
            "text/plain": [
              "HBox(children=(IntProgress(value=0, description='epoch:87', max=36, style=ProgressStyle(description_width='ini…"
            ]
          },
          "metadata": {
            "tags": []
          }
        },
        {
          "output_type": "stream",
          "text": [
            "\n",
            "train loss: 0.675valid loss:0.944\n"
          ],
          "name": "stdout"
        },
        {
          "output_type": "display_data",
          "data": {
            "application/vnd.jupyter.widget-view+json": {
              "model_id": "ee23973b559d4c25bf211b1893044754",
              "version_minor": 0,
              "version_major": 2
            },
            "text/plain": [
              "HBox(children=(IntProgress(value=0, description='epoch:88', max=36, style=ProgressStyle(description_width='ini…"
            ]
          },
          "metadata": {
            "tags": []
          }
        },
        {
          "output_type": "stream",
          "text": [
            "\n",
            "train loss: 0.675valid loss:0.946\n"
          ],
          "name": "stdout"
        },
        {
          "output_type": "display_data",
          "data": {
            "application/vnd.jupyter.widget-view+json": {
              "model_id": "d8bddbfe2350461a9f765bf44592343d",
              "version_minor": 0,
              "version_major": 2
            },
            "text/plain": [
              "HBox(children=(IntProgress(value=0, description='epoch:89', max=36, style=ProgressStyle(description_width='ini…"
            ]
          },
          "metadata": {
            "tags": []
          }
        },
        {
          "output_type": "stream",
          "text": [
            "\n",
            "train loss: 0.677valid loss:0.945\n"
          ],
          "name": "stdout"
        },
        {
          "output_type": "display_data",
          "data": {
            "application/vnd.jupyter.widget-view+json": {
              "model_id": "b0f5cd695b1c4287aa4989718467157e",
              "version_minor": 0,
              "version_major": 2
            },
            "text/plain": [
              "HBox(children=(IntProgress(value=0, description='epoch:90', max=36, style=ProgressStyle(description_width='ini…"
            ]
          },
          "metadata": {
            "tags": []
          }
        },
        {
          "output_type": "stream",
          "text": [
            "\n",
            "train loss: 0.675valid loss:0.947\n"
          ],
          "name": "stdout"
        },
        {
          "output_type": "display_data",
          "data": {
            "application/vnd.jupyter.widget-view+json": {
              "model_id": "6da774c9c2844518930598de828de2e6",
              "version_minor": 0,
              "version_major": 2
            },
            "text/plain": [
              "HBox(children=(IntProgress(value=0, description='epoch:91', max=36, style=ProgressStyle(description_width='ini…"
            ]
          },
          "metadata": {
            "tags": []
          }
        },
        {
          "output_type": "stream",
          "text": [
            "\n",
            "train loss: 0.676valid loss:0.945\n"
          ],
          "name": "stdout"
        },
        {
          "output_type": "display_data",
          "data": {
            "application/vnd.jupyter.widget-view+json": {
              "model_id": "0dfecb8a87ac40489430537dcc915018",
              "version_minor": 0,
              "version_major": 2
            },
            "text/plain": [
              "HBox(children=(IntProgress(value=0, description='epoch:92', max=36, style=ProgressStyle(description_width='ini…"
            ]
          },
          "metadata": {
            "tags": []
          }
        },
        {
          "output_type": "stream",
          "text": [
            "\n",
            "train loss: 0.674valid loss:0.943\n"
          ],
          "name": "stdout"
        },
        {
          "output_type": "display_data",
          "data": {
            "application/vnd.jupyter.widget-view+json": {
              "model_id": "7b418d41ecc541a4b24e9986e80fab10",
              "version_minor": 0,
              "version_major": 2
            },
            "text/plain": [
              "HBox(children=(IntProgress(value=0, description='epoch:93', max=36, style=ProgressStyle(description_width='ini…"
            ]
          },
          "metadata": {
            "tags": []
          }
        },
        {
          "output_type": "stream",
          "text": [
            "\n",
            "train loss: 0.676valid loss:0.950\n"
          ],
          "name": "stdout"
        },
        {
          "output_type": "display_data",
          "data": {
            "application/vnd.jupyter.widget-view+json": {
              "model_id": "c0decabed57c4484ae8c4aef19de16d6",
              "version_minor": 0,
              "version_major": 2
            },
            "text/plain": [
              "HBox(children=(IntProgress(value=0, description='epoch:94', max=36, style=ProgressStyle(description_width='ini…"
            ]
          },
          "metadata": {
            "tags": []
          }
        },
        {
          "output_type": "stream",
          "text": [
            "\n",
            "train loss: 0.675valid loss:0.946\n"
          ],
          "name": "stdout"
        },
        {
          "output_type": "display_data",
          "data": {
            "application/vnd.jupyter.widget-view+json": {
              "model_id": "f5c47ca7f8fb4260a2bed3672f5ed20d",
              "version_minor": 0,
              "version_major": 2
            },
            "text/plain": [
              "HBox(children=(IntProgress(value=0, description='epoch:95', max=36, style=ProgressStyle(description_width='ini…"
            ]
          },
          "metadata": {
            "tags": []
          }
        },
        {
          "output_type": "stream",
          "text": [
            "\n",
            "train loss: 0.674valid loss:0.947\n"
          ],
          "name": "stdout"
        },
        {
          "output_type": "display_data",
          "data": {
            "application/vnd.jupyter.widget-view+json": {
              "model_id": "adcfa17aa57c43a69b9cd5da5eee8b2d",
              "version_minor": 0,
              "version_major": 2
            },
            "text/plain": [
              "HBox(children=(IntProgress(value=0, description='epoch:96', max=36, style=ProgressStyle(description_width='ini…"
            ]
          },
          "metadata": {
            "tags": []
          }
        },
        {
          "output_type": "stream",
          "text": [
            "\n",
            "train loss: 0.675valid loss:0.942\n"
          ],
          "name": "stdout"
        },
        {
          "output_type": "display_data",
          "data": {
            "application/vnd.jupyter.widget-view+json": {
              "model_id": "37a0fe34aee14af5bfd24353787b48f7",
              "version_minor": 0,
              "version_major": 2
            },
            "text/plain": [
              "HBox(children=(IntProgress(value=0, description='epoch:97', max=36, style=ProgressStyle(description_width='ini…"
            ]
          },
          "metadata": {
            "tags": []
          }
        },
        {
          "output_type": "stream",
          "text": [
            "\n",
            "train loss: 0.674valid loss:0.944\n"
          ],
          "name": "stdout"
        },
        {
          "output_type": "display_data",
          "data": {
            "application/vnd.jupyter.widget-view+json": {
              "model_id": "690cf20574a148ffa1e4d53962e3bc07",
              "version_minor": 0,
              "version_major": 2
            },
            "text/plain": [
              "HBox(children=(IntProgress(value=0, description='epoch:98', max=36, style=ProgressStyle(description_width='ini…"
            ]
          },
          "metadata": {
            "tags": []
          }
        },
        {
          "output_type": "stream",
          "text": [
            "\n",
            "train loss: 0.677valid loss:0.947\n"
          ],
          "name": "stdout"
        },
        {
          "output_type": "display_data",
          "data": {
            "application/vnd.jupyter.widget-view+json": {
              "model_id": "b6243c7ef61f4b44b5bcd761b910fe71",
              "version_minor": 0,
              "version_major": 2
            },
            "text/plain": [
              "HBox(children=(IntProgress(value=0, description='epoch:99', max=36, style=ProgressStyle(description_width='ini…"
            ]
          },
          "metadata": {
            "tags": []
          }
        },
        {
          "output_type": "stream",
          "text": [
            "\n",
            "train loss: 0.675valid loss:0.948\n"
          ],
          "name": "stdout"
        }
      ]
    },
    {
      "cell_type": "code",
      "metadata": {
        "id": "l4YnR_PSHSxF",
        "colab_type": "code",
        "outputId": "3f38ee8c-869f-41dd-ad5b-4fa57287a88f",
        "colab": {
          "base_uri": "https://localhost:8080/",
          "height": 296
        }
      },
      "source": [
        "plt.plot(np.arange(len(history['train'])), history['train'], label='train')\n",
        "plt.plot(np.arange(len(history['valid'])), history['valid'], label='valid')\n",
        "plt.xlabel('epochs')\n",
        "plt.ylabel('loss')\n",
        "plt.legend()"
      ],
      "execution_count": 36,
      "outputs": [
        {
          "output_type": "execute_result",
          "data": {
            "text/plain": [
              "<matplotlib.legend.Legend at 0x7f5186ee8080>"
            ]
          },
          "metadata": {
            "tags": []
          },
          "execution_count": 36
        },
        {
          "output_type": "display_data",
          "data": {
            "image/png": "[encoded data removed]",
            "text/plain": [
              "<Figure size 432x288 with 1 Axes>"
            ]
          },
          "metadata": {
            "tags": []
          }
        }
      ]
    },
    {
      "cell_type": "code",
      "metadata": {
        "id": "lz2msP82HSxH",
        "colab_type": "code",
        "outputId": "eb5a0731-dc45-4f56-a635-e04d0640eda4",
        "colab": {
          "base_uri": "https://localhost:8080/",
          "height": 34
        }
      },
      "source": [
        "y_pred = predict(model, test_loader)\n",
        "metrics.accuracy_score(y_test, y_pred)"
      ],
      "execution_count": 45,
      "outputs": [
        {
          "output_type": "execute_result",
          "data": {
            "text/plain": [
              "0.8106744556558683"
            ]
          },
          "metadata": {
            "tags": []
          },
          "execution_count": 45
        }
      ]
    },
    {
      "cell_type": "markdown",
      "metadata": {
        "id": "QbjDgzshHSxJ",
        "colab_type": "text"
      },
      "source": [
        "### What is the cross-entropy loss of uniformly random guessing classifier for this task? [0.5 point]"
      ]
    },
    {
      "cell_type": "code",
      "metadata": {
        "id": "kumtquhku0cg",
        "colab_type": "code",
        "colab": {}
      },
      "source": [
        "from sklearn.dummy import DummyClassifier"
      ],
      "execution_count": 0,
      "outputs": []
    },
    {
      "cell_type": "code",
      "metadata": {
        "id": "rTSHkvC_rI_d",
        "colab_type": "code",
        "colab": {
          "base_uri": "https://localhost:8080/",
          "height": 34
        },
        "outputId": "f657e011-31ca-4e14-f5cd-4b005523c8cd"
      },
      "source": [
        "clf = DummyClassifier(strategy='uniform')\n",
        "clf.fit(X_train, y_train)\n",
        "y_pred = clf.predict_proba(X_test)\n",
        "metrics.log_loss(y_test, y_pred)"
      ],
      "execution_count": 61,
      "outputs": [
        {
          "output_type": "execute_result",
          "data": {
            "text/plain": [
              "2.9957322735539913"
            ]
          },
          "metadata": {
            "tags": []
          },
          "execution_count": 61
        }
      ]
    },
    {
      "cell_type": "markdown",
      "metadata": {
        "id": "Mu_q7P6RHSxL",
        "colab_type": "text"
      },
      "source": [
        "### What is the accuracy of constant prediction classifier for this task? [0.5 point]"
      ]
    },
    {
      "cell_type": "code",
      "metadata": {
        "id": "BDWpTuy1HSxM",
        "colab_type": "code",
        "colab": {
          "base_uri": "https://localhost:8080/",
          "height": 34
        },
        "outputId": "e1ea4bf8-915d-490a-b9d2-66aa6fded802"
      },
      "source": [
        "metrics.accuracy_score(y_test, [1 for i in range(len(y_test))])"
      ],
      "execution_count": 63,
      "outputs": [
        {
          "output_type": "execute_result",
          "data": {
            "text/plain": [
              "0.05164630908125332"
            ]
          },
          "metadata": {
            "tags": []
          },
          "execution_count": 63
        }
      ]
    },
    {
      "cell_type": "code",
      "metadata": {
        "id": "hpYj03hBvFd6",
        "colab_type": "code",
        "colab": {}
      },
      "source": [
        ""
      ],
      "execution_count": 0,
      "outputs": []
    }
  ]
}