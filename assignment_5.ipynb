{
  "nbformat": 4,
  "nbformat_minor": 0,
  "metadata": {
    "kernelspec": {
      "name": "python3",
      "display_name": "Python 3"
    },
    "language_info": {
      "codemirror_mode": {
        "name": "ipython",
        "version": 3
      },
      "file_extension": ".py",
      "mimetype": "text/x-python",
      "name": "python",
      "nbconvert_exporter": "python",
      "pygments_lexer": "ipython3",
      "version": "3.7.5"
    },
    "colab": {
      "name": "assignment_5.ipynb",
      "provenance": [],
      "collapsed_sections": []
    },
    "accelerator": "GPU"
  },
  "cells": [
    {
      "cell_type": "code",
      "metadata": {
        "id": "_OEOrQFWdGFv",
        "colab_type": "code",
        "colab": {}
      },
      "source": [
        "from IPython.display import clear_output"
      ],
      "execution_count": 0,
      "outputs": []
    },
    {
      "cell_type": "code",
      "metadata": {
        "id": "CbQTtLBweE_c",
        "colab_type": "code",
        "colab": {}
      },
      "source": [
        "!pip install pycodestyle flake8 pycodestyle_magic\n",
        "!pip install PyDrive\n",
        "clear_output()"
      ],
      "execution_count": 0,
      "outputs": []
    },
    {
      "cell_type": "code",
      "metadata": {
        "id": "40cSrzc4e1Zb",
        "colab_type": "code",
        "colab": {}
      },
      "source": [
        "%load_ext pycodestyle_magic"
      ],
      "execution_count": 0,
      "outputs": []
    },
    {
      "cell_type": "code",
      "metadata": {
        "id": "WJ5T1t9OeyLZ",
        "colab_type": "code",
        "colab": {}
      },
      "source": [
        "from google.colab import auth\n",
        "from pydrive.auth import GoogleAuth\n",
        "from pydrive.drive import GoogleDrive\n",
        "from oauth2client.client import GoogleCredentials"
      ],
      "execution_count": 0,
      "outputs": []
    },
    {
      "cell_type": "code",
      "metadata": {
        "id": "PAKzer19fBPw",
        "colab_type": "code",
        "colab": {}
      },
      "source": [
        "auth.authenticate_user()\n",
        "gauth = GoogleAuth()\n",
        "gauth.credentials = GoogleCredentials.get_application_default()\n",
        "drive = GoogleDrive(gauth)"
      ],
      "execution_count": 0,
      "outputs": []
    },
    {
      "cell_type": "code",
      "metadata": {
        "id": "KLsLHzwgue4J",
        "colab_type": "code",
        "colab": {}
      },
      "source": [
        "# kaggle API сегодня не работало, решение ошибки не гуглилось :(\n",
        "\n",
        "downloaded = drive.CreateFile({'id': '1Nh6yZij2vSlZtkAgv_K5l0paFMjB7xLC'})\n",
        "downloaded.GetContentFile('imdb_master.csv')"
      ],
      "execution_count": 0,
      "outputs": []
    },
    {
      "cell_type": "markdown",
      "metadata": {
        "id": "PnT6koqua7hR",
        "colab_type": "text"
      },
      "source": [
        "# Assignment 5\n",
        "\n",
        "Build CNN model for sentiment analysis (binary classification) of IMDB Reviews (https://www.kaggle.com/utathya/imdb-review-dataset).\n",
        "You can use data with label=\"unsup\" for pretraining of embeddings. Here you are forbidden to use test dataset for pretraining of embeddings.  \n",
        "Your quality metric is accuracy score on test dataset. Look at \"type\" column for  train/test split.  \n",
        "You can use pretrained embeddings from external sources.  \n",
        "You have to provide data for trials with different hyperparameter values.  \n",
        "\n",
        "You have to beat following baselines:  \n",
        "[3 points] acc = 0.75  \n",
        "[5 points] acc = 0.8  \n",
        "[8 points] acc = 0.9  \n",
        "\n",
        "[2 points] for using unsupervised data  "
      ]
    },
    {
      "cell_type": "code",
      "metadata": {
        "id": "6fYt4_XuMjnE",
        "colab_type": "code",
        "colab": {}
      },
      "source": [
        "%tensorflow_version 1.x"
      ],
      "execution_count": 0,
      "outputs": []
    },
    {
      "cell_type": "code",
      "metadata": {
        "id": "Myw8fGROLFH1",
        "colab_type": "code",
        "colab": {}
      },
      "source": [
        "import os\n",
        "os.environ['TF_CPP_MIN_LOG_LEVEL'] = '3'"
      ],
      "execution_count": 0,
      "outputs": []
    },
    {
      "cell_type": "code",
      "metadata": {
        "id": "rutj4yxucdPi",
        "colab_type": "code",
        "colab": {}
      },
      "source": [
        "import nltk\n",
        "import pickle\n",
        "import logging\n",
        "import warnings\n",
        "import pandas as pd\n",
        "import numpy as np\n",
        "import tensorflow as tf\n",
        "from itertools import chain\n",
        "from string import punctuation\n",
        "from collections import Counter\n",
        "from nltk.corpus import wordnet\n",
        "from nltk.corpus import stopwords\n",
        "from nltk.stem import WordNetLemmatizer\n",
        "from nltk.tokenize.casual import TweetTokenizer\n",
        "from keras import layers as L\n",
        "from keras import backend as K\n",
        "from keras.models import Sequential\n",
        "from keras.callbacks import EarlyStopping\n",
        "from gensim.models.word2vec import Word2Vec\n",
        "from keras.preprocessing.sequence import pad_sequences"
      ],
      "execution_count": 0,
      "outputs": []
    },
    {
      "cell_type": "code",
      "metadata": {
        "id": "H_ZJSc7LaFpZ",
        "colab_type": "code",
        "colab": {}
      },
      "source": [
        "warnings.filterwarnings('ignore')"
      ],
      "execution_count": 0,
      "outputs": []
    },
    {
      "cell_type": "code",
      "metadata": {
        "id": "KD0z91iAL474",
        "colab_type": "code",
        "colab": {}
      },
      "source": [
        "tf.get_logger().setLevel(logging.ERROR)\n",
        "tf.autograph.set_verbosity(3)"
      ],
      "execution_count": 0,
      "outputs": []
    },
    {
      "cell_type": "code",
      "metadata": {
        "id": "zWdUkVgZ98Rz",
        "colab_type": "code",
        "colab": {}
      },
      "source": [
        "def reset_tf_session():\n",
        "    curr_session = tf.get_default_session()\n",
        "    if curr_session:\n",
        "        curr_session.close()\n",
        "    K.clear_session()\n",
        "    config = tf.ConfigProto()\n",
        "    config.gpu_options.allow_growth = True\n",
        "    s = tf.InteractiveSession(config=config)\n",
        "    K.set_session(s)"
      ],
      "execution_count": 0,
      "outputs": []
    },
    {
      "cell_type": "code",
      "metadata": {
        "id": "VoXEk-oVq6jy",
        "colab_type": "code",
        "colab": {}
      },
      "source": [
        "np.random.seed(42)"
      ],
      "execution_count": 0,
      "outputs": []
    },
    {
      "cell_type": "code",
      "metadata": {
        "id": "ehSq4wkyrrSZ",
        "colab_type": "code",
        "outputId": "902bf20f-3e73-4f65-ea93-df55754b924a",
        "colab": {
          "base_uri": "https://localhost:8080/",
          "height": 187
        }
      },
      "source": [
        "nltk.download('punkt')\n",
        "nltk.download('wordnet')\n",
        "nltk.download('stopwords')\n",
        "nltk.download('averaged_perceptron_tagger')"
      ],
      "execution_count": 0,
      "outputs": [
        {
          "output_type": "stream",
          "text": [
            "[nltk_data] Downloading package punkt to /root/nltk_data...\n",
            "[nltk_data]   Unzipping tokenizers/punkt.zip.\n",
            "[nltk_data] Downloading package wordnet to /root/nltk_data...\n",
            "[nltk_data]   Unzipping corpora/wordnet.zip.\n",
            "[nltk_data] Downloading package stopwords to /root/nltk_data...\n",
            "[nltk_data]   Unzipping corpora/stopwords.zip.\n",
            "[nltk_data] Downloading package averaged_perceptron_tagger to\n",
            "[nltk_data]     /root/nltk_data...\n",
            "[nltk_data]   Unzipping taggers/averaged_perceptron_tagger.zip.\n"
          ],
          "name": "stdout"
        },
        {
          "output_type": "execute_result",
          "data": {
            "text/plain": [
              "True"
            ]
          },
          "metadata": {
            "tags": []
          },
          "execution_count": 14
        }
      ]
    },
    {
      "cell_type": "code",
      "metadata": {
        "id": "SDxa-idS5bYV",
        "colab_type": "code",
        "colab": {}
      },
      "source": [
        "stopwords = set(stopwords.words('english')) | set(punctuation)"
      ],
      "execution_count": 0,
      "outputs": []
    },
    {
      "cell_type": "markdown",
      "metadata": {
        "id": "aqVyW_KFnH7p",
        "colab_type": "text"
      },
      "source": [
        "# Preprocessing"
      ]
    },
    {
      "cell_type": "code",
      "metadata": {
        "id": "JO5ehN64sofJ",
        "colab_type": "code",
        "colab": {}
      },
      "source": [
        "df = pd.read_csv('imdb_master.csv', encoding='iso-8859-1')"
      ],
      "execution_count": 0,
      "outputs": []
    },
    {
      "cell_type": "code",
      "metadata": {
        "id": "QylbRIHZyBE3",
        "colab_type": "code",
        "outputId": "2d68d9b7-09a3-412f-aa0c-14363bf12df5",
        "colab": {
          "base_uri": "https://localhost:8080/",
          "height": 204
        }
      },
      "source": [
        "df.head()"
      ],
      "execution_count": 21,
      "outputs": [
        {
          "output_type": "execute_result",
          "data": {
            "text/html": [
              "<div>\n",
              "<style scoped>\n",
              "    .dataframe tbody tr th:only-of-type {\n",
              "        vertical-align: middle;\n",
              "    }\n",
              "\n",
              "    .dataframe tbody tr th {\n",
              "        vertical-align: top;\n",
              "    }\n",
              "\n",
              "    .dataframe thead th {\n",
              "        text-align: right;\n",
              "    }\n",
              "</style>\n",
              "<table border=\"1\" class=\"dataframe\">\n",
              "  <thead>\n",
              "    <tr style=\"text-align: right;\">\n",
              "      <th></th>\n",
              "      <th>Unnamed: 0</th>\n",
              "      <th>type</th>\n",
              "      <th>review</th>\n",
              "      <th>label</th>\n",
              "      <th>file</th>\n",
              "    </tr>\n",
              "  </thead>\n",
              "  <tbody>\n",
              "    <tr>\n",
              "      <th>0</th>\n",
              "      <td>0</td>\n",
              "      <td>test</td>\n",
              "      <td>Once again Mr. Costner has dragged out a movie...</td>\n",
              "      <td>neg</td>\n",
              "      <td>0_2.txt</td>\n",
              "    </tr>\n",
              "    <tr>\n",
              "      <th>1</th>\n",
              "      <td>1</td>\n",
              "      <td>test</td>\n",
              "      <td>This is an example of why the majority of acti...</td>\n",
              "      <td>neg</td>\n",
              "      <td>10000_4.txt</td>\n",
              "    </tr>\n",
              "    <tr>\n",
              "      <th>2</th>\n",
              "      <td>2</td>\n",
              "      <td>test</td>\n",
              "      <td>First of all I hate those moronic rappers, who...</td>\n",
              "      <td>neg</td>\n",
              "      <td>10001_1.txt</td>\n",
              "    </tr>\n",
              "    <tr>\n",
              "      <th>3</th>\n",
              "      <td>3</td>\n",
              "      <td>test</td>\n",
              "      <td>Not even the Beatles could write songs everyon...</td>\n",
              "      <td>neg</td>\n",
              "      <td>10002_3.txt</td>\n",
              "    </tr>\n",
              "    <tr>\n",
              "      <th>4</th>\n",
              "      <td>4</td>\n",
              "      <td>test</td>\n",
              "      <td>Brass pictures (movies is not a fitting word f...</td>\n",
              "      <td>neg</td>\n",
              "      <td>10003_3.txt</td>\n",
              "    </tr>\n",
              "  </tbody>\n",
              "</table>\n",
              "</div>"
            ],
            "text/plain": [
              "   Unnamed: 0  type  ... label         file\n",
              "0           0  test  ...   neg      0_2.txt\n",
              "1           1  test  ...   neg  10000_4.txt\n",
              "2           2  test  ...   neg  10001_1.txt\n",
              "3           3  test  ...   neg  10002_3.txt\n",
              "4           4  test  ...   neg  10003_3.txt\n",
              "\n",
              "[5 rows x 5 columns]"
            ]
          },
          "metadata": {
            "tags": []
          },
          "execution_count": 21
        }
      ]
    },
    {
      "cell_type": "code",
      "metadata": {
        "id": "FS3aY8jxzbWq",
        "colab_type": "code",
        "colab": {}
      },
      "source": [
        "df_train = df.loc[(df['type'] == 'train') & (df['label'] != 'unsup')]\n",
        "df_test = df.loc[(df['type'] == 'test') & (df['label'] != 'unsup')]\n",
        "df_unsup = df.loc[df['label'] == 'unsup']"
      ],
      "execution_count": 0,
      "outputs": []
    },
    {
      "cell_type": "code",
      "metadata": {
        "id": "6gtF6tcD1w18",
        "colab_type": "code",
        "colab": {}
      },
      "source": [
        "X_train = df_train['review']\n",
        "X_test = df_test['review']\n",
        "y_train = np.array([1 if label == 'pos' else 0 for label in df_train['label']])\n",
        "y_test = np.array([1 if label == 'pos' else 0 for label in df_test['label']])\n",
        "sentences = df_unsup['review']"
      ],
      "execution_count": 0,
      "outputs": []
    },
    {
      "cell_type": "code",
      "metadata": {
        "id": "bPvNSASLPZSq",
        "colab_type": "code",
        "colab": {}
      },
      "source": [
        "del df\n",
        "del df_train\n",
        "del df_test\n",
        "del df_unsup"
      ],
      "execution_count": 0,
      "outputs": []
    },
    {
      "cell_type": "code",
      "metadata": {
        "id": "1VhKA0BMPkyo",
        "colab_type": "code",
        "colab": {}
      },
      "source": [
        "!rm imdb_master.csv"
      ],
      "execution_count": 0,
      "outputs": []
    },
    {
      "cell_type": "markdown",
      "metadata": {
        "id": "ngDSHpH8-DTs",
        "colab_type": "text"
      },
      "source": [
        "Я использовала TweetTokenizer, так как он выделяет смайлы и прочие специфичные для интернет-речи токены, которые могут быть маркером сентимента."
      ]
    },
    {
      "cell_type": "code",
      "metadata": {
        "id": "kw9FwCRH3VYe",
        "colab_type": "code",
        "colab": {}
      },
      "source": [
        "tokenizer = TweetTokenizer()"
      ],
      "execution_count": 0,
      "outputs": []
    },
    {
      "cell_type": "code",
      "metadata": {
        "id": "ompKg5fPAsX3",
        "colab_type": "code",
        "colab": {}
      },
      "source": [
        "X_train = [tokenizer.tokenize(text) for text in X_train]\n",
        "X_test = [tokenizer.tokenize(text) for text in X_test]\n",
        "sentences = [tokenizer.tokenize(text) for text in sentences]"
      ],
      "execution_count": 0,
      "outputs": []
    },
    {
      "cell_type": "code",
      "metadata": {
        "id": "-3lj2Al0GBiX",
        "colab_type": "code",
        "colab": {}
      },
      "source": [
        "lemmatizer = WordNetLemmatizer()"
      ],
      "execution_count": 0,
      "outputs": []
    },
    {
      "cell_type": "code",
      "metadata": {
        "id": "fEOa4XXQHSwC",
        "colab_type": "code",
        "colab": {}
      },
      "source": [
        "def pos_tagger(word):\n",
        "    tag = nltk.pos_tag([word])[0][1]\n",
        "    if tag.startswith('J'):\n",
        "        return wordnet.ADJ\n",
        "    elif tag.startswith('R'):\n",
        "        return wordnet.ADV\n",
        "    elif tag.startswith('V'):\n",
        "        return wordnet.VERB\n",
        "    return wordnet.NOUN"
      ],
      "execution_count": 0,
      "outputs": []
    },
    {
      "cell_type": "code",
      "metadata": {
        "id": "9YWYGPLRHM2d",
        "colab_type": "code",
        "colab": {}
      },
      "source": [
        "X_train = [[lemmatizer.lemmatize(word.lower(), pos=pos_tagger(word.lower()))\n",
        "           for word in text if word not in stopwords] for text in X_train]\n",
        "\n",
        "X_test = [[lemmatizer.lemmatize(word.lower(), pos=pos_tagger(word.lower()))\n",
        "          for word in text if word not in stopwords] for text in X_test]\n",
        "\n",
        "sentences = [[lemmatizer.lemmatize(word.lower(), pos=pos_tagger(word.lower()))\n",
        "             for word in text if word not in stopwords] for text in sentences]"
      ],
      "execution_count": 0,
      "outputs": []
    },
    {
      "cell_type": "markdown",
      "metadata": {
        "id": "DdrBCdUlePe0",
        "colab_type": "text"
      },
      "source": [
        "Сохраним лемматизованные тексты."
      ]
    },
    {
      "cell_type": "code",
      "metadata": {
        "id": "Ha5eEYJAX6Ow",
        "colab_type": "code",
        "colab": {}
      },
      "source": [
        "with open('X_train.pkl', 'wb') as f:\n",
        "    pickle.dump(X_train, f)\n",
        "\n",
        "with open('X_test.pkl', 'wb') as f:\n",
        "    pickle.dump(X_test, f)\n",
        "\n",
        "with open('sentences.pkl', 'wb') as f:\n",
        "    pickle.dump(sentences, f)"
      ],
      "execution_count": 0,
      "outputs": []
    },
    {
      "cell_type": "code",
      "metadata": {
        "id": "QSHBGqEoYcRN",
        "colab_type": "code",
        "colab": {}
      },
      "source": [
        "uploaded = drive.CreateFile({'title': 'X_train.pkl'})\n",
        "uploaded.SetContentFile('X_train.pkl')\n",
        "uploaded.Upload()\n",
        "\n",
        "uploaded = drive.CreateFile({'title': 'X_test.pkl'})\n",
        "uploaded.SetContentFile('X_test.pkl')\n",
        "uploaded.Upload()\n",
        "\n",
        "uploaded = drive.CreateFile({'title': 'sentences.pkl'})\n",
        "uploaded.SetContentFile('sentences.pkl')\n",
        "uploaded.Upload()"
      ],
      "execution_count": 0,
      "outputs": []
    },
    {
      "cell_type": "code",
      "metadata": {
        "id": "2_S7gxVXYi0Q",
        "colab_type": "code",
        "colab": {}
      },
      "source": [
        "# код, скачивающий предобработанные тексты\n",
        "\n",
        "# downloaded = drive.CreateFile({'id': '1m19e115PCIn5inLicGAZwldd_keokzKo'})\n",
        "# downloaded.GetContentFile('X_train.pkl')\n",
        "\n",
        "# downloaded = drive.CreateFile({'id': '1TtZIulmPGnyd7NQ_Ps6CBgl2NimfxbgA'})\n",
        "# downloaded.GetContentFile('X_test.pkl')\n",
        "\n",
        "# downloaded = drive.CreateFile({'id': '1H2MdO9_uQM1vDSMle50NCDQtAoa8evH_'})\n",
        "# downloaded.GetContentFile('sentences.pkl')\n",
        "\n",
        "# with open('X_train.pkl', 'rb') as f:\n",
        "#    X_train = pickle.load(f)\n",
        "\n",
        "# with open('X_test.pkl', 'rb') as f:\n",
        "#    X_test = pickle.load(f)\n",
        "\n",
        "# with open('sentences.pkl', 'rb') as f:\n",
        "#    sentences = pickle.load(f)"
      ],
      "execution_count": 0,
      "outputs": []
    },
    {
      "cell_type": "markdown",
      "metadata": {
        "id": "6vXci1qQgbdh",
        "colab_type": "text"
      },
      "source": [
        "Посчитаем количество уникальных слов в текстах, на которых будем обучать Word2Vec. Создадим словарь (и соответствующий обратный словарь), где ключи – слова, а значения – их индексы (чем частотнее слово, тем меньше значение индекса, максимальный индекс – у токена для незнакомых слов). Индексация с единицы (0 – для padding token)."
      ]
    },
    {
      "cell_type": "code",
      "metadata": {
        "id": "fTJZAo-AhWZK",
        "colab_type": "code",
        "outputId": "4cf194bc-df1a-41db-e02f-8ac40d6e94bb",
        "colab": {
          "base_uri": "https://localhost:8080/",
          "height": 34
        }
      },
      "source": [
        "word_counts = Counter(chain(*sentences)).most_common()\n",
        "vocab = {word_counts[i][0]: i + 1 for i in range(len(word_counts))}\n",
        "vocab_inv = {index: word for word, index in vocab.items()}\n",
        "vocab_size = len(vocab) + 1\n",
        "vocab_size"
      ],
      "execution_count": 27,
      "outputs": [
        {
          "output_type": "execute_result",
          "data": {
            "text/plain": [
              "137234"
            ]
          },
          "metadata": {
            "tags": []
          },
          "execution_count": 27
        }
      ]
    },
    {
      "cell_type": "markdown",
      "metadata": {
        "id": "40xQ2CtjTCKx",
        "colab_type": "text"
      },
      "source": [
        "Посчитаем максимальную и среднюю длину текста."
      ]
    },
    {
      "cell_type": "code",
      "metadata": {
        "id": "HWyL9UeBUVLN",
        "colab_type": "code",
        "outputId": "722b8003-b269-459f-e625-07517008be8e",
        "colab": {
          "base_uri": "https://localhost:8080/",
          "height": 34
        }
      },
      "source": [
        "max(list(map(len, X_train)) +\n",
        "    list(map(len, X_train)) +\n",
        "    list(map(len, X_train)))"
      ],
      "execution_count": 28,
      "outputs": [
        {
          "output_type": "execute_result",
          "data": {
            "text/plain": [
              "1514"
            ]
          },
          "metadata": {
            "tags": []
          },
          "execution_count": 28
        }
      ]
    },
    {
      "cell_type": "code",
      "metadata": {
        "id": "S8VVII2PUxQf",
        "colab_type": "code",
        "outputId": "569786aa-4794-4659-9a70-8ceb9b624fe2",
        "colab": {
          "base_uri": "https://localhost:8080/",
          "height": 34
        }
      },
      "source": [
        "np.mean(list(map(len, X_train)) +\n",
        "        list(map(len, X_train)) +\n",
        "        list(map(len, X_train)))"
      ],
      "execution_count": 29,
      "outputs": [
        {
          "output_type": "execute_result",
          "data": {
            "text/plain": [
              "136.47684"
            ]
          },
          "metadata": {
            "tags": []
          },
          "execution_count": 29
        }
      ]
    },
    {
      "cell_type": "markdown",
      "metadata": {
        "id": "TcZCEOa-itLN",
        "colab_type": "text"
      },
      "source": [
        "Преобразуем тексты в обучающем и тестовом датасете в последовательности чисел."
      ]
    },
    {
      "cell_type": "code",
      "metadata": {
        "id": "vD9rzUyblHd4",
        "colab_type": "code",
        "colab": {}
      },
      "source": [
        "X_train = [[vocab[word] if word in vocab else vocab_size for word in text]\n",
        "           for text in X_train]\n",
        "\n",
        "X_test = [[vocab[word] if word in vocab else vocab_size for word in text]\n",
        "          for text in X_test]"
      ],
      "execution_count": 0,
      "outputs": []
    },
    {
      "cell_type": "markdown",
      "metadata": {
        "id": "_uNHHIkIVQzj",
        "colab_type": "text"
      },
      "source": [
        "Делать padding до максимальной длины неоптимально, так как она в несколько раз выше средней длины. Будем делать padding до 150 слов – это чуть-чуть больше средней длины текста."
      ]
    },
    {
      "cell_type": "code",
      "metadata": {
        "id": "9lqEuvtemo-N",
        "colab_type": "code",
        "colab": {}
      },
      "source": [
        "X_train = pad_sequences(X_train, maxlen=150, padding='post')\n",
        "X_test = pad_sequences(X_test, maxlen=150, padding='post')"
      ],
      "execution_count": 0,
      "outputs": []
    },
    {
      "cell_type": "markdown",
      "metadata": {
        "id": "coc8c12jW8Qe",
        "colab_type": "text"
      },
      "source": [
        "# Word2Vec training"
      ]
    },
    {
      "cell_type": "code",
      "metadata": {
        "id": "BEUaUAgZXLz3",
        "colab_type": "code",
        "colab": {}
      },
      "source": [
        "w2v = Word2Vec(sentences, negative=5, size=100, iter=100, sg=1)"
      ],
      "execution_count": 0,
      "outputs": []
    },
    {
      "cell_type": "code",
      "metadata": {
        "id": "uAMTT5ncYAi0",
        "colab_type": "code",
        "outputId": "22c01cea-15c1-4683-8b1e-42555a404025",
        "colab": {
          "base_uri": "https://localhost:8080/",
          "height": 187
        }
      },
      "source": [
        "w2v.wv.most_similar('film')"
      ],
      "execution_count": 0,
      "outputs": [
        {
          "output_type": "execute_result",
          "data": {
            "text/plain": [
              "[('movie', 0.841327428817749),\n",
              " ('certainly', 0.6642634868621826),\n",
              " ('probably', 0.662882387638092),\n",
              " ('picture', 0.6517543196678162),\n",
              " ('cinema', 0.6354538202285767),\n",
              " ('one', 0.6313589811325073),\n",
              " ('flick', 0.6308745741844177),\n",
              " ('masterpiece', 0.6152960062026978),\n",
              " ('however', 0.6113929748535156),\n",
              " ('low-budget', 0.6112046241760254)]"
            ]
          },
          "metadata": {
            "tags": []
          },
          "execution_count": 49
        }
      ]
    },
    {
      "cell_type": "markdown",
      "metadata": {
        "id": "8c0HPADYY-DM",
        "colab_type": "text"
      },
      "source": [
        "Так как модель больше не будет обучаться, есть смысл вызвать метод init_sims(посчитать L2-нормализованные векторы модели заранее), чтобы снизить объём памяти, занимаемый моделью."
      ]
    },
    {
      "cell_type": "code",
      "metadata": {
        "id": "DFLbgieRYgnQ",
        "colab_type": "code",
        "colab": {}
      },
      "source": [
        "w2v.wv.init_sims(replace=True)"
      ],
      "execution_count": 0,
      "outputs": []
    },
    {
      "cell_type": "code",
      "metadata": {
        "id": "jnYdqO5UZzqR",
        "colab_type": "code",
        "colab": {}
      },
      "source": [
        "w2v.save('w2v.model')"
      ],
      "execution_count": 0,
      "outputs": []
    },
    {
      "cell_type": "code",
      "metadata": {
        "id": "_1_9U4DhaNMA",
        "colab_type": "code",
        "colab": {}
      },
      "source": [
        "uploaded = drive.CreateFile({'title': 'w2v.model'})\n",
        "uploaded.SetContentFile('w2v.model')\n",
        "uploaded.Upload()"
      ],
      "execution_count": 0,
      "outputs": []
    },
    {
      "cell_type": "code",
      "metadata": {
        "id": "Bi8Gg0e4OJf2",
        "colab_type": "code",
        "colab": {}
      },
      "source": [
        "# код, скачивающий готовую модель\n",
        "\n",
        "# downloaded = drive.CreateFile({'id': '1zDhxIA2BaVV7bUy7Wyrn9PXwE7g0RnSK'})\n",
        "# downloaded.GetContentFile('w2v.model')\n",
        "\n",
        "# w2v = Word2Vec.load('w2v.model')"
      ],
      "execution_count": 0,
      "outputs": []
    },
    {
      "cell_type": "markdown",
      "metadata": {
        "id": "ALZKlNy0n2n9",
        "colab_type": "text"
      },
      "source": [
        "Создадим матрицу эмбеддингов. Эмбеддинг для padding token – вектор длины 100, состоящий из нулей. Эмбеддинги для незнакомых слов состоят из случайных чисел в диапазоне от -0.25 до 0.25."
      ]
    },
    {
      "cell_type": "code",
      "metadata": {
        "id": "I_10xVQAn0o5",
        "colab_type": "code",
        "colab": {}
      },
      "source": [
        "embedding_matrix = np.array([np.zeros(100)] +\n",
        "                            [w2v[vocab_inv[i]] if vocab_inv[i] in w2v\n",
        "                             else np.random.uniform(-0.25, 0.25, 100)\n",
        "                             for i in range(1, vocab_size)])"
      ],
      "execution_count": 0,
      "outputs": []
    },
    {
      "cell_type": "markdown",
      "metadata": {
        "id": "6v3L7SJYaZV0",
        "colab_type": "text"
      },
      "source": [
        "# CNN training\n",
        "### Hyperparameter tuning\n",
        "Обучались шесть конволюционных нейросетей, отличающихся методом регуляризации – CNN без регуляризации, CNN с нормализацией батчей, CNN с дропаутом с вероятностью 0.1, CNN с дропаутом с вероятностью 0.5, CNN с дропаутом с вероятностью 0.8 и CNN с нормализацией батчей и дропаутом с той вероятностью, которая давала лучшие результаты.\n",
        "### Basic CNN model"
      ]
    },
    {
      "cell_type": "code",
      "metadata": {
        "id": "rrq8cv1kFbKV",
        "colab_type": "code",
        "colab": {}
      },
      "source": [
        "reset_tf_session()"
      ],
      "execution_count": 0,
      "outputs": []
    },
    {
      "cell_type": "code",
      "metadata": {
        "id": "1guBo6OYahdZ",
        "colab_type": "code",
        "outputId": "a69f7bdf-a6b6-4a9c-873a-dfe9145e85eb",
        "colab": {
          "base_uri": "https://localhost:8080/",
          "height": 629
        }
      },
      "source": [
        "model = Sequential()\n",
        "model.add(L.Embedding(vocab_size, 100, weights=[embedding_matrix],\n",
        "                      input_length=150, trainable=False))\n",
        "model.add(L.Conv1D(32, 3, activation='relu',  kernel_initializer='he_uniform'))\n",
        "model.add(L.Conv1D(32, 3, activation='relu',  kernel_initializer='he_uniform'))\n",
        "model.add(L.MaxPooling1D(pool_size=2))\n",
        "model.add(L.Conv1D(32, 4, activation='relu',  kernel_initializer='he_uniform'))\n",
        "model.add(L.Conv1D(32, 4, activation='relu',  kernel_initializer='he_uniform'))\n",
        "model.add(L.MaxPooling1D(pool_size=2))\n",
        "model.add(L.Conv1D(32, 5, activation='relu',  kernel_initializer='he_uniform'))\n",
        "model.add(L.Conv1D(32, 5, activation='relu',  kernel_initializer='he_uniform'))\n",
        "model.add(L.MaxPooling1D(pool_size=2))\n",
        "\n",
        "model.add(L.Flatten())\n",
        "model.add(L.Dense(128, activation='relu'))\n",
        "model.add(L.Dense(64, activation='relu'))\n",
        "model.add(L.Dense(1, activation='sigmoid'))\n",
        "\n",
        "model.summary()\n",
        "\n",
        "model.compile(loss='binary_crossentropy',\n",
        "              optimizer='adam',\n",
        "              metrics=['accuracy'])"
      ],
      "execution_count": 35,
      "outputs": [
        {
          "output_type": "stream",
          "text": [
            "Model: \"sequential_1\"\n",
            "_________________________________________________________________\n",
            "Layer (type)                 Output Shape              Param #   \n",
            "=================================================================\n",
            "embedding_1 (Embedding)      (None, 150, 100)          13723400  \n",
            "_________________________________________________________________\n",
            "conv1d_1 (Conv1D)            (None, 148, 32)           9632      \n",
            "_________________________________________________________________\n",
            "conv1d_2 (Conv1D)            (None, 146, 32)           3104      \n",
            "_________________________________________________________________\n",
            "max_pooling1d_1 (MaxPooling1 (None, 73, 32)            0         \n",
            "_________________________________________________________________\n",
            "conv1d_3 (Conv1D)            (None, 70, 32)            4128      \n",
            "_________________________________________________________________\n",
            "conv1d_4 (Conv1D)            (None, 67, 32)            4128      \n",
            "_________________________________________________________________\n",
            "max_pooling1d_2 (MaxPooling1 (None, 33, 32)            0         \n",
            "_________________________________________________________________\n",
            "conv1d_5 (Conv1D)            (None, 29, 32)            5152      \n",
            "_________________________________________________________________\n",
            "conv1d_6 (Conv1D)            (None, 25, 32)            5152      \n",
            "_________________________________________________________________\n",
            "max_pooling1d_3 (MaxPooling1 (None, 12, 32)            0         \n",
            "_________________________________________________________________\n",
            "flatten_1 (Flatten)          (None, 384)               0         \n",
            "_________________________________________________________________\n",
            "dense_1 (Dense)              (None, 128)               49280     \n",
            "_________________________________________________________________\n",
            "dense_2 (Dense)              (None, 64)                8256      \n",
            "_________________________________________________________________\n",
            "dense_3 (Dense)              (None, 1)                 65        \n",
            "=================================================================\n",
            "Total params: 13,812,297\n",
            "Trainable params: 88,897\n",
            "Non-trainable params: 13,723,400\n",
            "_________________________________________________________________\n"
          ],
          "name": "stdout"
        }
      ]
    },
    {
      "cell_type": "code",
      "metadata": {
        "id": "95SLxY42GdH9",
        "colab_type": "code",
        "outputId": "1ee4f8e4-d35f-4d7e-a5df-c5182560a429",
        "colab": {
          "base_uri": "https://localhost:8080/",
          "height": 442
        }
      },
      "source": [
        "history = modelhistory = model.fit(X_train, y_train,\n",
        "                    batch_size=32,\n",
        "                    epochs=20,\n",
        "                    verbose=1,\n",
        "                    validation_split=0.1,\n",
        "                    callbacks=[EarlyStopping(monitor='val_acc', patience=5,\n",
        "                                             restore_best_weights=True)])"
      ],
      "execution_count": 36,
      "outputs": [
        {
          "output_type": "stream",
          "text": [
            "Train on 22500 samples, validate on 2500 samples\n",
            "Epoch 1/20\n",
            "22500/22500 [==============================] - 11s 505us/step - loss: 0.4295 - acc: 0.7883 - val_loss: 0.3050 - val_acc: 0.8876\n",
            "Epoch 2/20\n",
            "22500/22500 [==============================] - 5s 202us/step - loss: 0.3245 - acc: 0.8629 - val_loss: 0.2702 - val_acc: 0.8784\n",
            "Epoch 3/20\n",
            "22500/22500 [==============================] - 5s 204us/step - loss: 0.2984 - acc: 0.8756 - val_loss: 0.2566 - val_acc: 0.9108\n",
            "Epoch 4/20\n",
            "22500/22500 [==============================] - 5s 201us/step - loss: 0.2808 - acc: 0.8839 - val_loss: 0.3621 - val_acc: 0.8516\n",
            "Epoch 5/20\n",
            "22500/22500 [==============================] - 5s 209us/step - loss: 0.2606 - acc: 0.8935 - val_loss: 0.4297 - val_acc: 0.8220\n",
            "Epoch 6/20\n",
            "22500/22500 [==============================] - 5s 206us/step - loss: 0.2479 - acc: 0.8999 - val_loss: 0.3316 - val_acc: 0.8732\n",
            "Epoch 7/20\n",
            "22500/22500 [==============================] - 5s 207us/step - loss: 0.2248 - acc: 0.9092 - val_loss: 0.1599 - val_acc: 0.9340\n",
            "Epoch 8/20\n",
            "22500/22500 [==============================] - 5s 205us/step - loss: 0.1982 - acc: 0.9240 - val_loss: 0.2998 - val_acc: 0.8756\n",
            "Epoch 9/20\n",
            "22500/22500 [==============================] - 5s 208us/step - loss: 0.1822 - acc: 0.9298 - val_loss: 0.3149 - val_acc: 0.8896\n",
            "Epoch 10/20\n",
            "22500/22500 [==============================] - 4s 199us/step - loss: 0.1563 - acc: 0.9404 - val_loss: 0.4076 - val_acc: 0.8700\n",
            "Epoch 11/20\n",
            "22500/22500 [==============================] - 5s 202us/step - loss: 0.1414 - acc: 0.9458 - val_loss: 0.3691 - val_acc: 0.8800\n",
            "Epoch 12/20\n",
            "22500/22500 [==============================] - 5s 205us/step - loss: 0.1251 - acc: 0.9533 - val_loss: 0.2719 - val_acc: 0.9096\n"
          ],
          "name": "stdout"
        }
      ]
    },
    {
      "cell_type": "markdown",
      "metadata": {
        "id": "4MXu1PQu6vw9",
        "colab_type": "text"
      },
      "source": [
        "Accuracy на валидационном датасете: 0.93\n"
      ]
    },
    {
      "cell_type": "code",
      "metadata": {
        "id": "9Fg0bBOe7Ehf",
        "colab_type": "code",
        "outputId": "f524e0da-5c23-437f-8cbc-9de7964b1ac9",
        "colab": {
          "base_uri": "https://localhost:8080/",
          "height": 51
        }
      },
      "source": [
        "model.evaluate(X_test, y_test)"
      ],
      "execution_count": 37,
      "outputs": [
        {
          "output_type": "stream",
          "text": [
            "25000/25000 [==============================] - 2s 62us/step\n"
          ],
          "name": "stdout"
        },
        {
          "output_type": "execute_result",
          "data": {
            "text/plain": [
              "[0.35912604201972487, 0.86176]"
            ]
          },
          "metadata": {
            "tags": []
          },
          "execution_count": 37
        }
      ]
    },
    {
      "cell_type": "markdown",
      "metadata": {
        "id": "tlWs6vIm7QI8",
        "colab_type": "text"
      },
      "source": [
        "Accuracy на тестовом датасете: 0.86\n",
        "### CNN model with batch normalization\n"
      ]
    },
    {
      "cell_type": "code",
      "metadata": {
        "id": "Hqzl_hxHCLv9",
        "colab_type": "code",
        "colab": {}
      },
      "source": [
        "reset_tf_session()"
      ],
      "execution_count": 0,
      "outputs": []
    },
    {
      "cell_type": "code",
      "metadata": {
        "id": "JoF9h9Q7CQWD",
        "colab_type": "code",
        "outputId": "707756da-18a6-400b-e5c9-3a8bd8908c9f",
        "colab": {
          "base_uri": "https://localhost:8080/",
          "height": 731
        }
      },
      "source": [
        "model = Sequential()\n",
        "model.add(L.Embedding(vocab_size, 100, weights=[embedding_matrix],\n",
        "                      input_length=150, trainable=False))\n",
        "model.add(L.Conv1D(32, 3, activation='relu',  kernel_initializer='he_uniform'))\n",
        "model.add(L.Conv1D(32, 3, activation='relu',  kernel_initializer='he_uniform'))\n",
        "model.add(L.MaxPooling1D(pool_size=2))\n",
        "model.add(L.Conv1D(32, 4, activation='relu',  kernel_initializer='he_uniform'))\n",
        "model.add(L.Conv1D(32, 4, activation='relu',  kernel_initializer='he_uniform'))\n",
        "model.add(L.MaxPooling1D(pool_size=2))\n",
        "model.add(L.Conv1D(32, 5, activation='relu',  kernel_initializer='he_uniform'))\n",
        "model.add(L.Conv1D(32, 5, activation='relu',  kernel_initializer='he_uniform'))\n",
        "model.add(L.MaxPooling1D(pool_size=2))\n",
        "\n",
        "model.add(L.Flatten())\n",
        "model.add(L.BatchNormalization())\n",
        "model.add(L.Dense(128, activation='relu'))\n",
        "model.add(L.BatchNormalization())\n",
        "model.add(L.Dense(64, activation='relu'))\n",
        "model.add(L.BatchNormalization())\n",
        "model.add(L.Dense(1, activation='sigmoid'))\n",
        "\n",
        "model.summary()\n",
        "\n",
        "model.compile(loss='binary_crossentropy',\n",
        "              optimizer='adam',\n",
        "              metrics=['accuracy'])"
      ],
      "execution_count": 39,
      "outputs": [
        {
          "output_type": "stream",
          "text": [
            "Model: \"sequential_1\"\n",
            "_________________________________________________________________\n",
            "Layer (type)                 Output Shape              Param #   \n",
            "=================================================================\n",
            "embedding_1 (Embedding)      (None, 150, 100)          13723400  \n",
            "_________________________________________________________________\n",
            "conv1d_1 (Conv1D)            (None, 148, 32)           9632      \n",
            "_________________________________________________________________\n",
            "conv1d_2 (Conv1D)            (None, 146, 32)           3104      \n",
            "_________________________________________________________________\n",
            "max_pooling1d_1 (MaxPooling1 (None, 73, 32)            0         \n",
            "_________________________________________________________________\n",
            "conv1d_3 (Conv1D)            (None, 70, 32)            4128      \n",
            "_________________________________________________________________\n",
            "conv1d_4 (Conv1D)            (None, 67, 32)            4128      \n",
            "_________________________________________________________________\n",
            "max_pooling1d_2 (MaxPooling1 (None, 33, 32)            0         \n",
            "_________________________________________________________________\n",
            "conv1d_5 (Conv1D)            (None, 29, 32)            5152      \n",
            "_________________________________________________________________\n",
            "conv1d_6 (Conv1D)            (None, 25, 32)            5152      \n",
            "_________________________________________________________________\n",
            "max_pooling1d_3 (MaxPooling1 (None, 12, 32)            0         \n",
            "_________________________________________________________________\n",
            "flatten_1 (Flatten)          (None, 384)               0         \n",
            "_________________________________________________________________\n",
            "batch_normalization_1 (Batch (None, 384)               1536      \n",
            "_________________________________________________________________\n",
            "dense_1 (Dense)              (None, 128)               49280     \n",
            "_________________________________________________________________\n",
            "batch_normalization_2 (Batch (None, 128)               512       \n",
            "_________________________________________________________________\n",
            "dense_2 (Dense)              (None, 64)                8256      \n",
            "_________________________________________________________________\n",
            "batch_normalization_3 (Batch (None, 64)                256       \n",
            "_________________________________________________________________\n",
            "dense_3 (Dense)              (None, 1)                 65        \n",
            "=================================================================\n",
            "Total params: 13,814,601\n",
            "Trainable params: 90,049\n",
            "Non-trainable params: 13,724,552\n",
            "_________________________________________________________________\n"
          ],
          "name": "stdout"
        }
      ]
    },
    {
      "cell_type": "code",
      "metadata": {
        "id": "1vXK1p0rEU5s",
        "colab_type": "code",
        "outputId": "7f136c05-f4d7-4dd9-f31c-f87944b50361",
        "colab": {
          "base_uri": "https://localhost:8080/",
          "height": 238
        }
      },
      "source": [
        "history = model.fit(X_train, y_train,\n",
        "                    batch_size=32,\n",
        "                    epochs=20,\n",
        "                    verbose=1,\n",
        "                    validation_split=0.1,\n",
        "                    callbacks=[EarlyStopping(monitor='val_acc', patience=5,\n",
        "                                             restore_best_weights=True)])"
      ],
      "execution_count": 40,
      "outputs": [
        {
          "output_type": "stream",
          "text": [
            "Train on 22500 samples, validate on 2500 samples\n",
            "Epoch 1/20\n",
            "22500/22500 [==============================] - 8s 376us/step - loss: 0.4347 - acc: 0.7961 - val_loss: 0.0764 - val_acc: 0.9792\n",
            "Epoch 2/20\n",
            "22500/22500 [==============================] - 8s 345us/step - loss: 0.3464 - acc: 0.8516 - val_loss: 0.1106 - val_acc: 0.9700\n",
            "Epoch 3/20\n",
            "22500/22500 [==============================] - 8s 353us/step - loss: 0.3188 - acc: 0.8641 - val_loss: 0.2347 - val_acc: 0.9084\n",
            "Epoch 4/20\n",
            "22500/22500 [==============================] - 8s 355us/step - loss: 0.3022 - acc: 0.8728 - val_loss: 0.1334 - val_acc: 0.9572\n",
            "Epoch 5/20\n",
            "22500/22500 [==============================] - 8s 348us/step - loss: 0.2805 - acc: 0.8821 - val_loss: 0.7373 - val_acc: 0.6628\n",
            "Epoch 6/20\n",
            "22500/22500 [==============================] - 8s 351us/step - loss: 0.2653 - acc: 0.8919 - val_loss: 0.2352 - val_acc: 0.9064\n"
          ],
          "name": "stdout"
        }
      ]
    },
    {
      "cell_type": "markdown",
      "metadata": {
        "id": "jqzb-dDcEnLI",
        "colab_type": "text"
      },
      "source": [
        "Accuracy на валидационном датасете: 0.98"
      ]
    },
    {
      "cell_type": "code",
      "metadata": {
        "id": "BpMMO9DGEbQi",
        "colab_type": "code",
        "outputId": "5ab55ccc-5ed6-4441-bb6f-2d82f83b4627",
        "colab": {
          "base_uri": "https://localhost:8080/",
          "height": 51
        }
      },
      "source": [
        "model.evaluate(X_test, y_test)"
      ],
      "execution_count": 41,
      "outputs": [
        {
          "output_type": "stream",
          "text": [
            "25000/25000 [==============================] - 2s 76us/step\n"
          ],
          "name": "stdout"
        },
        {
          "output_type": "execute_result",
          "data": {
            "text/plain": [
              "[0.6183812316471339, 0.74144]"
            ]
          },
          "metadata": {
            "tags": []
          },
          "execution_count": 41
        }
      ]
    },
    {
      "cell_type": "markdown",
      "metadata": {
        "id": "E0B1lCexEsJF",
        "colab_type": "text"
      },
      "source": [
        "Accuracy на тестовом датасете: 0.74\n",
        "### CNN model with dropout rate = 0.1"
      ]
    },
    {
      "cell_type": "code",
      "metadata": {
        "id": "akWqdmV48ZE3",
        "colab_type": "code",
        "colab": {}
      },
      "source": [
        "reset_tf_session()"
      ],
      "execution_count": 0,
      "outputs": []
    },
    {
      "cell_type": "code",
      "metadata": {
        "id": "TzztaLS_8ZwT",
        "colab_type": "code",
        "outputId": "8c025f78-5b82-4a0a-8761-5d81d641afae",
        "colab": {
          "base_uri": "https://localhost:8080/",
          "height": 731
        }
      },
      "source": [
        "model = Sequential()\n",
        "model.add(L.Embedding(vocab_size, 100, weights=[embedding_matrix],\n",
        "                      input_length=150, trainable=False))\n",
        "model.add(L.Conv1D(32, 3, activation='relu',  kernel_initializer='he_uniform'))\n",
        "model.add(L.Conv1D(32, 3, activation='relu',  kernel_initializer='he_uniform'))\n",
        "model.add(L.MaxPooling1D(pool_size=2))\n",
        "model.add(L.Conv1D(32, 4, activation='relu',  kernel_initializer='he_uniform'))\n",
        "model.add(L.Conv1D(32, 4, activation='relu',  kernel_initializer='he_uniform'))\n",
        "model.add(L.MaxPooling1D(pool_size=2))\n",
        "model.add(L.Conv1D(32, 5, activation='relu',  kernel_initializer='he_uniform'))\n",
        "model.add(L.Conv1D(32, 5, activation='relu',  kernel_initializer='he_uniform'))\n",
        "model.add(L.MaxPooling1D(pool_size=2))\n",
        "\n",
        "model.add(L.Flatten())\n",
        "model.add(L.Dropout(0.1))\n",
        "model.add(L.Dense(128, activation='relu'))\n",
        "model.add(L.Dropout(0.1))\n",
        "model.add(L.Dense(64, activation='relu'))\n",
        "model.add(L.Dropout(0.1))\n",
        "model.add(L.Dense(1, activation='sigmoid'))\n",
        "\n",
        "model.summary()\n",
        "\n",
        "model.compile(loss='binary_crossentropy',\n",
        "              optimizer='adam',\n",
        "              metrics=['accuracy'])"
      ],
      "execution_count": 43,
      "outputs": [
        {
          "output_type": "stream",
          "text": [
            "Model: \"sequential_1\"\n",
            "_________________________________________________________________\n",
            "Layer (type)                 Output Shape              Param #   \n",
            "=================================================================\n",
            "embedding_1 (Embedding)      (None, 150, 100)          13723400  \n",
            "_________________________________________________________________\n",
            "conv1d_1 (Conv1D)            (None, 148, 32)           9632      \n",
            "_________________________________________________________________\n",
            "conv1d_2 (Conv1D)            (None, 146, 32)           3104      \n",
            "_________________________________________________________________\n",
            "max_pooling1d_1 (MaxPooling1 (None, 73, 32)            0         \n",
            "_________________________________________________________________\n",
            "conv1d_3 (Conv1D)            (None, 70, 32)            4128      \n",
            "_________________________________________________________________\n",
            "conv1d_4 (Conv1D)            (None, 67, 32)            4128      \n",
            "_________________________________________________________________\n",
            "max_pooling1d_2 (MaxPooling1 (None, 33, 32)            0         \n",
            "_________________________________________________________________\n",
            "conv1d_5 (Conv1D)            (None, 29, 32)            5152      \n",
            "_________________________________________________________________\n",
            "conv1d_6 (Conv1D)            (None, 25, 32)            5152      \n",
            "_________________________________________________________________\n",
            "max_pooling1d_3 (MaxPooling1 (None, 12, 32)            0         \n",
            "_________________________________________________________________\n",
            "flatten_1 (Flatten)          (None, 384)               0         \n",
            "_________________________________________________________________\n",
            "dropout_1 (Dropout)          (None, 384)               0         \n",
            "_________________________________________________________________\n",
            "dense_1 (Dense)              (None, 128)               49280     \n",
            "_________________________________________________________________\n",
            "dropout_2 (Dropout)          (None, 128)               0         \n",
            "_________________________________________________________________\n",
            "dense_2 (Dense)              (None, 64)                8256      \n",
            "_________________________________________________________________\n",
            "dropout_3 (Dropout)          (None, 64)                0         \n",
            "_________________________________________________________________\n",
            "dense_3 (Dense)              (None, 1)                 65        \n",
            "=================================================================\n",
            "Total params: 13,812,297\n",
            "Trainable params: 88,897\n",
            "Non-trainable params: 13,723,400\n",
            "_________________________________________________________________\n"
          ],
          "name": "stdout"
        }
      ]
    },
    {
      "cell_type": "code",
      "metadata": {
        "id": "uCfM64c_-osc",
        "colab_type": "code",
        "outputId": "62840b32-66d7-4da0-e1a1-b17ad983a1d5",
        "colab": {
          "base_uri": "https://localhost:8080/",
          "height": 476
        }
      },
      "source": [
        "history = model.fit(X_train, y_train,\n",
        "                    batch_size=32,\n",
        "                    epochs=20,\n",
        "                    verbose=1,\n",
        "                    validation_split=0.1,\n",
        "                    callbacks=[EarlyStopping(monitor='val_acc', patience=5,\n",
        "                                             restore_best_weights=True)])"
      ],
      "execution_count": 44,
      "outputs": [
        {
          "output_type": "stream",
          "text": [
            "Train on 22500 samples, validate on 2500 samples\n",
            "Epoch 1/20\n",
            "22500/22500 [==============================] - 6s 253us/step - loss: 0.4287 - acc: 0.7992 - val_loss: 0.5177 - val_acc: 0.7988\n",
            "Epoch 2/20\n",
            "22500/22500 [==============================] - 5s 231us/step - loss: 0.3386 - acc: 0.8568 - val_loss: 0.5754 - val_acc: 0.7304\n",
            "Epoch 3/20\n",
            "22500/22500 [==============================] - 5s 235us/step - loss: 0.3081 - acc: 0.8724 - val_loss: 0.4510 - val_acc: 0.8040\n",
            "Epoch 4/20\n",
            "22500/22500 [==============================] - 5s 230us/step - loss: 0.2855 - acc: 0.8819 - val_loss: 0.3133 - val_acc: 0.8668\n",
            "Epoch 5/20\n",
            "22500/22500 [==============================] - 5s 225us/step - loss: 0.2688 - acc: 0.8902 - val_loss: 0.7628 - val_acc: 0.7040\n",
            "Epoch 6/20\n",
            "22500/22500 [==============================] - 5s 228us/step - loss: 0.2485 - acc: 0.8988 - val_loss: 0.2532 - val_acc: 0.8964\n",
            "Epoch 7/20\n",
            "22500/22500 [==============================] - 5s 234us/step - loss: 0.2265 - acc: 0.9117 - val_loss: 0.4495 - val_acc: 0.8312\n",
            "Epoch 8/20\n",
            "22500/22500 [==============================] - 5s 227us/step - loss: 0.2063 - acc: 0.9192 - val_loss: 0.2455 - val_acc: 0.9032\n",
            "Epoch 9/20\n",
            "22500/22500 [==============================] - 5s 226us/step - loss: 0.1832 - acc: 0.9276 - val_loss: 0.3085 - val_acc: 0.8852\n",
            "Epoch 10/20\n",
            "22500/22500 [==============================] - 5s 226us/step - loss: 0.1687 - acc: 0.9367 - val_loss: 0.4320 - val_acc: 0.8604\n",
            "Epoch 11/20\n",
            "22500/22500 [==============================] - 5s 225us/step - loss: 0.1469 - acc: 0.9440 - val_loss: 0.6694 - val_acc: 0.7872\n",
            "Epoch 12/20\n",
            "22500/22500 [==============================] - 5s 231us/step - loss: 0.1349 - acc: 0.9486 - val_loss: 0.4047 - val_acc: 0.8728\n",
            "Epoch 13/20\n",
            "22500/22500 [==============================] - 5s 233us/step - loss: 0.1209 - acc: 0.9537 - val_loss: 0.6662 - val_acc: 0.8312\n"
          ],
          "name": "stdout"
        }
      ]
    },
    {
      "cell_type": "markdown",
      "metadata": {
        "id": "tjsCPyMi_SXa",
        "colab_type": "text"
      },
      "source": [
        "Accuracy на валидационном датасете: 0.90"
      ]
    },
    {
      "cell_type": "code",
      "metadata": {
        "id": "X3fO3sii-udO",
        "colab_type": "code",
        "outputId": "98cd96ff-44ce-4509-910b-dc7c0c24a3a4",
        "colab": {
          "base_uri": "https://localhost:8080/",
          "height": 51
        }
      },
      "source": [
        "model.evaluate(X_test, y_test)"
      ],
      "execution_count": 45,
      "outputs": [
        {
          "output_type": "stream",
          "text": [
            "25000/25000 [==============================] - 1s 60us/step\n"
          ],
          "name": "stdout"
        },
        {
          "output_type": "execute_result",
          "data": {
            "text/plain": [
              "[0.3294014330339432, 0.8684]"
            ]
          },
          "metadata": {
            "tags": []
          },
          "execution_count": 45
        }
      ]
    },
    {
      "cell_type": "markdown",
      "metadata": {
        "id": "uWXOEIFaWlrv",
        "colab_type": "text"
      },
      "source": [
        "Accuracy на тестовом датасете: 0.87\n",
        "### CNN model with dropout rate = 0.5"
      ]
    },
    {
      "cell_type": "code",
      "metadata": {
        "id": "HJF0yfnbWtkV",
        "colab_type": "code",
        "colab": {}
      },
      "source": [
        "reset_tf_session()"
      ],
      "execution_count": 0,
      "outputs": []
    },
    {
      "cell_type": "code",
      "metadata": {
        "id": "ME3P2gy8W6I6",
        "colab_type": "code",
        "outputId": "0ef26b1e-7a52-4be8-985b-d016e26e2c8f",
        "colab": {
          "base_uri": "https://localhost:8080/",
          "height": 731
        }
      },
      "source": [
        "model = Sequential()\n",
        "model.add(L.Embedding(vocab_size, 100, weights=[embedding_matrix],\n",
        "                      input_length=150, trainable=False))\n",
        "model.add(L.Conv1D(32, 3, activation='relu',  kernel_initializer='he_uniform'))\n",
        "model.add(L.Conv1D(32, 3, activation='relu',  kernel_initializer='he_uniform'))\n",
        "model.add(L.MaxPooling1D(pool_size=2))\n",
        "model.add(L.Conv1D(32, 4, activation='relu',  kernel_initializer='he_uniform'))\n",
        "model.add(L.Conv1D(32, 4, activation='relu',  kernel_initializer='he_uniform'))\n",
        "model.add(L.MaxPooling1D(pool_size=2))\n",
        "model.add(L.Conv1D(32, 5, activation='relu',  kernel_initializer='he_uniform'))\n",
        "model.add(L.Conv1D(32, 5, activation='relu',  kernel_initializer='he_uniform'))\n",
        "model.add(L.MaxPooling1D(pool_size=2))\n",
        "\n",
        "model.add(L.Flatten())\n",
        "model.add(L.Dropout(0.5))\n",
        "model.add(L.Dense(128, activation='relu'))\n",
        "model.add(L.Dropout(0.5))\n",
        "model.add(L.Dense(64, activation='relu'))\n",
        "model.add(L.Dropout(0.5))\n",
        "model.add(L.Dense(1, activation='sigmoid'))\n",
        "\n",
        "model.summary()\n",
        "\n",
        "model.compile(loss='binary_crossentropy',\n",
        "              optimizer='adam',\n",
        "              metrics=['accuracy'])"
      ],
      "execution_count": 47,
      "outputs": [
        {
          "output_type": "stream",
          "text": [
            "Model: \"sequential_1\"\n",
            "_________________________________________________________________\n",
            "Layer (type)                 Output Shape              Param #   \n",
            "=================================================================\n",
            "embedding_1 (Embedding)      (None, 150, 100)          13723400  \n",
            "_________________________________________________________________\n",
            "conv1d_1 (Conv1D)            (None, 148, 32)           9632      \n",
            "_________________________________________________________________\n",
            "conv1d_2 (Conv1D)            (None, 146, 32)           3104      \n",
            "_________________________________________________________________\n",
            "max_pooling1d_1 (MaxPooling1 (None, 73, 32)            0         \n",
            "_________________________________________________________________\n",
            "conv1d_3 (Conv1D)            (None, 70, 32)            4128      \n",
            "_________________________________________________________________\n",
            "conv1d_4 (Conv1D)            (None, 67, 32)            4128      \n",
            "_________________________________________________________________\n",
            "max_pooling1d_2 (MaxPooling1 (None, 33, 32)            0         \n",
            "_________________________________________________________________\n",
            "conv1d_5 (Conv1D)            (None, 29, 32)            5152      \n",
            "_________________________________________________________________\n",
            "conv1d_6 (Conv1D)            (None, 25, 32)            5152      \n",
            "_________________________________________________________________\n",
            "max_pooling1d_3 (MaxPooling1 (None, 12, 32)            0         \n",
            "_________________________________________________________________\n",
            "flatten_1 (Flatten)          (None, 384)               0         \n",
            "_________________________________________________________________\n",
            "dropout_1 (Dropout)          (None, 384)               0         \n",
            "_________________________________________________________________\n",
            "dense_1 (Dense)              (None, 128)               49280     \n",
            "_________________________________________________________________\n",
            "dropout_2 (Dropout)          (None, 128)               0         \n",
            "_________________________________________________________________\n",
            "dense_2 (Dense)              (None, 64)                8256      \n",
            "_________________________________________________________________\n",
            "dropout_3 (Dropout)          (None, 64)                0         \n",
            "_________________________________________________________________\n",
            "dense_3 (Dense)              (None, 1)                 65        \n",
            "=================================================================\n",
            "Total params: 13,812,297\n",
            "Trainable params: 88,897\n",
            "Non-trainable params: 13,723,400\n",
            "_________________________________________________________________\n"
          ],
          "name": "stdout"
        }
      ]
    },
    {
      "cell_type": "code",
      "metadata": {
        "id": "5J6vxjpAWugw",
        "colab_type": "code",
        "outputId": "61246929-7370-4437-96c7-fa1c39c2b11c",
        "colab": {
          "base_uri": "https://localhost:8080/",
          "height": 442
        }
      },
      "source": [
        "history = model.fit(X_train, y_train,\n",
        "                    batch_size=32,\n",
        "                    epochs=20,\n",
        "                    verbose=1,\n",
        "                    validation_split=0.1,\n",
        "                    callbacks=[EarlyStopping(monitor='val_acc', patience=5,\n",
        "                                             restore_best_weights=True)])"
      ],
      "execution_count": 48,
      "outputs": [
        {
          "output_type": "stream",
          "text": [
            "Train on 22500 samples, validate on 2500 samples\n",
            "Epoch 1/20\n",
            "22500/22500 [==============================] - 5s 238us/step - loss: 0.4858 - acc: 0.7556 - val_loss: 0.6129 - val_acc: 0.7712\n",
            "Epoch 2/20\n",
            "22500/22500 [==============================] - 5s 225us/step - loss: 0.3593 - acc: 0.8521 - val_loss: 0.2653 - val_acc: 0.9004\n",
            "Epoch 3/20\n",
            "22500/22500 [==============================] - 5s 223us/step - loss: 0.3315 - acc: 0.8668 - val_loss: 0.3013 - val_acc: 0.8548\n",
            "Epoch 4/20\n",
            "22500/22500 [==============================] - 5s 222us/step - loss: 0.3079 - acc: 0.8768 - val_loss: 0.3254 - val_acc: 0.8652\n",
            "Epoch 5/20\n",
            "22500/22500 [==============================] - 5s 222us/step - loss: 0.2942 - acc: 0.8838 - val_loss: 0.1951 - val_acc: 0.9180\n",
            "Epoch 6/20\n",
            "22500/22500 [==============================] - 5s 219us/step - loss: 0.2722 - acc: 0.8932 - val_loss: 0.3088 - val_acc: 0.8676\n",
            "Epoch 7/20\n",
            "22500/22500 [==============================] - 5s 221us/step - loss: 0.2572 - acc: 0.9003 - val_loss: 0.1343 - val_acc: 0.9468\n",
            "Epoch 8/20\n",
            "22500/22500 [==============================] - 5s 219us/step - loss: 0.2402 - acc: 0.9060 - val_loss: 0.4743 - val_acc: 0.8024\n",
            "Epoch 9/20\n",
            "22500/22500 [==============================] - 5s 225us/step - loss: 0.2183 - acc: 0.9182 - val_loss: 0.7300 - val_acc: 0.7420\n",
            "Epoch 10/20\n",
            "22500/22500 [==============================] - 5s 221us/step - loss: 0.2014 - acc: 0.9242 - val_loss: 0.6663 - val_acc: 0.7492\n",
            "Epoch 11/20\n",
            "22500/22500 [==============================] - 5s 223us/step - loss: 0.1844 - acc: 0.9308 - val_loss: 0.5557 - val_acc: 0.7916\n",
            "Epoch 12/20\n",
            "22500/22500 [==============================] - 5s 221us/step - loss: 0.1705 - acc: 0.9356 - val_loss: 0.2486 - val_acc: 0.9184\n"
          ],
          "name": "stdout"
        }
      ]
    },
    {
      "cell_type": "markdown",
      "metadata": {
        "id": "jMhmq2YjaXBv",
        "colab_type": "text"
      },
      "source": [
        "Accuracy на валидационном датасете: 0.95"
      ]
    },
    {
      "cell_type": "code",
      "metadata": {
        "id": "3PQFw2onW0sY",
        "colab_type": "code",
        "outputId": "ab6d54d4-ff73-4f51-af8f-a46982cf266d",
        "colab": {
          "base_uri": "https://localhost:8080/",
          "height": 51
        }
      },
      "source": [
        "model.evaluate(X_test, y_test)"
      ],
      "execution_count": 49,
      "outputs": [
        {
          "output_type": "stream",
          "text": [
            "25000/25000 [==============================] - 1s 58us/step\n"
          ],
          "name": "stdout"
        },
        {
          "output_type": "execute_result",
          "data": {
            "text/plain": [
              "[0.40787848825901746, 0.84504]"
            ]
          },
          "metadata": {
            "tags": []
          },
          "execution_count": 49
        }
      ]
    },
    {
      "cell_type": "markdown",
      "metadata": {
        "id": "bUqycjCf_Z3r",
        "colab_type": "text"
      },
      "source": [
        "Accuracy на тестовом датасете: 0.85\n",
        "### CNN model with dropout rate = 0.8\n"
      ]
    },
    {
      "cell_type": "code",
      "metadata": {
        "id": "CYMlRA39-zCn",
        "colab_type": "code",
        "colab": {}
      },
      "source": [
        "reset_tf_session()"
      ],
      "execution_count": 0,
      "outputs": []
    },
    {
      "cell_type": "code",
      "metadata": {
        "id": "1T9kqp0M-9SB",
        "colab_type": "code",
        "outputId": "48e2f644-3784-4626-a82c-228f02afb919",
        "colab": {
          "base_uri": "https://localhost:8080/",
          "height": 731
        }
      },
      "source": [
        "model = Sequential()\n",
        "model.add(L.Embedding(vocab_size, 100, weights=[embedding_matrix],\n",
        "                      input_length=150, trainable=False))\n",
        "model.add(L.Conv1D(32, 3, activation='relu',  kernel_initializer='he_uniform'))\n",
        "model.add(L.Conv1D(32, 3, activation='relu',  kernel_initializer='he_uniform'))\n",
        "model.add(L.MaxPooling1D(pool_size=2))\n",
        "model.add(L.Conv1D(32, 4, activation='relu',  kernel_initializer='he_uniform'))\n",
        "model.add(L.Conv1D(32, 4, activation='relu',  kernel_initializer='he_uniform'))\n",
        "model.add(L.MaxPooling1D(pool_size=2))\n",
        "model.add(L.Conv1D(32, 5, activation='relu',  kernel_initializer='he_uniform'))\n",
        "model.add(L.Conv1D(32, 5, activation='relu',  kernel_initializer='he_uniform'))\n",
        "model.add(L.MaxPooling1D(pool_size=2))\n",
        "\n",
        "model.add(L.Flatten())\n",
        "model.add(L.Dropout(0.8))\n",
        "model.add(L.Dense(128, activation='relu'))\n",
        "model.add(L.Dropout(0.8))\n",
        "model.add(L.Dense(64, activation='relu'))\n",
        "model.add(L.Dropout(0.8))\n",
        "model.add(L.Dense(1, activation='sigmoid'))\n",
        "\n",
        "model.summary()\n",
        "\n",
        "model.compile(loss='binary_crossentropy',\n",
        "              optimizer='adam',\n",
        "              metrics=['accuracy'])"
      ],
      "execution_count": 51,
      "outputs": [
        {
          "output_type": "stream",
          "text": [
            "Model: \"sequential_1\"\n",
            "_________________________________________________________________\n",
            "Layer (type)                 Output Shape              Param #   \n",
            "=================================================================\n",
            "embedding_1 (Embedding)      (None, 150, 100)          13723400  \n",
            "_________________________________________________________________\n",
            "conv1d_1 (Conv1D)            (None, 148, 32)           9632      \n",
            "_________________________________________________________________\n",
            "conv1d_2 (Conv1D)            (None, 146, 32)           3104      \n",
            "_________________________________________________________________\n",
            "max_pooling1d_1 (MaxPooling1 (None, 73, 32)            0         \n",
            "_________________________________________________________________\n",
            "conv1d_3 (Conv1D)            (None, 70, 32)            4128      \n",
            "_________________________________________________________________\n",
            "conv1d_4 (Conv1D)            (None, 67, 32)            4128      \n",
            "_________________________________________________________________\n",
            "max_pooling1d_2 (MaxPooling1 (None, 33, 32)            0         \n",
            "_________________________________________________________________\n",
            "conv1d_5 (Conv1D)            (None, 29, 32)            5152      \n",
            "_________________________________________________________________\n",
            "conv1d_6 (Conv1D)            (None, 25, 32)            5152      \n",
            "_________________________________________________________________\n",
            "max_pooling1d_3 (MaxPooling1 (None, 12, 32)            0         \n",
            "_________________________________________________________________\n",
            "flatten_1 (Flatten)          (None, 384)               0         \n",
            "_________________________________________________________________\n",
            "dropout_1 (Dropout)          (None, 384)               0         \n",
            "_________________________________________________________________\n",
            "dense_1 (Dense)              (None, 128)               49280     \n",
            "_________________________________________________________________\n",
            "dropout_2 (Dropout)          (None, 128)               0         \n",
            "_________________________________________________________________\n",
            "dense_2 (Dense)              (None, 64)                8256      \n",
            "_________________________________________________________________\n",
            "dropout_3 (Dropout)          (None, 64)                0         \n",
            "_________________________________________________________________\n",
            "dense_3 (Dense)              (None, 1)                 65        \n",
            "=================================================================\n",
            "Total params: 13,812,297\n",
            "Trainable params: 88,897\n",
            "Non-trainable params: 13,723,400\n",
            "_________________________________________________________________\n"
          ],
          "name": "stdout"
        }
      ]
    },
    {
      "cell_type": "code",
      "metadata": {
        "id": "csFBY03-_Kn3",
        "colab_type": "code",
        "outputId": "626fdf63-05a1-4254-f6c8-8385d98fb1bb",
        "colab": {
          "base_uri": "https://localhost:8080/",
          "height": 442
        }
      },
      "source": [
        "history = model.fit(X_train, y_train,\n",
        "                    batch_size=32,\n",
        "                    epochs=20,\n",
        "                    verbose=1,\n",
        "                    validation_split=0.1,\n",
        "                    callbacks=[EarlyStopping(monitor='val_acc', patience=5,\n",
        "                                             restore_best_weights=True)])"
      ],
      "execution_count": 52,
      "outputs": [
        {
          "output_type": "stream",
          "text": [
            "Train on 22500 samples, validate on 2500 samples\n",
            "Epoch 1/20\n",
            "22500/22500 [==============================] - 5s 235us/step - loss: 0.6858 - acc: 0.5458 - val_loss: 0.7434 - val_acc: 0.0000e+00\n",
            "Epoch 2/20\n",
            "22500/22500 [==============================] - 5s 219us/step - loss: 0.5461 - acc: 0.7442 - val_loss: 0.6430 - val_acc: 0.8616\n",
            "Epoch 3/20\n",
            "22500/22500 [==============================] - 5s 221us/step - loss: 0.4669 - acc: 0.8086 - val_loss: 0.5781 - val_acc: 0.8308\n",
            "Epoch 4/20\n",
            "22500/22500 [==============================] - 5s 223us/step - loss: 0.4332 - acc: 0.8278 - val_loss: 0.4920 - val_acc: 0.8708\n",
            "Epoch 5/20\n",
            "22500/22500 [==============================] - 5s 222us/step - loss: 0.4108 - acc: 0.8312 - val_loss: 0.3748 - val_acc: 0.9180\n",
            "Epoch 6/20\n",
            "22500/22500 [==============================] - 5s 221us/step - loss: 0.3910 - acc: 0.8418 - val_loss: 0.3666 - val_acc: 0.9244\n",
            "Epoch 7/20\n",
            "22500/22500 [==============================] - 5s 223us/step - loss: 0.3809 - acc: 0.8458 - val_loss: 0.3048 - val_acc: 0.9436\n",
            "Epoch 8/20\n",
            "22500/22500 [==============================] - 5s 221us/step - loss: 0.3649 - acc: 0.8516 - val_loss: 0.4346 - val_acc: 0.8792\n",
            "Epoch 9/20\n",
            "22500/22500 [==============================] - 5s 225us/step - loss: 0.3404 - acc: 0.8629 - val_loss: 0.4170 - val_acc: 0.8928\n",
            "Epoch 10/20\n",
            "22500/22500 [==============================] - 5s 225us/step - loss: 0.3315 - acc: 0.8696 - val_loss: 0.3120 - val_acc: 0.9348\n",
            "Epoch 11/20\n",
            "22500/22500 [==============================] - 5s 220us/step - loss: 0.3154 - acc: 0.8752 - val_loss: 0.4752 - val_acc: 0.8856\n",
            "Epoch 12/20\n",
            "22500/22500 [==============================] - 5s 223us/step - loss: 0.3070 - acc: 0.8767 - val_loss: 0.3384 - val_acc: 0.9264\n"
          ],
          "name": "stdout"
        }
      ]
    },
    {
      "cell_type": "markdown",
      "metadata": {
        "id": "rLJqYe-6_Vsu",
        "colab_type": "text"
      },
      "source": [
        "Accuracy на валидационном датасете: 0.94\n"
      ]
    },
    {
      "cell_type": "code",
      "metadata": {
        "id": "X2Z17adY_Mk1",
        "colab_type": "code",
        "outputId": "9b7913a8-4115-459e-80e5-f95b96028d7a",
        "colab": {
          "base_uri": "https://localhost:8080/",
          "height": 51
        }
      },
      "source": [
        "model.evaluate(X_test, y_test)"
      ],
      "execution_count": 53,
      "outputs": [
        {
          "output_type": "stream",
          "text": [
            "25000/25000 [==============================] - 2s 60us/step\n"
          ],
          "name": "stdout"
        },
        {
          "output_type": "execute_result",
          "data": {
            "text/plain": [
              "[0.3797564870452881, 0.8316]"
            ]
          },
          "metadata": {
            "tags": []
          },
          "execution_count": 53
        }
      ]
    },
    {
      "cell_type": "markdown",
      "metadata": {
        "id": "NteAp3lH_WoF",
        "colab_type": "text"
      },
      "source": [
        "Accuracy на тестовом датасете: 0.83\n",
        "### CNN model with batch normalization and dropout with the best rate\n"
      ]
    },
    {
      "cell_type": "code",
      "metadata": {
        "id": "b-yzSu6STXKt",
        "colab_type": "code",
        "colab": {}
      },
      "source": [
        "reset_tf_session()"
      ],
      "execution_count": 0,
      "outputs": []
    },
    {
      "cell_type": "code",
      "metadata": {
        "id": "lIKfY9zfTlSt",
        "colab_type": "code",
        "outputId": "3b95c00a-a0b4-4d59-a3c7-6a6d536d59e7",
        "colab": {
          "base_uri": "https://localhost:8080/",
          "height": 833
        }
      },
      "source": [
        "model = Sequential()\n",
        "model.add(L.Embedding(vocab_size, 100, weights=[embedding_matrix],\n",
        "                      input_length=150, trainable=False))\n",
        "\n",
        "model.add(L.Conv1D(32, 3, activation='relu',  kernel_initializer='he_uniform'))\n",
        "model.add(L.Conv1D(32, 3, activation='relu',  kernel_initializer='he_uniform'))\n",
        "model.add(L.MaxPooling1D(pool_size=2))\n",
        "model.add(L.Conv1D(32, 4, activation='relu',  kernel_initializer='he_uniform'))\n",
        "model.add(L.Conv1D(32, 4, activation='relu',  kernel_initializer='he_uniform'))\n",
        "model.add(L.MaxPooling1D(pool_size=2))\n",
        "model.add(L.Conv1D(32, 5, activation='relu',  kernel_initializer='he_uniform'))\n",
        "model.add(L.Conv1D(32, 5, activation='relu',  kernel_initializer='he_uniform'))\n",
        "model.add(L.MaxPooling1D(pool_size=2))\n",
        "\n",
        "model.add(L.Flatten())\n",
        "model.add(L.BatchNormalization())\n",
        "model.add(L.Dropout(0.1))\n",
        "model.add(L.Dense(128, activation='relu'))\n",
        "model.add(L.BatchNormalization())\n",
        "model.add(L.Dropout(0.1))\n",
        "model.add(L.Dense(64, activation='relu'))\n",
        "model.add(L.BatchNormalization())\n",
        "model.add(L.Dropout(0.1))\n",
        "model.add(L.Dense(1, activation='sigmoid'))\n",
        "\n",
        "model.summary()\n",
        "\n",
        "model.compile(loss='binary_crossentropy',\n",
        "              optimizer='adam',\n",
        "              metrics=['accuracy'])"
      ],
      "execution_count": 59,
      "outputs": [
        {
          "output_type": "stream",
          "text": [
            "Model: \"sequential_1\"\n",
            "_________________________________________________________________\n",
            "Layer (type)                 Output Shape              Param #   \n",
            "=================================================================\n",
            "embedding_1 (Embedding)      (None, 150, 100)          13723400  \n",
            "_________________________________________________________________\n",
            "conv1d_1 (Conv1D)            (None, 148, 32)           9632      \n",
            "_________________________________________________________________\n",
            "conv1d_2 (Conv1D)            (None, 146, 32)           3104      \n",
            "_________________________________________________________________\n",
            "max_pooling1d_1 (MaxPooling1 (None, 73, 32)            0         \n",
            "_________________________________________________________________\n",
            "conv1d_3 (Conv1D)            (None, 70, 32)            4128      \n",
            "_________________________________________________________________\n",
            "conv1d_4 (Conv1D)            (None, 67, 32)            4128      \n",
            "_________________________________________________________________\n",
            "max_pooling1d_2 (MaxPooling1 (None, 33, 32)            0         \n",
            "_________________________________________________________________\n",
            "conv1d_5 (Conv1D)            (None, 29, 32)            5152      \n",
            "_________________________________________________________________\n",
            "conv1d_6 (Conv1D)            (None, 25, 32)            5152      \n",
            "_________________________________________________________________\n",
            "max_pooling1d_3 (MaxPooling1 (None, 12, 32)            0         \n",
            "_________________________________________________________________\n",
            "flatten_1 (Flatten)          (None, 384)               0         \n",
            "_________________________________________________________________\n",
            "batch_normalization_1 (Batch (None, 384)               1536      \n",
            "_________________________________________________________________\n",
            "dropout_1 (Dropout)          (None, 384)               0         \n",
            "_________________________________________________________________\n",
            "dense_1 (Dense)              (None, 128)               49280     \n",
            "_________________________________________________________________\n",
            "batch_normalization_2 (Batch (None, 128)               512       \n",
            "_________________________________________________________________\n",
            "dropout_2 (Dropout)          (None, 128)               0         \n",
            "_________________________________________________________________\n",
            "dense_2 (Dense)              (None, 64)                8256      \n",
            "_________________________________________________________________\n",
            "batch_normalization_3 (Batch (None, 64)                256       \n",
            "_________________________________________________________________\n",
            "dropout_3 (Dropout)          (None, 64)                0         \n",
            "_________________________________________________________________\n",
            "dense_3 (Dense)              (None, 1)                 65        \n",
            "=================================================================\n",
            "Total params: 13,814,601\n",
            "Trainable params: 90,049\n",
            "Non-trainable params: 13,724,552\n",
            "_________________________________________________________________\n"
          ],
          "name": "stdout"
        }
      ]
    },
    {
      "cell_type": "code",
      "metadata": {
        "id": "QLSe892RTg6r",
        "colab_type": "code",
        "outputId": "85c517e7-95da-47b2-d141-947c723a77cf",
        "colab": {
          "base_uri": "https://localhost:8080/",
          "height": 544
        }
      },
      "source": [
        "history = model.fit(X_train, y_train,\n",
        "                    batch_size=32,\n",
        "                    epochs=20,\n",
        "                    verbose=1,\n",
        "                    validation_split=0.1,\n",
        "                    callbacks=[EarlyStopping(monitor='val_acc', patience=5,\n",
        "                                             restore_best_weights=True)])"
      ],
      "execution_count": 60,
      "outputs": [
        {
          "output_type": "stream",
          "text": [
            "Train on 22500 samples, validate on 2500 samples\n",
            "Epoch 1/20\n",
            "22500/22500 [==============================] - 9s 397us/step - loss: 0.4997 - acc: 0.7537 - val_loss: 0.1604 - val_acc: 0.9436\n",
            "Epoch 2/20\n",
            "22500/22500 [==============================] - 8s 376us/step - loss: 0.3634 - acc: 0.8433 - val_loss: 0.2683 - val_acc: 0.8840\n",
            "Epoch 3/20\n",
            "22500/22500 [==============================] - 8s 377us/step - loss: 0.3267 - acc: 0.8607 - val_loss: 1.0234 - val_acc: 0.5028\n",
            "Epoch 4/20\n",
            "22500/22500 [==============================] - 9s 381us/step - loss: 0.3062 - acc: 0.8716 - val_loss: 0.3017 - val_acc: 0.8876\n",
            "Epoch 5/20\n",
            "22500/22500 [==============================] - 9s 380us/step - loss: 0.2924 - acc: 0.8786 - val_loss: 0.0126 - val_acc: 0.9968\n",
            "Epoch 6/20\n",
            "22500/22500 [==============================] - 8s 375us/step - loss: 0.2745 - acc: 0.8853 - val_loss: 0.1495 - val_acc: 0.9476\n",
            "Epoch 7/20\n",
            "22500/22500 [==============================] - 9s 381us/step - loss: 0.2525 - acc: 0.8959 - val_loss: 0.2347 - val_acc: 0.9084\n",
            "Epoch 8/20\n",
            "22500/22500 [==============================] - 9s 383us/step - loss: 0.2366 - acc: 0.9054 - val_loss: 1.1264 - val_acc: 0.5104\n",
            "Epoch 9/20\n",
            "22500/22500 [==============================] - 9s 379us/step - loss: 0.2141 - acc: 0.9155 - val_loss: 1.7334 - val_acc: 0.4288\n",
            "Epoch 10/20\n",
            "22500/22500 [==============================] - 8s 371us/step - loss: 0.1991 - acc: 0.9204 - val_loss: 0.0091 - val_acc: 0.9972\n",
            "Epoch 11/20\n",
            "22500/22500 [==============================] - 8s 368us/step - loss: 0.1821 - acc: 0.9276 - val_loss: 0.2582 - val_acc: 0.9020\n",
            "Epoch 12/20\n",
            "22500/22500 [==============================] - 8s 371us/step - loss: 0.1645 - acc: 0.9358 - val_loss: 0.6289 - val_acc: 0.7772\n",
            "Epoch 13/20\n",
            "22500/22500 [==============================] - 8s 377us/step - loss: 0.1597 - acc: 0.9374 - val_loss: 0.2068 - val_acc: 0.9140\n",
            "Epoch 14/20\n",
            "22500/22500 [==============================] - 9s 380us/step - loss: 0.1412 - acc: 0.9472 - val_loss: 0.4807 - val_acc: 0.8340\n",
            "Epoch 15/20\n",
            "22500/22500 [==============================] - 8s 375us/step - loss: 0.1446 - acc: 0.9443 - val_loss: 0.5685 - val_acc: 0.8136\n"
          ],
          "name": "stdout"
        }
      ]
    },
    {
      "cell_type": "markdown",
      "metadata": {
        "id": "aHGga9Pjb_7W",
        "colab_type": "text"
      },
      "source": [
        "Accuracy на валидационном датасете: 0.99"
      ]
    },
    {
      "cell_type": "code",
      "metadata": {
        "id": "i2PeNKtMTfOI",
        "colab_type": "code",
        "outputId": "121f69e6-f8ea-4a94-85f2-2d39a8ec5875",
        "colab": {
          "base_uri": "https://localhost:8080/",
          "height": 51
        }
      },
      "source": [
        "model.evaluate(X_test, y_test)"
      ],
      "execution_count": 61,
      "outputs": [
        {
          "output_type": "stream",
          "text": [
            "25000/25000 [==============================] - 2s 77us/step\n"
          ],
          "name": "stdout"
        },
        {
          "output_type": "execute_result",
          "data": {
            "text/plain": [
              "[1.7455725744123758, 0.59836]"
            ]
          },
          "metadata": {
            "tags": []
          },
          "execution_count": 61
        }
      ]
    },
    {
      "cell_type": "markdown",
      "metadata": {
        "id": "MBjXsAkUcLBL",
        "colab_type": "text"
      },
      "source": [
        "Accuracy на тестовом датасете: 0.6 <br>\n",
        "Переобучилась.\n",
        "###Conclusion\n",
        "Самый высокий accuracy score на тестовых данных (0.87) у нейросети, в которой как метод регуляризации используется дропаут с вероятностью 0.1."
      ]
    },
    {
      "cell_type": "code",
      "metadata": {
        "id": "uuuC-d5wccfH",
        "colab_type": "code",
        "colab": {}
      },
      "source": [
        ""
      ],
      "execution_count": 0,
      "outputs": []
    }
  ]
}