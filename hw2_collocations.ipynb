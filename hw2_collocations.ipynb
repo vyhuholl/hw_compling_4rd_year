{
  "nbformat": 4,
  "nbformat_minor": 0,
  "metadata": {
    "colab": {
      "name": "hw2_collocations.ipynb",
      "provenance": [],
      "collapsed_sections": []
    },
    "kernelspec": {
      "name": "python3",
      "display_name": "Python 3"
    },
    "accelerator": "GPU"
  },
  "cells": [
    {
      "cell_type": "code",
      "metadata": {
        "id": "USzomOAJn-gh",
        "colab_type": "code",
        "colab": {}
      },
      "source": [
        "from IPython.display import clear_output"
      ],
      "execution_count": 0,
      "outputs": []
    },
    {
      "cell_type": "code",
      "metadata": {
        "id": "mDnzz_uzpqXA",
        "colab_type": "code",
        "colab": {}
      },
      "source": [
        "!pip3 install pycodestyle flake8 pycodestyle_magic\n",
        "!pip3 install wldhx.yadisk-direct\n",
        "clear_output()"
      ],
      "execution_count": 0,
      "outputs": []
    },
    {
      "cell_type": "code",
      "metadata": {
        "id": "_bhsfdZorNEa",
        "colab_type": "code",
        "colab": {}
      },
      "source": [
        "%load_ext pycodestyle_magic"
      ],
      "execution_count": 0,
      "outputs": []
    },
    {
      "cell_type": "code",
      "metadata": {
        "id": "lQJbFf2dr8qH",
        "colab_type": "code",
        "colab": {}
      },
      "source": [
        "!wget https://github.com/ufal/udpipe/releases/download/v1.2.0/udpipe-1.2.0-bin.zip\n",
        "clear_output()"
      ],
      "execution_count": 0,
      "outputs": []
    },
    {
      "cell_type": "code",
      "metadata": {
        "id": "IqOFNtmksHGI",
        "colab_type": "code",
        "colab": {}
      },
      "source": [
        "!unzip udpipe-1.2.0-bin.zip\n",
        "!rm udpipe-1.2.0-bin.zip\n",
        "clear_output()"
      ],
      "execution_count": 0,
      "outputs": []
    },
    {
      "cell_type": "code",
      "metadata": {
        "id": "SZCukTWEs2N6",
        "colab_type": "code",
        "colab": {}
      },
      "source": [
        "!wget https://lindat.mff.cuni.cz/repository/xmlui/bitstream/handle/11234/1-2998/russian-syntagrus-ud-2.4-190531.udpipe\n",
        "clear_output()"
      ],
      "execution_count": 0,
      "outputs": []
    },
    {
      "cell_type": "code",
      "metadata": {
        "id": "K7XYoTTRrRzo",
        "colab_type": "code",
        "colab": {}
      },
      "source": [
        "!wget https://raw.githubusercontent.com/sjut/HSE-Compling/master/hw/testset2.txt\n",
        "clear_output()"
      ],
      "execution_count": 0,
      "outputs": []
    },
    {
      "cell_type": "code",
      "metadata": {
        "id": "H8oMppCqS29p",
        "colab_type": "code",
        "colab": {}
      },
      "source": [
        "!curl -L $(yadisk-direct https://disk.yandex.ru/d/5WWwOr9ccemcZA) -o verb_coll.txt\n",
        "clear_output()"
      ],
      "execution_count": 0,
      "outputs": []
    },
    {
      "cell_type": "code",
      "metadata": {
        "id": "iaJLl5K1u5Bc",
        "colab_type": "code",
        "colab": {}
      },
      "source": [
        "!udpipe-1.2.0-bin/bin-linux64/udpipe --input horizontal --output conllu \\\n",
        "--tokenize --tag --parse \\\n",
        "russian-syntagrus-ud-2.4-190531.udpipe \\\n",
        "< testset2.txt > testset2.conllu\n",
        "clear_output()"
      ],
      "execution_count": 0,
      "outputs": []
    },
    {
      "cell_type": "code",
      "metadata": {
        "id": "EtVTF7J5xJzk",
        "colab_type": "code",
        "colab": {}
      },
      "source": [
        "import re\n",
        "from collections import Counter\n",
        "from scipy.stats import spearmanr\n",
        "from nltk.parse import DependencyGraph\n",
        "from nltk.collocations import BigramAssocMeasures\n",
        "from nltk.collocations import BigramCollocationFinder"
      ],
      "execution_count": 0,
      "outputs": []
    },
    {
      "cell_type": "markdown",
      "metadata": {
        "id": "MApk99AoGqh2",
        "colab_type": "text"
      },
      "source": [
        "# **Извлечение биграмм**"
      ]
    },
    {
      "cell_type": "code",
      "metadata": {
        "id": "Tbyrpmu3VJft",
        "colab_type": "code",
        "colab": {}
      },
      "source": [
        "graphs = []\n",
        "\n",
        "with open('testset2.conllu') as f:\n",
        "    parsed_sents = f.read().split('\\n\\n')\n",
        "\n",
        "    for sent in parsed_sents:\n",
        "        tree = [line for line in sent.split('\\n') if line and line[0] != '#']\n",
        "        try:\n",
        "            graphs.append(DependencyGraph('\\n'.join(tree),\n",
        "                                          top_relation_label='root'))\n",
        "        # исключаем предложения, которые nltk не может распарсить из-за ошибки\n",
        "        except AssertionError:\n",
        "            continue"
      ],
      "execution_count": 0,
      "outputs": []
    },
    {
      "cell_type": "code",
      "metadata": {
        "id": "S3lEqE9lNHnt",
        "colab_type": "code",
        "colab": {}
      },
      "source": [
        "freq = Counter()\n",
        "\n",
        "for g in graphs:\n",
        "    freq.update([g.nodes[node]['lemma'] for node in g.nodes])"
      ],
      "execution_count": 0,
      "outputs": []
    },
    {
      "cell_type": "code",
      "metadata": {
        "id": "mHU3zJzjGggc",
        "colab_type": "code",
        "colab": {}
      },
      "source": [
        "bigrams = []\n",
        "\n",
        "for g in graphs:\n",
        "    for node in g.nodes:\n",
        "        # ищем пары вершина-зависимое VERB + NOUN в Acc\n",
        "        # исключаем словосочетания с предлогами\n",
        "        # и словосочетания со словом \"раз\"\n",
        "        # т. к., на них находятся пары типа \"делать (каждый) раз\"\n",
        "        if g.nodes[node]['ctag'] == 'NOUN' and re.match(\n",
        "            r'.*Case=Acc.*', g.nodes[node]['feats']\n",
        "            ) and g.nodes[node]['head'] and \\\n",
        "                  g.nodes[g.nodes[node]['head']]['ctag'] == 'VERB' and \\\n",
        "                  freq[g.nodes[g.nodes[node]['head']]['lemma']] >= 50 and \\\n",
        "                  not g.nodes[node]['deps']['case'] and \\\n",
        "                  not g.nodes[node]['word'] == 'раз':\n",
        "            bigrams.append((g.nodes[g.nodes[node]['head']]['lemma'],\n",
        "                             g.nodes[node]['word']))"
      ],
      "execution_count": 0,
      "outputs": []
    },
    {
      "cell_type": "code",
      "metadata": {
        "id": "QVTgY35AoGHo",
        "colab_type": "code",
        "outputId": "b8c6a4e6-6bc0-4545-d078-d22d738d6e42",
        "colab": {
          "base_uri": "https://localhost:8080/",
          "height": 34
        }
      },
      "source": [
        "len(bigrams)"
      ],
      "execution_count": 14,
      "outputs": [
        {
          "output_type": "execute_result",
          "data": {
            "text/plain": [
              "2004"
            ]
          },
          "metadata": {
            "tags": []
          },
          "execution_count": 14
        }
      ]
    },
    {
      "cell_type": "code",
      "metadata": {
        "id": "xpQlhF69L3nd",
        "colab_type": "code",
        "outputId": "6ac37fbc-cefa-45a9-acdf-544f36a233f5",
        "colab": {
          "base_uri": "https://localhost:8080/",
          "height": 187
        }
      },
      "source": [
        "Counter(bigrams).most_common(10)"
      ],
      "execution_count": 15,
      "outputs": [
        {
          "output_type": "execute_result",
          "data": {
            "text/plain": [
              "[(('подать', 'иск'), 75),\n",
              " (('принять', 'решение'), 54),\n",
              " (('просить', 'суд'), 46),\n",
              " (('удовлетворить', 'иск'), 46),\n",
              " (('вынести', 'решение'), 43),\n",
              " (('обжаловать', 'решение'), 40),\n",
              " (('вынести', 'приговор'), 32),\n",
              " (('удовлетворить', 'ходатайство'), 26),\n",
              " (('отменить', 'решение'), 23),\n",
              " (('подать', 'жалобу'), 21)]"
            ]
          },
          "metadata": {
            "tags": []
          },
          "execution_count": 15
        }
      ]
    },
    {
      "cell_type": "code",
      "metadata": {
        "id": "CaYg9BPVFp97",
        "colab_type": "code",
        "colab": {}
      },
      "source": [
        "finder = BigramCollocationFinder.from_documents(bigrams)"
      ],
      "execution_count": 0,
      "outputs": []
    },
    {
      "cell_type": "markdown",
      "metadata": {
        "id": "ON_Zi2jNG0rF",
        "colab_type": "text"
      },
      "source": [
        "## **Метрики**"
      ]
    },
    {
      "cell_type": "code",
      "metadata": {
        "id": "FNqfvYGgHTUJ",
        "colab_type": "code",
        "colab": {}
      },
      "source": [
        "bigram_measures = BigramAssocMeasures()"
      ],
      "execution_count": 0,
      "outputs": []
    },
    {
      "cell_type": "code",
      "metadata": {
        "id": "GMbFluI6KWTf",
        "colab_type": "code",
        "colab": {
          "base_uri": "https://localhost:8080/",
          "height": 187
        },
        "outputId": "58b6210d-2069-44f3-9334-c5ff4d330353"
      },
      "source": [
        "scores_likelihood_ratio = finder.score_ngrams(bigram_measures.likelihood_ratio)\n",
        "top100_likelihood_ratio = finder.nbest(bigram_measures.likelihood_ratio, 100)\n",
        "top100_likelihood_ratio[:10]"
      ],
      "execution_count": 18,
      "outputs": [
        {
          "output_type": "execute_result",
          "data": {
            "text/plain": [
              "[('просить', 'суд'),\n",
              " ('подать', 'иск'),\n",
              " ('принять', 'решение'),\n",
              " ('вынести', 'приговор'),\n",
              " ('обжаловать', 'решение'),\n",
              " ('удовлетворить', 'иск'),\n",
              " ('удовлетворить', 'ходатайство'),\n",
              " ('вынести', 'решение'),\n",
              " ('иметь', 'право'),\n",
              " ('отклонить', 'жалобу')]"
            ]
          },
          "metadata": {
            "tags": []
          },
          "execution_count": 18
        }
      ]
    },
    {
      "cell_type": "code",
      "metadata": {
        "id": "MuTmxX4ZKndP",
        "colab_type": "code",
        "colab": {
          "base_uri": "https://localhost:8080/",
          "height": 187
        },
        "outputId": "ed0088a8-f430-45c9-a327-4bf2651abc87"
      },
      "source": [
        "scores_pmi = finder.score_ngrams(bigram_measures.pmi)\n",
        "top100_pmi = finder.nbest(bigram_measures.pmi, 100)\n",
        "top100_pmi[:10]"
      ],
      "execution_count": 19,
      "outputs": [
        {
          "output_type": "execute_result",
          "data": {
            "text/plain": [
              "[('газета', 'предупреждение'),\n",
              " ('говорить', 'друга'),\n",
              " ('нет', 'пос'),\n",
              " ('обратиться', 'ответ'),\n",
              " ('отказаться', 'падение'),\n",
              " ('рассказать', 'замгендиректора'),\n",
              " ('связать', 'подзащитного'),\n",
              " ('и', 'о.'),\n",
              " ('пояснить', 'причину'),\n",
              " ('пояснить', 'суть')]"
            ]
          },
          "metadata": {
            "tags": []
          },
          "execution_count": 19
        }
      ]
    },
    {
      "cell_type": "code",
      "metadata": {
        "id": "nmtRX5QxHw5L",
        "colab_type": "code",
        "outputId": "113f8bec-2b1a-4a6e-d17c-3c20ff3da0e0",
        "colab": {
          "base_uri": "https://localhost:8080/",
          "height": 187
        }
      },
      "source": [
        "scores_dice = finder.score_ngrams(bigram_measures.dice)\n",
        "top100_dice = finder.nbest(bigram_measures.dice, 100)\n",
        "top100_dice[:10]"
      ],
      "execution_count": 20,
      "outputs": [
        {
          "output_type": "execute_result",
          "data": {
            "text/plain": [
              "[('газета', 'предупреждение'),\n",
              " ('говорить', 'друга'),\n",
              " ('нет', 'пос'),\n",
              " ('обратиться', 'ответ'),\n",
              " ('отказаться', 'падение'),\n",
              " ('рассказать', 'замгендиректора'),\n",
              " ('связать', 'подзащитного'),\n",
              " ('просить', 'суд'),\n",
              " ('и', 'о.'),\n",
              " ('напомнить', 'основания')]"
            ]
          },
          "metadata": {
            "tags": []
          },
          "execution_count": 20
        }
      ]
    },
    {
      "cell_type": "markdown",
      "metadata": {
        "id": "ZcolE7rqRmMx",
        "colab_type": "text"
      },
      "source": [
        "# **\"Золотой стандарт\" коллокаций**"
      ]
    },
    {
      "cell_type": "code",
      "metadata": {
        "id": "yvFXT0VJTf9M",
        "colab_type": "code",
        "colab": {
          "base_uri": "https://localhost:8080/",
          "height": 289
        },
        "outputId": "5991c6c8-6fc2-4650-ab44-5896d1a62c76"
      },
      "source": [
        "top_100 = set(top100_likelihood_ratio) & set(top100_pmi) & set(top100_dice)\n",
        "top_100"
      ],
      "execution_count": 21,
      "outputs": [
        {
          "output_type": "execute_result",
          "data": {
            "text/plain": [
              "{('арестовывать', 'счета'),\n",
              " ('взыскать', 'задолженность'),\n",
              " ('взыскать', 'неустойку'),\n",
              " ('доказать', 'невиновность'),\n",
              " ('доказать', 'незаконность'),\n",
              " ('запретить', 'деятельность'),\n",
              " ('заявить', 'отвод'),\n",
              " ('назначить', 'наказание'),\n",
              " ('напомнить', 'основания'),\n",
              " ('объявить', 'голодовку'),\n",
              " ('объявить', 'перерыв'),\n",
              " ('пройти', 'прения'),\n",
              " ('решить', 'проблему'),\n",
              " ('решить', 'проблемы'),\n",
              " ('счесть', 'доводы'),\n",
              " ('требовать', 'Обвинение')}"
            ]
          },
          "metadata": {
            "tags": []
          },
          "execution_count": 21
        }
      ]
    },
    {
      "cell_type": "code",
      "metadata": {
        "id": "K3o168KnUUJP",
        "colab_type": "code",
        "colab": {}
      },
      "source": [
        "with open('verb_coll.txt', 'r') as file:\n",
        "    lines = [line.split() for line in file.read().splitlines()[:-1]]\n",
        "    verb_coll = {(line[-2], line[-1]) for line in lines}"
      ],
      "execution_count": 0,
      "outputs": []
    },
    {
      "cell_type": "code",
      "metadata": {
        "id": "bg4CVCItWHVr",
        "colab_type": "code",
        "colab": {
          "base_uri": "https://localhost:8080/",
          "height": 34
        },
        "outputId": "268df19c-48b3-40a3-a40f-8de7b6605d2e"
      },
      "source": [
        "best_coll = top_100 & verb_coll\n",
        "best_coll"
      ],
      "execution_count": 23,
      "outputs": [
        {
          "output_type": "execute_result",
          "data": {
            "text/plain": [
              "{('объявить', 'перерыв'), ('решить', 'проблему')}"
            ]
          },
          "metadata": {
            "tags": []
          },
          "execution_count": 23
        }
      ]
    },
    {
      "cell_type": "markdown",
      "metadata": {
        "id": "1gexM-8JWwM8",
        "colab_type": "text"
      },
      "source": [
        "# **Улучшение \"золотого стандарта\" вручную**\n",
        "Следующие биграммы из топ-100 не попали в словарь, но, тем не менее, являются коллокациями – т. е. являются устойчивыми словосочетаниями, семантически связаны, существительное биграммы представляет собой единственный внутренний аргумент глагола."
      ]
    },
    {
      "cell_type": "code",
      "metadata": {
        "id": "x5mZPRDtYP5z",
        "colab_type": "code",
        "colab": {}
      },
      "source": [
        "additional_coll = {\n",
        "    ('арестовывать', 'счета'),\n",
        "    ('взыскать', 'задолженность'),\n",
        "    ('взыскать', 'неустойку'),\n",
        "    ('доказать', 'невиновность'),\n",
        "    ('доказать', 'незаконность'),\n",
        "    ('запретить', 'деятельность'),\n",
        "    ('назначить', 'наказание'),\n",
        "    ('объявить', 'голодовку'),\n",
        "}"
      ],
      "execution_count": 0,
      "outputs": []
    },
    {
      "cell_type": "code",
      "metadata": {
        "id": "_VoRXS6BYxoW",
        "colab_type": "code",
        "colab": {
          "base_uri": "https://localhost:8080/",
          "height": 187
        },
        "outputId": "d289dc7a-0562-42ce-a675-46395683d796"
      },
      "source": [
        "best_coll = best_coll | additional_coll\n",
        "best_coll"
      ],
      "execution_count": 25,
      "outputs": [
        {
          "output_type": "execute_result",
          "data": {
            "text/plain": [
              "{('арестовывать', 'счета'),\n",
              " ('взыскать', 'задолженность'),\n",
              " ('взыскать', 'неустойку'),\n",
              " ('доказать', 'невиновность'),\n",
              " ('доказать', 'незаконность'),\n",
              " ('запретить', 'деятельность'),\n",
              " ('назначить', 'наказание'),\n",
              " ('объявить', 'голодовку'),\n",
              " ('объявить', 'перерыв'),\n",
              " ('решить', 'проблему')}"
            ]
          },
          "metadata": {
            "tags": []
          },
          "execution_count": 25
        }
      ]
    },
    {
      "cell_type": "markdown",
      "metadata": {
        "colab_type": "text",
        "id": "fQIRB8sTcA-1"
      },
      "source": [
        "# **Ранговая корреляция результатов метрик для ЗС**"
      ]
    },
    {
      "cell_type": "code",
      "metadata": {
        "id": "mMnmAdQ5dOGn",
        "colab_type": "code",
        "colab": {
          "base_uri": "https://localhost:8080/",
          "height": 34
        },
        "outputId": "863bec8d-26ef-427c-a233-e59172ca8eed"
      },
      "source": [
        "best_likelihood_ratio = [score for score in scores_likelihood_ratio\n",
        "                         if score[0] in best_coll]\n",
        "print(spearmanr(best_likelihood_ratio))"
      ],
      "execution_count": 26,
      "outputs": [
        {
          "output_type": "stream",
          "text": [
            "SpearmanrResult(correlation=0.6565379871744699, pvalue=0.039204386332556754)\n"
          ],
          "name": "stdout"
        }
      ]
    },
    {
      "cell_type": "code",
      "metadata": {
        "id": "SD7642NpceUL",
        "colab_type": "code",
        "colab": {
          "base_uri": "https://localhost:8080/",
          "height": 34
        },
        "outputId": "d7affd15-9f7a-4e67-c5c6-4b653d16ef3a"
      },
      "source": [
        "best_pmi = [score for score in scores_pmi if score[0] in best_coll]\n",
        "print(spearmanr(best_pmi))"
      ],
      "execution_count": 27,
      "outputs": [
        {
          "output_type": "stream",
          "text": [
            "SpearmanrResult(correlation=0.7744046403152623, pvalue=0.008543177424467151)\n"
          ],
          "name": "stdout"
        }
      ]
    },
    {
      "cell_type": "code",
      "metadata": {
        "id": "grriysAIdhQ_",
        "colab_type": "code",
        "colab": {
          "base_uri": "https://localhost:8080/",
          "height": 34
        },
        "outputId": "4ab6642b-17cf-4221-8c3b-6b032d032e28"
      },
      "source": [
        "best_dice = [score for score in scores_dice if score[0] in best_coll]\n",
        "print(spearmanr(best_dice))"
      ],
      "execution_count": 28,
      "outputs": [
        {
          "output_type": "stream",
          "text": [
            "SpearmanrResult(correlation=0.6890371996505876, pvalue=0.027533181700364857)\n"
          ],
          "name": "stdout"
        }
      ]
    },
    {
      "cell_type": "markdown",
      "metadata": {
        "id": "Ve5GpGOQdp3X",
        "colab_type": "text"
      },
      "source": [
        "Самый высокий коэффициент корреляции Спирмена у результатов *PMI*, затем идёт *log-likelihood*, а хуже всех скоррелированы результаты *dice*."
      ]
    },
    {
      "cell_type": "code",
      "metadata": {
        "id": "nAFiPCzzzZJs",
        "colab_type": "code",
        "colab": {}
      },
      "source": [
        ""
      ],
      "execution_count": 0,
      "outputs": []
    }
  ]
}