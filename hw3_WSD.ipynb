{
  "nbformat": 4,
  "nbformat_minor": 0,
  "metadata": {
    "colab": {
      "name": "hw3_WSD.ipynb",
      "provenance": [],
      "collapsed_sections": []
    },
    "kernelspec": {
      "name": "python3",
      "display_name": "Python 3"
    },
    "accelerator": "GPU"
  },
  "cells": [
    {
      "cell_type": "code",
      "metadata": {
        "id": "N2n10omrn3W7",
        "colab_type": "code",
        "colab": {}
      },
      "source": [
        "from IPython.display import clear_output"
      ],
      "execution_count": 0,
      "outputs": []
    },
    {
      "cell_type": "code",
      "metadata": {
        "id": "SqIij98xpVAc",
        "colab_type": "code",
        "colab": {}
      },
      "source": [
        "!pip install git+https://github.com/lopuhin/python-adagram.git\n",
        "!pip install pycodestyle flake8 pycodestyle_magic\n",
        "!pip install wiki-ru-wordnet\n",
        "!pip install pymorphy2[fast]\n",
        "clear_output()"
      ],
      "execution_count": 0,
      "outputs": []
    },
    {
      "cell_type": "code",
      "metadata": {
        "id": "BO-zZkJ4pcMB",
        "colab_type": "code",
        "colab": {}
      },
      "source": [
        "%load_ext pycodestyle_magic"
      ],
      "execution_count": 0,
      "outputs": []
    },
    {
      "cell_type": "code",
      "metadata": {
        "id": "xWEm-3UYbqmf",
        "colab_type": "code",
        "colab": {}
      },
      "source": [
        "import re\n",
        "import adagram\n",
        "import warnings\n",
        "import pandas as pd\n",
        "import numpy as np\n",
        "from pprint import pprint\n",
        "from collections import Counter\n",
        "from pymorphy2 import MorphAnalyzer\n",
        "from wiki_ru_wordnet import WikiWordnet\n",
        "from nltk.tokenize import RegexpTokenizer\n",
        "from sklearn.pipeline import Pipeline\n",
        "from sklearn.metrics import accuracy_score\n",
        "from sklearn.metrics.pairwise import cosine_similarity\n",
        "from sklearn.feature_extraction.text import CountVectorizer\n",
        "from sklearn.feature_extraction.text import TfidfTransformer"
      ],
      "execution_count": 0,
      "outputs": []
    },
    {
      "cell_type": "code",
      "metadata": {
        "id": "35G93exdkwQY",
        "colab_type": "code",
        "colab": {}
      },
      "source": [
        "warnings.filterwarnings('ignore')"
      ],
      "execution_count": 0,
      "outputs": []
    },
    {
      "cell_type": "markdown",
      "metadata": {
        "id": "MZEYhEv9pBYo",
        "colab_type": "text"
      },
      "source": [
        "#**Подбор контекстов**\n",
        "Для слова *острый* я выбрала следующие значения из МАС:\n",
        "\n",
        "*   Имеющий хорошо колющий конец или хорошо режущий край; противоп. тупой.\n",
        "*   Сильно действующий на органы чувств (обоняние, вкус, слух, зрение); резкий.\n",
        "*   Крайне напряженный; критический.<br>\n",
        "\n",
        "Контексты для каждого из значений:\n",
        "\n",
        "*   *острый* + инструмент или оружие\n",
        "*   *острый* + запах или вкус\n",
        "*   *острый* + взаимодействие или взаимоотношение"
      ]
    },
    {
      "cell_type": "code",
      "metadata": {
        "id": "R8vXiro1b2hD",
        "colab_type": "code",
        "colab": {}
      },
      "source": [
        "!wget https://raw.githubusercontent.com/vyhuholl/hw_compling_4th_year/master/ruscorpora_sharp_objects.csv\n",
        "!wget https://raw.githubusercontent.com/vyhuholl/hw_compling_4th_year/master/ruscorpora_sharp_smell.csv\n",
        "!wget https://raw.githubusercontent.com/vyhuholl/hw_compling_4th_year/master/ruscorpora_sharp_conflict.csv\n",
        "clear_output()"
      ],
      "execution_count": 0,
      "outputs": []
    },
    {
      "cell_type": "code",
      "metadata": {
        "id": "088-IhVKcEsS",
        "colab_type": "code",
        "colab": {}
      },
      "source": [
        "df_sharp_objects = pd.read_csv('ruscorpora_sharp_objects.csv')"
      ],
      "execution_count": 0,
      "outputs": []
    },
    {
      "cell_type": "code",
      "metadata": {
        "id": "9JhYdqZEcPWr",
        "colab_type": "code",
        "outputId": "c70cb7bc-72fc-4233-e023-79535a5932b2",
        "colab": {
          "base_uri": "https://localhost:8080/",
          "height": 581
        }
      },
      "source": [
        "df_sharp_objects.head()"
      ],
      "execution_count": 8,
      "outputs": [
        {
          "output_type": "execute_result",
          "data": {
            "text/html": [
              "<div>\n",
              "<style scoped>\n",
              "    .dataframe tbody tr th:only-of-type {\n",
              "        vertical-align: middle;\n",
              "    }\n",
              "\n",
              "    .dataframe tbody tr th {\n",
              "        vertical-align: top;\n",
              "    }\n",
              "\n",
              "    .dataframe thead th {\n",
              "        text-align: right;\n",
              "    }\n",
              "</style>\n",
              "<table border=\"1\" class=\"dataframe\">\n",
              "  <thead>\n",
              "    <tr style=\"text-align: right;\">\n",
              "      <th></th>\n",
              "      <th>Reversed left context</th>\n",
              "      <th>Reversed center</th>\n",
              "      <th>Left context</th>\n",
              "      <th>Center</th>\n",
              "      <th>Punct</th>\n",
              "      <th>Right context</th>\n",
              "      <th>Title</th>\n",
              "      <th>Author</th>\n",
              "      <th>Birthday</th>\n",
              "      <th>Header</th>\n",
              "      <th>Created</th>\n",
              "      <th>Sphere</th>\n",
              "      <th>Type</th>\n",
              "      <th>Topic</th>\n",
              "      <th>Publication</th>\n",
              "      <th>Publ_year</th>\n",
              "      <th>Medium</th>\n",
              "      <th>Ambiguity</th>\n",
              "      <th>Full context</th>\n",
              "    </tr>\n",
              "  </thead>\n",
              "  <tbody>\n",
              "    <tr>\n",
              "      <th>0</th>\n",
              "      <td>етинкторп ,вотог ьсуг отч ,ясьтидебу</td>\n",
              "      <td>мыртсо</td>\n",
              "      <td>убедиться, что гусь готов, проткните</td>\n",
              "      <td>острым</td>\n",
              "      <td></td>\n",
              "      <td>ножом бедро.</td>\n",
              "      <td>Рецепты национальных кухонь: Скандинавская кух...</td>\n",
              "      <td>NaN</td>\n",
              "      <td>NaN</td>\n",
              "      <td>Рецепты национальных кухонь: Скандинавская кухня</td>\n",
              "      <td>2000-2005</td>\n",
              "      <td>бытовая, нехудожественная, производственно-тех...</td>\n",
              "      <td>рецепт</td>\n",
              "      <td>дом и домашнее хозяйство</td>\n",
              "      <td>NaN</td>\n",
              "      <td>NaN</td>\n",
              "      <td>электронный текст</td>\n",
              "      <td>омонимия снята</td>\n",
              "      <td>Для того, чтобы убедиться, что гусь готов, про...</td>\n",
              "    </tr>\n",
              "    <tr>\n",
              "      <th>1</th>\n",
              "      <td>йошьлоб и ― иворк в</td>\n",
              "      <td>йыртсо</td>\n",
              "      <td>в крови ― и большой</td>\n",
              "      <td>острый</td>\n",
              "      <td></td>\n",
              "      <td>нож.</td>\n",
              "      <td>Запись LiveJournal (2004)</td>\n",
              "      <td>NaN</td>\n",
              "      <td>NaN</td>\n",
              "      <td>Запись LiveJournal</td>\n",
              "      <td>2004</td>\n",
              "      <td>нехудожественная, электронная коммуникация</td>\n",
              "      <td>блог</td>\n",
              "      <td>частная жизнь</td>\n",
              "      <td>NaN</td>\n",
              "      <td>NaN</td>\n",
              "      <td>электронный текст</td>\n",
              "      <td>омонимия снята</td>\n",
              "      <td>В руках у безумца ― портфель, в котором лежат ...</td>\n",
              "    </tr>\n",
              "    <tr>\n",
              "      <th>2</th>\n",
              "      <td>тюазерорп и укйенил тюавыдалкирп метаЗ</td>\n",
              "      <td>мыртсо</td>\n",
              "      <td>Затем прикладывают линейку и прорезают</td>\n",
              "      <td>острым</td>\n",
              "      <td></td>\n",
              "      <td>ножом уложенные внахлест оба полотнища.</td>\n",
              "      <td>Елена Волкова. Тот самый линолеум // «Биржа пл...</td>\n",
              "      <td>Елена Волкова</td>\n",
              "      <td>NaN</td>\n",
              "      <td>Тот самый линолеум</td>\n",
              "      <td>2002</td>\n",
              "      <td>нехудожественная, публицистика</td>\n",
              "      <td>статья</td>\n",
              "      <td>дом и домашнее хозяйство</td>\n",
              "      <td>«Биржа плюс свой дом» (Н. Новгород)</td>\n",
              "      <td>2002.08.12</td>\n",
              "      <td>газета</td>\n",
              "      <td>омонимия снята</td>\n",
              "      <td>Затем прикладывают линейку и прорезают острым ...</td>\n",
              "    </tr>\n",
              "    <tr>\n",
              "      <th>3</th>\n",
              "      <td>хынназероп ,хывенчирок хитэ ан лавымердоп</td>\n",
              "      <td>имыртсо</td>\n",
              "      <td>подремывал на этих коричневых, порезанных</td>\n",
              "      <td>острыми</td>\n",
              "      <td></td>\n",
              "      <td>ножиками сиденьях, в головах тоже</td>\n",
              "      <td>Андрей Волос. Недвижимость (2000) // «Новый Ми...</td>\n",
              "      <td>Андрей Волос</td>\n",
              "      <td>1955</td>\n",
              "      <td>Недвижимость</td>\n",
              "      <td>2000</td>\n",
              "      <td>художественная</td>\n",
              "      <td>роман</td>\n",
              "      <td>_</td>\n",
              "      <td>«Новый Мир»</td>\n",
              "      <td>2001</td>\n",
              "      <td>журнал</td>\n",
              "      <td>омонимия снята</td>\n",
              "      <td>Электричка покачивалась, и, наверное, у всех, ...</td>\n",
              "    </tr>\n",
              "    <tr>\n",
              "      <th>4</th>\n",
              "      <td>ёе илырку ино адог авд</td>\n",
              "      <td>еыртсо</td>\n",
              "      <td>два года они укрыли её</td>\n",
              "      <td>острые</td>\n",
              "      <td></td>\n",
              "      <td>лопатки.</td>\n",
              "      <td>Людмила Улицкая. Казус Кукоцкого [Путешествие ...</td>\n",
              "      <td>Людмила Улицкая</td>\n",
              "      <td>1943</td>\n",
              "      <td>Казус Кукоцкого [Путешествие в седьмую сторону...</td>\n",
              "      <td>2000</td>\n",
              "      <td>художественная</td>\n",
              "      <td>роман</td>\n",
              "      <td>_</td>\n",
              "      <td>«Новый Мир»</td>\n",
              "      <td>2000</td>\n",
              "      <td>журнал</td>\n",
              "      <td>омонимия снята</td>\n",
              "      <td>Теперь Таня носила короткие чёрные платья и дл...</td>\n",
              "    </tr>\n",
              "  </tbody>\n",
              "</table>\n",
              "</div>"
            ],
            "text/plain": [
              "                        Reversed left context  ...                                       Full context\n",
              "0        етинкторп ,вотог ьсуг отч ,ясьтидебу  ...  Для того, чтобы убедиться, что гусь готов, про...\n",
              "1                         йошьлоб и ― иворк в  ...  В руках у безумца ― портфель, в котором лежат ...\n",
              "2      тюазерорп и укйенил тюавыдалкирп метаЗ  ...  Затем прикладывают линейку и прорезают острым ...\n",
              "3   хынназероп ,хывенчирок хитэ ан лавымердоп  ...  Электричка покачивалась, и, наверное, у всех, ...\n",
              "4                      ёе илырку ино адог авд  ...  Теперь Таня носила короткие чёрные платья и дл...\n",
              "\n",
              "[5 rows x 19 columns]"
            ]
          },
          "metadata": {
            "tags": []
          },
          "execution_count": 8
        }
      ]
    },
    {
      "cell_type": "code",
      "metadata": {
        "id": "A9tXhVR-cxji",
        "colab_type": "code",
        "colab": {}
      },
      "source": [
        "df_sharp_smell = pd.read_csv('ruscorpora_sharp_smell.csv')"
      ],
      "execution_count": 0,
      "outputs": []
    },
    {
      "cell_type": "code",
      "metadata": {
        "id": "ISLfnhlgc2s4",
        "colab_type": "code",
        "outputId": "172d2439-9f00-4ba4-ad5b-b2e8566219e8",
        "colab": {
          "base_uri": "https://localhost:8080/",
          "height": 598
        }
      },
      "source": [
        "df_sharp_smell.head()"
      ],
      "execution_count": 10,
      "outputs": [
        {
          "output_type": "execute_result",
          "data": {
            "text/html": [
              "<div>\n",
              "<style scoped>\n",
              "    .dataframe tbody tr th:only-of-type {\n",
              "        vertical-align: middle;\n",
              "    }\n",
              "\n",
              "    .dataframe tbody tr th {\n",
              "        vertical-align: top;\n",
              "    }\n",
              "\n",
              "    .dataframe thead th {\n",
              "        text-align: right;\n",
              "    }\n",
              "</style>\n",
              "<table border=\"1\" class=\"dataframe\">\n",
              "  <thead>\n",
              "    <tr style=\"text-align: right;\">\n",
              "      <th></th>\n",
              "      <th>Reversed left context</th>\n",
              "      <th>Reversed center</th>\n",
              "      <th>Left context</th>\n",
              "      <th>Center</th>\n",
              "      <th>Punct</th>\n",
              "      <th>Right context</th>\n",
              "      <th>Title</th>\n",
              "      <th>Author</th>\n",
              "      <th>Birthday</th>\n",
              "      <th>Header</th>\n",
              "      <th>Created</th>\n",
              "      <th>Sphere</th>\n",
              "      <th>Type</th>\n",
              "      <th>Topic</th>\n",
              "      <th>Publication</th>\n",
              "      <th>Publ_year</th>\n",
              "      <th>Medium</th>\n",
              "      <th>Ambiguity</th>\n",
              "      <th>Full context</th>\n",
              "    </tr>\n",
              "  </thead>\n",
              "  <tbody>\n",
              "    <tr>\n",
              "      <th>0</th>\n",
              "      <td>лыб инзиж оге в хапаз</td>\n",
              "      <td>йыртсо</td>\n",
              "      <td>запах в его жизни был</td>\n",
              "      <td>острый</td>\n",
              "      <td></td>\n",
              "      <td>запах асидола ― жидкости для</td>\n",
              "      <td>Эдуард Лимонов. У нас была Великая Эпоха (1987)</td>\n",
              "      <td>Эдуард Лимонов</td>\n",
              "      <td>1943</td>\n",
              "      <td>У нас была Великая Эпоха</td>\n",
              "      <td>1987</td>\n",
              "      <td>художественная</td>\n",
              "      <td>роман</td>\n",
              "      <td>_</td>\n",
              "      <td>NaN</td>\n",
              "      <td>NaN</td>\n",
              "      <td>книга</td>\n",
              "      <td>омонимия снята</td>\n",
              "      <td>Едва ли не первый запомнившийся сыну Вениамина...</td>\n",
              "    </tr>\n",
              "    <tr>\n",
              "      <th>1</th>\n",
              "      <td>с ыткудорП</td>\n",
              "      <td>мыртсо</td>\n",
              "      <td>Продукты с</td>\n",
              "      <td>острым</td>\n",
              "      <td></td>\n",
              "      <td>запахом ( сыр, рыба, копчёности,</td>\n",
              "      <td>Инструкция к холодильнику (1980)</td>\n",
              "      <td>NaN</td>\n",
              "      <td>NaN</td>\n",
              "      <td>Инструкция к холодильнику</td>\n",
              "      <td>1980</td>\n",
              "      <td>нехудожественная, производственно-техническая</td>\n",
              "      <td>инструкция</td>\n",
              "      <td>дом и домашнее хозяйство</td>\n",
              "      <td>NaN</td>\n",
              "      <td>NaN</td>\n",
              "      <td>прочая печатная продукция</td>\n",
              "      <td>омонимия снята</td>\n",
              "      <td>Продукты сострым запахом ( сыр, рыба, копчёнос...</td>\n",
              "    </tr>\n",
              "    <tr>\n",
              "      <th>2</th>\n",
              "      <td>;илокыв залг ьтох ,онмет олыб</td>\n",
              "      <td>йыртсо</td>\n",
              "      <td>было темно, хоть глаз выколи;</td>\n",
              "      <td>острый</td>\n",
              "      <td></td>\n",
              "      <td>запах дыма свидетельствовал, что лучина</td>\n",
              "      <td>Д. В. Григорович. Бобыль (1847)</td>\n",
              "      <td>Д. В. Григорович</td>\n",
              "      <td>1822</td>\n",
              "      <td>Бобыль</td>\n",
              "      <td>1847</td>\n",
              "      <td>художественная</td>\n",
              "      <td>рассказ</td>\n",
              "      <td>_</td>\n",
              "      <td>NaN</td>\n",
              "      <td>NaN</td>\n",
              "      <td>книга</td>\n",
              "      <td>омонимия снята</td>\n",
              "      <td>Совершенная тишина царствовала повсюду; в избе...</td>\n",
              "    </tr>\n",
              "    <tr>\n",
              "      <th>3</th>\n",
              "      <td>и ,осям ястираж ецилу йокзу</td>\n",
              "      <td>йыртсо</td>\n",
              "      <td>узкой улице жарится мясо, и</td>\n",
              "      <td>острый</td>\n",
              "      <td></td>\n",
              "      <td>запах дразнит ноздри.</td>\n",
              "      <td>Дмитрий Шляпентох. Конец Истории: благословенн...</td>\n",
              "      <td>Дмитрий Шляпентох</td>\n",
              "      <td>1950</td>\n",
              "      <td>Конец Истории: благословенный Иов</td>\n",
              "      <td>2013</td>\n",
              "      <td>художественная</td>\n",
              "      <td>повесть</td>\n",
              "      <td>_</td>\n",
              "      <td>«Сибирские огни»</td>\n",
              "      <td>2013</td>\n",
              "      <td>журнал</td>\n",
              "      <td>омонимия не снята</td>\n",
              "      <td>На узкой улице жарится мясо, иострый запах дра...</td>\n",
              "    </tr>\n",
              "    <tr>\n",
              "      <th>4</th>\n",
              "      <td>ее лашылс ,ееш йокосыв ан</td>\n",
              "      <td>йыртсо</td>\n",
              "      <td>на высокой шее, слышал ее</td>\n",
              "      <td>острый</td>\n",
              "      <td></td>\n",
              "      <td>запах.</td>\n",
              "      <td>Роман Шмараков. Лошадь // «Сибирские огни», 2013</td>\n",
              "      <td>Роман Шмараков</td>\n",
              "      <td>1971</td>\n",
              "      <td>Лошадь</td>\n",
              "      <td>2013</td>\n",
              "      <td>художественная</td>\n",
              "      <td>рассказ</td>\n",
              "      <td>_</td>\n",
              "      <td>«Сибирские огни»</td>\n",
              "      <td>2013</td>\n",
              "      <td>журнал</td>\n",
              "      <td>омонимия не снята</td>\n",
              "      <td>В полутьме я видел влажное движенье ее глаз, к...</td>\n",
              "    </tr>\n",
              "  </tbody>\n",
              "</table>\n",
              "</div>"
            ],
            "text/plain": [
              "           Reversed left context  ...                                       Full context\n",
              "0          лыб инзиж оге в хапаз  ...  Едва ли не первый запомнившийся сыну Вениамина...\n",
              "1                     с ыткудорП  ...  Продукты сострым запахом ( сыр, рыба, копчёнос...\n",
              "2  ;илокыв залг ьтох ,онмет олыб  ...  Совершенная тишина царствовала повсюду; в избе...\n",
              "3    и ,осям ястираж ецилу йокзу  ...  На узкой улице жарится мясо, иострый запах дра...\n",
              "4      ее лашылс ,ееш йокосыв ан  ...  В полутьме я видел влажное движенье ее глаз, к...\n",
              "\n",
              "[5 rows x 19 columns]"
            ]
          },
          "metadata": {
            "tags": []
          },
          "execution_count": 10
        }
      ]
    },
    {
      "cell_type": "code",
      "metadata": {
        "id": "sd-YiDqac9V8",
        "colab_type": "code",
        "colab": {}
      },
      "source": [
        "df_sharp_conflict = pd.read_csv('ruscorpora_sharp_conflict.csv')"
      ],
      "execution_count": 0,
      "outputs": []
    },
    {
      "cell_type": "code",
      "metadata": {
        "id": "IZhtRygLdBj6",
        "colab_type": "code",
        "outputId": "60c23430-ca95-4cdc-dd86-20f47be0dfce",
        "colab": {
          "base_uri": "https://localhost:8080/",
          "height": 581
        }
      },
      "source": [
        "df_sharp_conflict.head()"
      ],
      "execution_count": 12,
      "outputs": [
        {
          "output_type": "execute_result",
          "data": {
            "text/html": [
              "<div>\n",
              "<style scoped>\n",
              "    .dataframe tbody tr th:only-of-type {\n",
              "        vertical-align: middle;\n",
              "    }\n",
              "\n",
              "    .dataframe tbody tr th {\n",
              "        vertical-align: top;\n",
              "    }\n",
              "\n",
              "    .dataframe thead th {\n",
              "        text-align: right;\n",
              "    }\n",
              "</style>\n",
              "<table border=\"1\" class=\"dataframe\">\n",
              "  <thead>\n",
              "    <tr style=\"text-align: right;\">\n",
              "      <th></th>\n",
              "      <th>Reversed left context</th>\n",
              "      <th>Reversed center</th>\n",
              "      <th>Left context</th>\n",
              "      <th>Center</th>\n",
              "      <th>Punct</th>\n",
              "      <th>Right context</th>\n",
              "      <th>Title</th>\n",
              "      <th>Author</th>\n",
              "      <th>Birthday</th>\n",
              "      <th>Header</th>\n",
              "      <th>Created</th>\n",
              "      <th>Sphere</th>\n",
              "      <th>Type</th>\n",
              "      <th>Topic</th>\n",
              "      <th>Publication</th>\n",
              "      <th>Publ_year</th>\n",
              "      <th>Medium</th>\n",
              "      <th>Ambiguity</th>\n",
              "      <th>Full context</th>\n",
              "    </tr>\n",
              "  </thead>\n",
              "  <tbody>\n",
              "    <tr>\n",
              "      <th>0</th>\n",
              "      <td>лажлодорП</td>\n",
              "      <td>юуртсо</td>\n",
              "      <td>Продолжал</td>\n",
              "      <td>острую</td>\n",
              "      <td></td>\n",
              "      <td>борьбу против православной церкви и,</td>\n",
              "      <td>З. Н. Гиппиус. Задумчивый странник (о Розанове...</td>\n",
              "      <td>З. Н. Гиппиус</td>\n",
              "      <td>1869</td>\n",
              "      <td>Задумчивый странник (о Розанове)</td>\n",
              "      <td>1923</td>\n",
              "      <td>нехудожественная, публицистика</td>\n",
              "      <td>мемуары</td>\n",
              "      <td>_</td>\n",
              "      <td>NaN</td>\n",
              "      <td>NaN</td>\n",
              "      <td>книга</td>\n",
              "      <td>омонимия снята</td>\n",
              "      <td>Продолжалострую борьбу против православной цер...</td>\n",
              "    </tr>\n",
              "    <tr>\n",
              "      <th>1</th>\n",
              "      <td>огокакин йителитясед окьлоксен еишйажилб в</td>\n",
              "      <td>огортсо</td>\n",
              "      <td>в ближайшие несколько десятилетий никакого</td>\n",
              "      <td>острого</td>\n",
              "      <td></td>\n",
              "      <td>конфликта не будет и быть</td>\n",
              "      <td>коллективный. «Китай грозит Америке войной». К...</td>\n",
              "      <td>коллективный</td>\n",
              "      <td>NaN</td>\n",
              "      <td>«Китай грозит Америке войной». Комментарии к с...</td>\n",
              "      <td>2015</td>\n",
              "      <td>нехудожественная, электронная коммуникация</td>\n",
              "      <td>комментарии читателей</td>\n",
              "      <td>_</td>\n",
              "      <td>NaN</td>\n",
              "      <td>NaN</td>\n",
              "      <td>электронный текст</td>\n",
              "      <td>омонимия не снята</td>\n",
              "      <td>Так что никогда в ближайшие несколько десятиле...</td>\n",
              "    </tr>\n",
              "    <tr>\n",
              "      <th>2</th>\n",
              "      <td>теаджороп и атнетнокоедив яинелбертоп реткарах</td>\n",
              "      <td>еыртсо</td>\n",
              "      <td>характер потребления видеоконтента и порождает</td>\n",
              "      <td>острые</td>\n",
              "      <td></td>\n",
              "      <td>споры об авторских правах и</td>\n",
              "      <td>Андрей Быстрицкий. Сериальная истерия // «Эксп...</td>\n",
              "      <td>Андрей Быстрицкий</td>\n",
              "      <td>NaN</td>\n",
              "      <td>Сериальная истерия</td>\n",
              "      <td>2014</td>\n",
              "      <td>нехудожественная, публицистика</td>\n",
              "      <td>статья</td>\n",
              "      <td>досуг, зрелища и развлечения, искусство и куль...</td>\n",
              "      <td>«Эксперт»</td>\n",
              "      <td>2014</td>\n",
              "      <td>журнал</td>\n",
              "      <td>омонимия не снята</td>\n",
              "      <td>Именно новый характер потребления видеоконтент...</td>\n",
              "    </tr>\n",
              "    <tr>\n",
              "      <th>3</th>\n",
              "      <td>к олевирп йинелватсдерп ыметсис йоксечиссалк</td>\n",
              "      <td>йортсо</td>\n",
              "      <td>классической системы представлений привело к</td>\n",
              "      <td>острой</td>\n",
              "      <td></td>\n",
              "      <td>борьбе между различными подходами к</td>\n",
              "      <td>Георгий Любарский. Мракобесие, или Наших бьют ...</td>\n",
              "      <td>Георгий Любарский</td>\n",
              "      <td>NaN</td>\n",
              "      <td>Мракобесие, или Наших бьют</td>\n",
              "      <td>2013</td>\n",
              "      <td>нехудожественная, публицистика</td>\n",
              "      <td>статья</td>\n",
              "      <td>религия, социология</td>\n",
              "      <td>«Эксперт»</td>\n",
              "      <td>2013</td>\n",
              "      <td>журнал</td>\n",
              "      <td>омонимия не снята</td>\n",
              "      <td>Разрушение классической системы представлений ...</td>\n",
              "    </tr>\n",
              "    <tr>\n",
              "      <th>4</th>\n",
              "      <td>.оговиж мамроф и мадив едерс</td>\n",
              "      <td>еортсО</td>\n",
              "      <td>среде видам и формам живого.</td>\n",
              "      <td>Острое</td>\n",
              "      <td></td>\n",
              "      <td>противоречие между двумя основополагающими те...</td>\n",
              "      <td>Георгий Малинецкий. От прошлого к будущему. Ро...</td>\n",
              "      <td>Георгий Малинецкий</td>\n",
              "      <td>1956</td>\n",
              "      <td>От прошлого к будущему. Российский контекст ме...</td>\n",
              "      <td>2013</td>\n",
              "      <td>нехудожественная, публицистика</td>\n",
              "      <td>статья</td>\n",
              "      <td>биология, математика, наука и технологии</td>\n",
              "      <td>«Знание-сила»</td>\n",
              "      <td>2013</td>\n",
              "      <td>журнал</td>\n",
              "      <td>омонимия не снята</td>\n",
              "      <td>среде видам и формам живого. Острое противореч...</td>\n",
              "    </tr>\n",
              "  </tbody>\n",
              "</table>\n",
              "</div>"
            ],
            "text/plain": [
              "                            Reversed left context  ...                                       Full context\n",
              "0                                       лажлодорП  ...  Продолжалострую борьбу против православной цер...\n",
              "1      огокакин йителитясед окьлоксен еишйажилб в  ...  Так что никогда в ближайшие несколько десятиле...\n",
              "2  теаджороп и атнетнокоедив яинелбертоп реткарах  ...  Именно новый характер потребления видеоконтент...\n",
              "3    к олевирп йинелватсдерп ыметсис йоксечиссалк  ...  Разрушение классической системы представлений ...\n",
              "4                    .оговиж мамроф и мадив едерс  ...  среде видам и формам живого. Острое противореч...\n",
              "\n",
              "[5 rows x 19 columns]"
            ]
          },
          "metadata": {
            "tags": []
          },
          "execution_count": 12
        }
      ]
    },
    {
      "cell_type": "markdown",
      "metadata": {
        "id": "rlYIPPiQdq22",
        "colab_type": "text"
      },
      "source": [
        "# **AdaGram**"
      ]
    },
    {
      "cell_type": "code",
      "metadata": {
        "id": "sP6490wEetza",
        "colab_type": "code",
        "colab": {}
      },
      "source": [
        "!wget https://s3.amazonaws.com/kostia.lopuhin/all.a010.p10.d300.w5.m100.nonorm.slim.joblib\n",
        "clear_output()"
      ],
      "execution_count": 0,
      "outputs": []
    },
    {
      "cell_type": "code",
      "metadata": {
        "id": "tahaockkhQtn",
        "colab_type": "code",
        "colab": {}
      },
      "source": [
        "morph = MorphAnalyzer()"
      ],
      "execution_count": 0,
      "outputs": []
    },
    {
      "cell_type": "code",
      "metadata": {
        "id": "hJweYm2nhRk6",
        "colab_type": "code",
        "colab": {}
      },
      "source": [
        "tokenizer = RegexpTokenizer('[а-яА-ЯёЁ]+')"
      ],
      "execution_count": 0,
      "outputs": []
    },
    {
      "cell_type": "code",
      "metadata": {
        "id": "eg_N6MPReRNq",
        "colab_type": "code",
        "colab": {}
      },
      "source": [
        "vm = adagram.VectorModel.load('all.a010.p10.d300.w5.m100.nonorm.slim.joblib')"
      ],
      "execution_count": 0,
      "outputs": []
    },
    {
      "cell_type": "code",
      "metadata": {
        "id": "wiiLxi0GiQE6",
        "colab_type": "code",
        "colab": {}
      },
      "source": [
        "def lemmatize(text):\n",
        "    return [morph.parse(word)[0].normal_form\n",
        "            for word in tokenizer.tokenize(text) if word]"
      ],
      "execution_count": 0,
      "outputs": []
    },
    {
      "cell_type": "code",
      "metadata": {
        "id": "_lsIgCw0fbxP",
        "colab_type": "code",
        "colab": {}
      },
      "source": [
        "def adagram_disambiguate(df):\n",
        "    contexts = [lemmatize(' '.join([str(df['Left context'][i]).strip(),\n",
        "                                    df['Center'][i].strip(),\n",
        "                                    str(df['Right context'][i]).strip()]))\n",
        "                for i in range(len(df))]\n",
        "    meanings = Counter([np.argmax(vm.disambiguate('острый', context))\n",
        "                        for context in contexts])\n",
        "    return meanings.most_common()[0][0]"
      ],
      "execution_count": 0,
      "outputs": []
    },
    {
      "cell_type": "code",
      "metadata": {
        "id": "EAP-6u0bkRma",
        "colab_type": "code",
        "outputId": "98268024-83f8-406b-e9d8-7c6c0694b4b9",
        "colab": {
          "base_uri": "https://localhost:8080/",
          "height": 34
        }
      },
      "source": [
        "adagram_disambiguate(df_sharp_objects)"
      ],
      "execution_count": 19,
      "outputs": [
        {
          "output_type": "execute_result",
          "data": {
            "text/plain": [
              "3"
            ]
          },
          "metadata": {
            "tags": []
          },
          "execution_count": 19
        }
      ]
    },
    {
      "cell_type": "markdown",
      "metadata": {
        "id": "qlGXrHPmleHk",
        "colab_type": "text"
      },
      "source": [
        "В **AdaGram** значение \"имеющий хорошо колющий конец или хорошо режущий край\" имеет индекс 3."
      ]
    },
    {
      "cell_type": "code",
      "metadata": {
        "id": "UiDC-YwRwmz5",
        "colab_type": "code",
        "outputId": "9431dde3-c866-4330-f12b-ca3fdebb9681",
        "colab": {
          "base_uri": "https://localhost:8080/",
          "height": 187
        }
      },
      "source": [
        "vm.sense_neighbors('острый', 3)"
      ],
      "execution_count": 20,
      "outputs": [
        {
          "output_type": "execute_result",
          "data": {
            "text/plain": [
              "[('заостренный', 1, 0.767315),\n",
              " ('заострять', 2, 0.73238033),\n",
              " ('зазубренный', 1, 0.6713583),\n",
              " ('коготь', 1, 0.6690367),\n",
              " ('зазубрина', 0, 0.6673185),\n",
              " ('тупой', 0, 0.6597572),\n",
              " ('изогнутый', 2, 0.6567419),\n",
              " ('зазубренный', 0, 0.6526937),\n",
              " ('раздваивать', 0, 0.64653206),\n",
              " ('лезвие', 1, 0.6378876)]"
            ]
          },
          "metadata": {
            "tags": []
          },
          "execution_count": 20
        }
      ]
    },
    {
      "cell_type": "code",
      "metadata": {
        "id": "rIK7u_d5lmVL",
        "colab_type": "code",
        "outputId": "28cb892b-7a53-423b-d9fd-da0f09d8fd9d",
        "colab": {
          "base_uri": "https://localhost:8080/",
          "height": 34
        }
      },
      "source": [
        "adagram_disambiguate(df_sharp_smell)"
      ],
      "execution_count": 21,
      "outputs": [
        {
          "output_type": "execute_result",
          "data": {
            "text/plain": [
              "0"
            ]
          },
          "metadata": {
            "tags": []
          },
          "execution_count": 21
        }
      ]
    },
    {
      "cell_type": "markdown",
      "metadata": {
        "id": "mbfQpyzMrp0I",
        "colab_type": "text"
      },
      "source": [
        "В **AdaGram** значение \"сильно действующий на органы чувств\" имеет индекс 0."
      ]
    },
    {
      "cell_type": "code",
      "metadata": {
        "id": "gjKjir4OwxeM",
        "colab_type": "code",
        "outputId": "77f4c43d-16bb-4e19-df02-df6b6364915b",
        "colab": {
          "base_uri": "https://localhost:8080/",
          "height": 187
        }
      },
      "source": [
        "vm.sense_neighbors('острый', 0)"
      ],
      "execution_count": 22,
      "outputs": [
        {
          "output_type": "execute_result",
          "data": {
            "text/plain": [
              "[('пряный', 0, 0.7627666),\n",
              " ('приправлять', 0, 0.7349547),\n",
              " ('приправа', 0, 0.724483),\n",
              " ('пикантный', 0, 0.72239685),\n",
              " ('перец', 1, 0.7065516),\n",
              " ('чесночный', 0, 0.7047403),\n",
              " ('кисло-сладкий', 0, 0.7045822),\n",
              " ('чили', 0, 0.7045208),\n",
              " ('карри', 0, 0.7006191),\n",
              " ('пряность', 0, 0.69331944)]"
            ]
          },
          "metadata": {
            "tags": []
          },
          "execution_count": 22
        }
      ]
    },
    {
      "cell_type": "code",
      "metadata": {
        "id": "benfP--Pr3E0",
        "colab_type": "code",
        "outputId": "6029366a-e0ee-49f7-872b-94287cbfb4d3",
        "colab": {
          "base_uri": "https://localhost:8080/",
          "height": 34
        }
      },
      "source": [
        "adagram_disambiguate(df_sharp_conflict)"
      ],
      "execution_count": 23,
      "outputs": [
        {
          "output_type": "execute_result",
          "data": {
            "text/plain": [
              "2"
            ]
          },
          "metadata": {
            "tags": []
          },
          "execution_count": 23
        }
      ]
    },
    {
      "cell_type": "markdown",
      "metadata": {
        "id": "26L100IgvGsx",
        "colab_type": "text"
      },
      "source": [
        "В **AdaGram** значение \"крайне напряженный; критический\" имеет индекс 2."
      ]
    },
    {
      "cell_type": "code",
      "metadata": {
        "id": "7k6y_on0w1_A",
        "colab_type": "code",
        "outputId": "4f195bb1-66a1-41ed-a0fc-3547db852e3b",
        "colab": {
          "base_uri": "https://localhost:8080/",
          "height": 187
        }
      },
      "source": [
        "vm.sense_neighbors('острый', 2)"
      ],
      "execution_count": 24,
      "outputs": [
        {
          "output_type": "execute_result",
          "data": {
            "text/plain": [
              "[('злободневный', 0, 0.56665105),\n",
              " ('трудноразрешимый', 0, 0.54255724),\n",
              " ('обострять', 0, 0.5176394),\n",
              " ('насущный', 1, 0.51637393),\n",
              " ('назревать', 0, 0.5056267),\n",
              " ('конфликт', 0, 0.49893954),\n",
              " ('нерешенность', 0, 0.49728274),\n",
              " ('болезненный', 2, 0.47874802),\n",
              " ('нарастание', 1, 0.47848767),\n",
              " ('остро', 2, 0.4764235)]"
            ]
          },
          "metadata": {
            "tags": []
          },
          "execution_count": 24
        }
      ]
    },
    {
      "cell_type": "markdown",
      "metadata": {
        "id": "5wTvXYxyxUDY",
        "colab_type": "text"
      },
      "source": [
        "## Припишем каждому словарному толкованию индекс значения **AdaGram**\n",
        "*   **3** – Имеющий хорошо колющий конец или хорошо режущий край; противоп. тупой.\n",
        "*   **0** – Сильно действующий на органы чувств (обоняние, вкус, слух, зрение); резкий.\n",
        "*   **2** – Крайне напряженный; критический.\n",
        "\n",
        "## Accuracy **AdaGram**\n",
        "Посчитаем accuracy для модели **AdaGram**."
      ]
    },
    {
      "cell_type": "code",
      "metadata": {
        "id": "ZqsZ1mnAyS69",
        "colab_type": "code",
        "colab": {}
      },
      "source": [
        "contexts_objects = [lemmatize(\n",
        "    ' '.join([str(df_sharp_objects['Left context'][i]).strip(),\n",
        "              df_sharp_objects['Center'][i].strip(),\n",
        "              str(df_sharp_objects['Right context'][i]).strip()]))\n",
        "    for i in range(len(df_sharp_objects))]\n",
        "contexts_smell = [lemmatize(\n",
        "    ' '.join([str(df_sharp_smell['Left context'][i]).strip(),\n",
        "              df_sharp_smell['Center'][i].strip(),\n",
        "              str(df_sharp_smell['Right context'][i]).strip()]))\n",
        "    for i in range(len(df_sharp_smell))]\n",
        "contexts_conflict = [lemmatize(\n",
        "    ' '.join([str(df_sharp_conflict['Left context'][i]).strip(),\n",
        "              df_sharp_conflict['Center'][i].strip(),\n",
        "              str(df_sharp_conflict['Right context'][i]).strip()]))\n",
        "    for i in range(len(df_sharp_conflict))]\n",
        "contexts = contexts_objects + contexts_smell + contexts_conflict"
      ],
      "execution_count": 0,
      "outputs": []
    },
    {
      "cell_type": "markdown",
      "metadata": {
        "id": "eEB-6lZ-PsNp",
        "colab_type": "text"
      },
      "source": [
        "При составлении *true_labels* будем предполагать, что в выборке из корпуса нет ошибок, и в каждом датасете содержатся только контексты одного значения."
      ]
    },
    {
      "cell_type": "code",
      "metadata": {
        "id": "LAQE6qlk1A99",
        "colab_type": "code",
        "colab": {}
      },
      "source": [
        "true_labels = [3 for i in range(len(df_sharp_objects))] + \\\n",
        "              [0 for i in range(len(df_sharp_smell))] + \\\n",
        "              [2 for i in range(len(df_sharp_conflict))]\n",
        "predicted_labels = [np.argmax(vm.disambiguate('острый', context))\n",
        "                    for context in contexts]"
      ],
      "execution_count": 0,
      "outputs": []
    },
    {
      "cell_type": "code",
      "metadata": {
        "id": "tm3rOVHe1hBr",
        "colab_type": "code",
        "outputId": "a8dfb57c-03c0-4d53-a31e-c68c8b3c1ecf",
        "colab": {
          "base_uri": "https://localhost:8080/",
          "height": 34
        }
      },
      "source": [
        "print(f'Accuracy AdaGram: {accuracy_score(true_labels, predicted_labels)}')"
      ],
      "execution_count": 27,
      "outputs": [
        {
          "output_type": "stream",
          "text": [
            "Accuracy AdaGram: 0.7472959685349065\n"
          ],
          "name": "stdout"
        }
      ]
    },
    {
      "cell_type": "markdown",
      "metadata": {
        "id": "jYB-y84L2x2B",
        "colab_type": "text"
      },
      "source": [
        "Достаточно неплохо.\n",
        "# **WikiWordnet**\n",
        "Придумаем способ соотносить толкования со значениями с помощью тезауруса (**WikiWordnet**). Для этого сначала вытащим из него все значения лексемы \"острый\"."
      ]
    },
    {
      "cell_type": "code",
      "metadata": {
        "id": "iW81is9g57aQ",
        "colab_type": "code",
        "colab": {}
      },
      "source": [
        "wikiwordnet = WikiWordnet()"
      ],
      "execution_count": 0,
      "outputs": []
    },
    {
      "cell_type": "code",
      "metadata": {
        "id": "80G36AdP6AtG",
        "colab_type": "code",
        "colab": {}
      },
      "source": [
        "synsets = wikiwordnet.get_synsets('острый')"
      ],
      "execution_count": 0,
      "outputs": []
    },
    {
      "cell_type": "code",
      "metadata": {
        "id": "iBrPvaN_6H63",
        "colab_type": "code",
        "colab": {}
      },
      "source": [
        "definitions = []\n",
        "\n",
        "for synset in synsets:\n",
        "    for word in synset.get_words():\n",
        "        if word.lemma() == 'острый':\n",
        "            definitions.append(word.definition())"
      ],
      "execution_count": 0,
      "outputs": []
    },
    {
      "cell_type": "code",
      "metadata": {
        "id": "cspUxaPh6YK5",
        "colab_type": "code",
        "outputId": "5ea2ef61-e487-4415-f8f5-dc20f3c1ebe2",
        "colab": {
          "base_uri": "https://localhost:8080/",
          "height": 153
        }
      },
      "source": [
        "pprint(definitions)"
      ],
      "execution_count": 31,
      "outputs": [
        {
          "output_type": "stream",
          "text": [
            "['острый~ru~острый~ru~<!-- 3 --> {{п.}} имеющий [[жгучий]] вкус, раздражающий '\n",
            " 'слизистую оболочку рта {{пример|{{выдел|Острый}} перец.}}~48016~88302',\n",
            " 'острый~ru~острый~ru~<!-- 8 --> [[критический]], [[катастрофичный]] '\n",
            " '{{пример|{{выдел|Острая}} нехватка средств при отсутствии доступных кредитов '\n",
            " 'переросла в финансовый кризис.}}~15128~7782',\n",
            " 'острый~ru~острый~ru~<!-- 1 --> способный легко [[резать]] или '\n",
            " '[[прокалывать]] {{пример|{{выдел|Острый}} нож.}} {{пример|{{выдел|Острая}} '\n",
            " 'игла.|}}~1067~84838']\n"
          ],
          "name": "stdout"
        }
      ]
    },
    {
      "cell_type": "markdown",
      "metadata": {
        "id": "yFaVq_a_6hw4",
        "colab_type": "text"
      },
      "source": [
        "Значения из **WikiWordnet** очень удобно соотносятся с выбранными мной значениями. Запишем индексы **AdaGram** в список в том же порядке, что и соответствующие им значения в списке значений из **WikiWordnet**."
      ]
    },
    {
      "cell_type": "code",
      "metadata": {
        "id": "6hCPS7sSF4eJ",
        "colab_type": "code",
        "colab": {}
      },
      "source": [
        "adagram_indices = [0, 2, 3]"
      ],
      "execution_count": 0,
      "outputs": []
    },
    {
      "cell_type": "markdown",
      "metadata": {
        "id": "IVpzdkYZHcCB",
        "colab_type": "text"
      },
      "source": [
        "Уберём всё ненужное (включая саму лексему \"острый\")."
      ]
    },
    {
      "cell_type": "code",
      "metadata": {
        "id": "geUR5U8J__TB",
        "colab_type": "code",
        "colab": {}
      },
      "source": [
        "regex_to_sub = r'(({{пример\\|{{выдел\\|)?[Оо]стр(ый|ая)|(п\\.))'\n",
        "\n",
        "for i in range(len(definitions)):\n",
        "    definitions[i] = re.sub(regex_to_sub, '', definitions[i])"
      ],
      "execution_count": 0,
      "outputs": []
    },
    {
      "cell_type": "code",
      "metadata": {
        "id": "6mil1RVuEuXB",
        "colab_type": "code",
        "outputId": "5298569b-78f8-4c60-ef75-bfd525c5e2f9",
        "colab": {
          "base_uri": "https://localhost:8080/",
          "height": 136
        }
      },
      "source": [
        "pprint(definitions)"
      ],
      "execution_count": 34,
      "outputs": [
        {
          "output_type": "stream",
          "text": [
            "['~ru~~ru~<!-- 3 --> {{}} имеющий [[жгучий]] вкус, раздражающий слизистую '\n",
            " 'оболочку рта }} перец.}}~48016~88302',\n",
            " '~ru~~ru~<!-- 8 --> [[критический]], [[катастрофичный]] }} нехватка средств '\n",
            " 'при отсутствии доступных кредитов переросла в финансовый '\n",
            " 'кризис.}}~15128~7782',\n",
            " '~ru~~ru~<!-- 1 --> способный легко [[резать]] или [[прокалывать]] }} нож.}} '\n",
            " '}} игла.|}}~1067~84838']\n"
          ],
          "name": "stdout"
        }
      ]
    },
    {
      "cell_type": "markdown",
      "metadata": {
        "id": "yyqlbo7kGW_1",
        "colab_type": "text"
      },
      "source": [
        "Векторизуем корпус контекстов и толкования с помощью **CountVectorizer** и **TfidfTransformer**, сохраним отдельно векторы толкований."
      ]
    },
    {
      "cell_type": "code",
      "metadata": {
        "id": "SeWb1DvZJi26",
        "colab_type": "code",
        "colab": {}
      },
      "source": [
        "pipeline = Pipeline([('count', CountVectorizer()),\n",
        "                     ('tfidf', TfidfTransformer())])"
      ],
      "execution_count": 0,
      "outputs": []
    },
    {
      "cell_type": "code",
      "metadata": {
        "id": "Vrv-QF-fGoUa",
        "colab_type": "code",
        "colab": {}
      },
      "source": [
        "definitions_lemmas = [lemmatize(text) for text in definitions]"
      ],
      "execution_count": 0,
      "outputs": []
    },
    {
      "cell_type": "code",
      "metadata": {
        "id": "G496yvecLY9K",
        "colab_type": "code",
        "colab": {}
      },
      "source": [
        "corpus = [' '.join(text) for text in (contexts + definitions_lemmas)]"
      ],
      "execution_count": 0,
      "outputs": []
    },
    {
      "cell_type": "code",
      "metadata": {
        "id": "dSEzZ0ccJsoK",
        "colab_type": "code",
        "colab": {}
      },
      "source": [
        "definitions_vec = pipeline.fit_transform(corpus).toarray()[-3:]"
      ],
      "execution_count": 0,
      "outputs": []
    },
    {
      "cell_type": "markdown",
      "metadata": {
        "id": "GWVYGfdIKzy_",
        "colab_type": "text"
      },
      "source": [
        "Чтобы получить толкование для нового (уже лемматизированного) контекста, векторизуем этот контекст и найдём наиболее близкий (метрика **cosine similarity**) вектор толкования."
      ]
    },
    {
      "cell_type": "code",
      "metadata": {
        "id": "KHkfb7tvLxGW",
        "colab_type": "code",
        "colab": {}
      },
      "source": [
        "def wordnet_disambiguate(context):\n",
        "    vect = pipeline.transform([' '.join(context)]).toarray()\n",
        "    result_idx = np.argmax([cosine_similarity(vect, def_vect.reshape(1, -1))\n",
        "                            for def_vect in definitions_vec])\n",
        "    return definitions[result_idx], adagram_indices[result_idx]"
      ],
      "execution_count": 0,
      "outputs": []
    },
    {
      "cell_type": "markdown",
      "metadata": {
        "id": "UDPtnp0cNwYb",
        "colab_type": "text"
      },
      "source": [
        "# **Accuracy для WikiWordnet и AdaGram**\n",
        "Посчитаем, в какой доле контекстов автоматически определённое с помощью **AdaGram** значение для контекста совпадает с автоматически определённым с помощью **WikiWordnet** значением толкования. *true_labels* – значения **WikiWordnet**, *predicted_labels* – значения **AdaGram**."
      ]
    },
    {
      "cell_type": "code",
      "metadata": {
        "id": "Tf-lE9COOwaw",
        "colab_type": "code",
        "colab": {}
      },
      "source": [
        "true_labels = [wordnet_disambiguate(context)[1] for context in contexts]\n",
        "predicted_labels = [np.argmax(vm.disambiguate('острый', context))\n",
        "                    for context in contexts]"
      ],
      "execution_count": 0,
      "outputs": []
    },
    {
      "cell_type": "code",
      "metadata": {
        "id": "mlP8F_9SQjlZ",
        "colab_type": "code",
        "colab": {
          "base_uri": "https://localhost:8080/",
          "height": 34
        },
        "outputId": "bcfe726a-11cb-43a3-d1ae-cab0097ea82a"
      },
      "source": [
        "print(f'Accuracy: {accuracy_score(true_labels, predicted_labels)}')"
      ],
      "execution_count": 41,
      "outputs": [
        {
          "output_type": "stream",
          "text": [
            "Accuracy: 0.2753195673549656\n"
          ],
          "name": "stdout"
        }
      ]
    },
    {
      "cell_type": "markdown",
      "metadata": {
        "id": "0TgrIUTdRSmm",
        "colab_type": "text"
      },
      "source": [
        "А вот сейчас accuracy значительно снизилась. Вероятно, **tf-idf** плохо подходит для автоматического определения значений толкований."
      ]
    },
    {
      "cell_type": "code",
      "metadata": {
        "id": "MwUhDyN7F0Qf",
        "colab_type": "code",
        "colab": {}
      },
      "source": [
        ""
      ],
      "execution_count": 0,
      "outputs": []
    }
  ]
}